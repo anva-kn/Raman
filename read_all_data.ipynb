{
 "cells": [
  {
   "cell_type": "markdown",
   "id": "f2561868-9d46-46cf-8658-d423d6fad15d",
   "metadata": {},
   "source": [
    "# Reading data\n",
    "## This notebook is to provide all the data again if the archives of the data are somehow lost"
   ]
  },
  {
   "cell_type": "markdown",
   "id": "e4b3d906-7d0a-4ab0-a17f-99a490e20140",
   "metadata": {},
   "source": [
    "### Import necessary modules"
   ]
  },
  {
   "cell_type": "code",
   "execution_count": 1,
   "id": "93c57f1c-0bde-4477-a601-92f709a4d9ba",
   "metadata": {},
   "outputs": [],
   "source": [
    "from tools.ramanflow.read_data import ReadData as RD\n",
    "import numpy as np"
   ]
  },
  {
   "cell_type": "markdown",
   "id": "869b528a-5bf6-4c2e-b3aa-9d1c0eaa24b3",
   "metadata": {},
   "source": [
    "### 2021-03-19 data"
   ]
  },
  {
   "cell_type": "code",
   "execution_count": 2,
   "id": "19fe487d-60c5-481b-b224-40c2abacd93b",
   "metadata": {},
   "outputs": [],
   "source": [
    "f_sup_0319, MG_colloidal_SERS_test_20210319 = RD.read_dir_tiff_files('data/20210319 MG colloidal SERS test')"
   ]
  },
  {
   "cell_type": "markdown",
   "id": "f84ba7f1-4dcc-42d2-82b4-d4abd5dc69f1",
   "metadata": {},
   "source": [
    "### 2021-03-31 data"
   ]
  },
  {
   "cell_type": "code",
   "execution_count": 3,
   "id": "4fdb3024-8584-47b0-957a-9a17c91e5998",
   "metadata": {},
   "outputs": [],
   "source": [
    "f_sup_0331, MG_colloidal_SERS_test_20210331 = RD.read_dir_tiff_files('data/20210331 MG colloidal SERS2')\n",
    "_, batch2_power_test_20210331 = RD.read_dir_tiff_files('data/20210331 MG colloidal SERS2/batch2_power_test')\n",
    "_, HWP36_to_80_step2_10s_20210331 = RD.read_dir_tiff_files('data/20210331 MG colloidal SERS2/batch2_power_test/10s_from_HWP36_to_80_step2')"
   ]
  },
  {
   "cell_type": "markdown",
   "id": "2f61027e-5506-4b5c-a175-b2f89e67405c",
   "metadata": {},
   "source": [
    "### 2021-04-27 data"
   ]
  },
  {
   "cell_type": "code",
   "execution_count": 4,
   "id": "927394af-d85e-460f-aa04-8191b8e0826a",
   "metadata": {},
   "outputs": [],
   "source": [
    "f_sup_0427, MG_ACE_ACETAMIPRID_colloidal_SERS3_20210427 = RD.read_dir_tiff_files('data/20210427 MG ACE ACETAMIPRID colloidal SERS3')\n",
    "_, MG_1_5ppb_0427 = RD.read_dir_tiff_files('data/20210427 MG ACE ACETAMIPRID colloidal SERS3/1_5ppb_MG')\n",
    "_, MG_15ppb_0427 = RD.read_dir_tiff_files('data/20210427 MG ACE ACETAMIPRID colloidal SERS3/15ppb_MG')\n",
    "_, MG_150ppb_0427 = RD.read_dir_tiff_files('data/20210427 MG ACE ACETAMIPRID colloidal SERS3/150ppb_MG')\n",
    "_, ACE_0427 = RD.read_dir_tiff_files('data/20210427 MG ACE ACETAMIPRID colloidal SERS3/ACE')\n",
    "_, Acetamiprid_0427 = RD.read_dir_tiff_files('data/20210427 MG ACE ACETAMIPRID colloidal SERS3/Acetamiprid')"
   ]
  },
  {
   "cell_type": "markdown",
   "id": "ff6c60e9-e479-4e46-9d55-7733711be222",
   "metadata": {},
   "source": [
    "### 2021-07-07 data"
   ]
  },
  {
   "cell_type": "code",
   "execution_count": 5,
   "id": "f6131bae-20eb-4810-95b1-ab943f331e2a",
   "metadata": {},
   "outputs": [],
   "source": [
    "f_sup_0707, Carbendazim_0707 = RD.read_dir_tiff_files('data/20210707 colloidal SERS multiple analytes/1_Carbendanzim')\n",
    "_, Carbendazim_0707_power_test = RD.read_dir_tiff_files('data/20210707 colloidal SERS multiple analytes/1_Carbendanzim/HWP42 to 82 step4 1s 5x5map 10xzoom')\n",
    "_, Thiacloprid_0707 = RD.read_dir_tiff_files('data/20210707 colloidal SERS multiple analytes/2_Thiacloprid')\n",
    "_, Thiacloprid_0707_power_test = RD.read_dir_tiff_files('data/20210707 colloidal SERS multiple analytes/2_Thiacloprid/HWP42 to 82 step4 1s 5x5map 10xzoom')\n",
    "_, Imidacloprid_0707 = RD.read_dir_tiff_files('data/20210707 colloidal SERS multiple analytes/3_Imidacloprid')\n",
    "_, Imidacloprid_0707_power_test = RD.read_dir_tiff_files('data/20210707 colloidal SERS multiple analytes/3_Imidacloprid/HWP42 to 62 step2 1s 6x6map 10xzoom')\n",
    "_, Acetamiprid_0707 = RD.read_dir_tiff_files('data/20210707 colloidal SERS multiple analytes/4_Acetamiprid')\n",
    "_, Acetamiprid_0707_power_test = RD.read_dir_tiff_files('data/20210707 colloidal SERS multiple analytes/4_Acetamiprid/HWP42 to 62 step2 1s 6x6map 10xzoom')\n",
    "_, Acephate_0707 = RD.read_dir_tiff_files('data/20210707 colloidal SERS multiple analytes/5_Acephate')\n",
    "_, Acephate_0707_power_test = RD.read_dir_tiff_files('data/20210707 colloidal SERS multiple analytes/5_Acephate/HWP42 to 62 step2 1s 6x6map 10xzoom')\n",
    "_, MG_150ppb_0707 = RD.read_dir_tiff_files('data/20210707 colloidal SERS multiple analytes/150ppb_MG test')\n",
    "_, MG_150ppb_0707_power_test = RD.read_dir_tiff_files('data/20210707 colloidal SERS multiple analytes/150ppb_MG test/HWP42 to 82 step4 1s 5x5map 10xzoom new colloids')\n",
    "_, Acetamiprid_with_150ppb_MG = RD.read_tiff_file('data/20210707 colloidal SERS multiple analytes/Mix Acetamiprid with 0.1ml of 150ppb_MG/2ml Acetamiprid colloidal plus 0.1ml 150ppb_MG mix 1s 32x32 HWP50.tif')\n",
    "_, Acetamiprid_with_150ppb_MG_power_test = RD.read_dir_tiff_files('data/20210707 colloidal SERS multiple analytes/Mix Acetamiprid with 0.1ml of 150ppb_MG/HWP42 to 62 step2 1s 6x6map 10xzoom')"
   ]
  },
  {
   "cell_type": "markdown",
   "id": "d687eac4-aed5-4f72-9110-3aac415dcb90",
   "metadata": {},
   "source": [
    "### 2021-07-22 data"
   ]
  },
  {
   "cell_type": "code",
   "execution_count": 6,
   "id": "ba22d1f0-bbc0-456a-ab54-476a7f5dff0b",
   "metadata": {},
   "outputs": [],
   "source": [
    "f_sup_0722, colloidal_SERS_multiple_analytes_20210722 = RD.read_dir_tiff_files('data/20210722 colloidal SERS multiple analytes')\n",
    "_, Carbendazim_0722 = RD.read_dir_tiff_files('data/20210722 colloidal SERS multiple analytes/1_Carbendanzim')\n",
    "_, Carbendazim_0722_power_test = RD.read_dir_tiff_files('data/20210722 colloidal SERS multiple analytes/1_Carbendanzim/HWP42 to 62 step2 1s 6x6map 10xzoom')\n",
    "_, Thiacloprid_0722 = RD.read_dir_tiff_files('data/20210722 colloidal SERS multiple analytes/2_Thiacloprid')\n",
    "_, Thiacloprid_0722_power_test = RD.read_dir_tiff_files('data/20210722 colloidal SERS multiple analytes/2_Thiacloprid/HWP42 to 62 step2 1s 6x6map 10xzoom')\n",
    "_, Imidacloprid_0722 = RD.read_dir_tiff_files('data/20210722 colloidal SERS multiple analytes/3_Imidacloprid')\n",
    "_, Imidacloprid_0722_power_test = RD.read_dir_tiff_files('data/20210722 colloidal SERS multiple analytes/3_Imidacloprid/HWP42 to 62 step2 1s 6x6map 10xzoom')\n",
    "_, Acetamiprid_0722 = RD.read_dir_tiff_files('data/20210722 colloidal SERS multiple analytes/4_Acetamiprid')\n",
    "_, Acetamiprid_0722_power_test = RD.read_dir_tiff_files('data/20210722 colloidal SERS multiple analytes/4_Acetamiprid/HWP42 to 62 step2 1s 6x6map 10xzoom')\n",
    "_, Acephate_0722 = RD.read_dir_tiff_files('data/20210722 colloidal SERS multiple analytes/5_Acephate')\n",
    "_, Acephate_0722_power_test = RD.read_dir_tiff_files('data/20210722 colloidal SERS multiple analytes/5_Acephate/HWP42 to 62 step2 1s 6x6map 10xzoom')"
   ]
  },
  {
   "cell_type": "markdown",
   "id": "1c140e9b-f90b-433f-bb67-7017e678fec7",
   "metadata": {},
   "source": [
    "### 2021-08-10 data"
   ]
  },
  {
   "cell_type": "code",
   "execution_count": 7,
   "id": "6797f543-662f-402c-9f59-c61d6038c85d",
   "metadata": {},
   "outputs": [],
   "source": [
    "f_sup_0810, Carbendazim_0810 = RD.read_dir_tiff_files('data/20210810 SERS timed immersion experiment/1')\n",
    "_, Carbendazim_Acetamiprid_0810 = RD.read_dir_tiff_files('data/20210810 SERS timed immersion experiment/1+4')\n",
    "_, Carbendazim_Acetamiprid_Acephate_0810 = RD.read_dir_tiff_files('data/20210810 SERS timed immersion experiment/1+4+5')\n",
    "_, Carbendazim_Acephate_0810 = RD.read_dir_tiff_files('data/20210810 SERS timed immersion experiment/1+5')\n",
    "_, Acetamiprid_0810 = RD.read_dir_tiff_files('data/20210810 SERS timed immersion experiment/4')\n",
    "_, Acetamiprid_Acephate_0810 = RD.read_dir_tiff_files('data/20210810 SERS timed immersion experiment/4+5')\n",
    "_, Acephate_0810 = RD.read_dir_tiff_files('data/20210810 SERS timed immersion experiment/5')\n",
    "_, colloids_0810 = RD.read_dir_tiff_files('data/20210810 SERS timed immersion experiment/colloidal solution')"
   ]
  },
  {
   "cell_type": "markdown",
   "id": "0fb5e831-8f31-424b-a57e-68fb6065906c",
   "metadata": {},
   "source": [
    "### 2021-08-11 data"
   ]
  },
  {
   "cell_type": "code",
   "execution_count": 8,
   "id": "ae8acc41-97e1-4453-a118-a495ae7997f3",
   "metadata": {},
   "outputs": [],
   "source": [
    "f_sup_0811, Carbendazim_0811 = RD.read_dir_tiff_files('data/20210811 SERS timed immersion experiment/1')\n",
    "_, Carbendazim_Acetamiprid_0811 = RD.read_dir_tiff_files('data/20210811 SERS timed immersion experiment/1+4')\n",
    "_, Carbendazim_Acetamiprid_Acephate_0811 = RD.read_dir_tiff_files('data/20210811 SERS timed immersion experiment/1+4+5')\n",
    "_, Carbendazim_Acephate_0811 = RD.read_dir_tiff_files('data/20210811 SERS timed immersion experiment/1+5')\n",
    "_, Acetamiprid_0811 = RD.read_dir_tiff_files('data/20210811 SERS timed immersion experiment/4')\n",
    "_, Acetamiprid_Acephate_0811 = RD.read_dir_tiff_files('data/20210811 SERS timed immersion experiment/4+5')\n",
    "_, Acephate_0811 = RD.read_dir_tiff_files('data/20210811 SERS timed immersion experiment/5')\n",
    "_, MG_150ppb_0811 = RD.read_dir_tiff_files('data/20210811 SERS timed immersion experiment/MG_150ppb')"
   ]
  },
  {
   "cell_type": "markdown",
   "id": "7e411458-6059-4ee5-ba96-4802e70754ec",
   "metadata": {},
   "source": [
    "### 2021-08-13 data"
   ]
  },
  {
   "cell_type": "code",
   "execution_count": 9,
   "id": "a3610913-4dbd-4292-86ac-51e55b8f3017",
   "metadata": {},
   "outputs": [],
   "source": [
    "f_sup_0813, Carbendazim_0813 = RD.read_dir_tiff_files('data/20210813 SERS timed immersion experiment/1')\n",
    "_, Carbendazim_Acetamiprid_0813 = RD.read_dir_tiff_files('data/20210813 SERS timed immersion experiment/1+4')\n",
    "_, Carbendazim_Acetamiprid_Acephate_0813 = RD.read_dir_tiff_files('data/20210813 SERS timed immersion experiment/1+4+5')\n",
    "_, Carbendazim_Acephate_0813 = RD.read_dir_tiff_files('data/20210813 SERS timed immersion experiment/1+5')\n",
    "_, Old_Carbendazim_old_colloids_0813 = RD.read_dir_tiff_files('data/20210813 SERS timed immersion experiment/1o+o')\n",
    "_, Carbendazim_old_colloids_0813 = RD.read_dir_tiff_files('data/20210813 SERS timed immersion experiment/1+o')\n",
    "_, Acetamiprid_Acephate_0813 = RD.read_dir_tiff_files('data/20210813 SERS timed immersion experiment/4+5')\n",
    "_, Acetamiprid_old_colloids_0813 = RD.read_dir_tiff_files('data/20210813 SERS timed immersion experiment/4+o')\n",
    "_, Old_Acetamiprid_old_colloids_0813 = RD.read_dir_tiff_files('data/20210813 SERS timed immersion experiment/4o+o')\n",
    "_, Acetamiprid_0813 = RD.read_dir_tiff_files('data/20210813 SERS timed immersion experiment/4')\n",
    "_, Acephate_0813 = RD.read_dir_tiff_files('data/20210813 SERS timed immersion experiment/5')"
   ]
  },
  {
   "cell_type": "markdown",
   "id": "4a5648d3-26bd-437f-b732-e81b83308058",
   "metadata": {},
   "source": [
    "### 2021-03-18 data"
   ]
  },
  {
   "cell_type": "code",
   "execution_count": 10,
   "id": "698c6883-67d3-4201-a338-612e7488e410",
   "metadata": {},
   "outputs": [],
   "source": [
    "f_sup_0818, Carbendazim_0818 = RD.read_dir_tiff_files('data/20210818 SERS timed immersion experiment/1')\n",
    "_, Carbendazim_Acetamiprid_0818 = RD.read_dir_tiff_files('data/20210818 SERS timed immersion experiment/1+4')\n",
    "_, Carbendazim_Acetamiprid_Acephate_0818 = RD.read_dir_tiff_files('data/20210818 SERS timed immersion experiment/1+4+5')\n",
    "_, Carbendazim_Acephate_0818 = RD.read_dir_tiff_files('data/20210818 SERS timed immersion experiment/1+5')\n",
    "_, Carbendazim_old_colloids_0818 = RD.read_dir_tiff_files('data/20210818 SERS timed immersion experiment/1+o')\n",
    "_, Carbendazim_old_colloids_v2_0818 = RD.read_dir_tiff_files('data/20210818 SERS timed immersion experiment/1o+Co')\n",
    "_, Carbendazim_old_colloids_v3_0818 = RD.read_dir_tiff_files('data/20210818 SERS timed immersion experiment/1oo+oo')\n",
    "_, Acetamiprid_0818 = RD.read_dir_tiff_files('data/20210818 SERS timed immersion experiment/4')\n",
    "_, Acetamiprid_Acephate_0818 = RD.read_dir_tiff_files('data/20210818 SERS timed immersion experiment/4+5')\n",
    "_, Acetamiprid_old_colloids_0818 = RD.read_dir_tiff_files('data/20210818 SERS timed immersion experiment/4+o')\n",
    "_, Acetamiprid_old_colloids_v2_0818 = RD.read_dir_tiff_files('data/20210818 SERS timed immersion experiment/4o+o')\n",
    "_, Acetamiprid_old_colloids_v3_0818 = RD.read_dir_tiff_files('data/20210818 SERS timed immersion experiment/4oo+oo')\n",
    "_, Acephate_0818 = RD.read_dir_tiff_files('data/20210818 SERS timed immersion experiment/5')"
   ]
  },
  {
   "cell_type": "markdown",
   "id": "8f037b7e-1e4a-4fbc-b042-09f912fec661",
   "metadata": {},
   "source": [
    "### Unknown data???"
   ]
  },
  {
   "cell_type": "code",
   "execution_count": 11,
   "id": "80767649-c576-4ada-baec-91d1508c1889",
   "metadata": {},
   "outputs": [],
   "source": [
    "f_sup_unknown, analyte_unknown = RD.read_dat_file('data/anvar 10-29/area1_Exported.dat')"
   ]
  },
  {
   "cell_type": "markdown",
   "id": "d99e940c-55f0-4fad-b8ee-9b4d3eec1477",
   "metadata": {},
   "source": [
    "### Older MG data (Substrate)"
   ]
  },
  {
   "cell_type": "code",
   "execution_count": 12,
   "id": "949e29a7-fb34-45e8-9986-3730b521d9f8",
   "metadata": {},
   "outputs": [],
   "source": [
    "f_sup_set_1, MG_set1 = RD.read_dir_tiff_files('data/MG set 1')\n",
    "\n",
    "f_sup_set_3, MG_set3 = RD.read_dir_dat_files('data/MG-3_15000_ppb')\n",
    "\n",
    "f_sup_set_4, MG_set4 = RD.read_dir_dat_files('data/MG-4_1500_ppb')\n",
    "\n",
    "f_sup_set_5, MG_set5 = RD.read_dir_dat_files('data/MG-5_150_ppb')"
   ]
  },
  {
   "cell_type": "markdown",
   "id": "cbb1eb01-da4f-45c9-8a1f-45b26b4b3dcd",
   "metadata": {},
   "source": [
    "### Mixes of analytes"
   ]
  },
  {
   "cell_type": "code",
   "execution_count": 13,
   "id": "8f4b98fc-93d7-4ea9-b4f8-cd8df1e9f2f5",
   "metadata": {},
   "outputs": [],
   "source": [
    "f_sup_mix_analytes, Acephate_10_2M = RD.read_dir_tiff_files('data/SERS with mix analyte/Acephate 10-2M 5715minutes')\n",
    "_, MG_10_5M = RD.read_dir_tiff_files('data/SERS with mix analyte/MG 10-5M 930minutes')\n",
    "_, mix_1115_min_1 = RD.read_tiff_file('data/SERS with mix analyte/mix/1115min/Mix-SERS-A-(1)-1115min_532nm_Newton_105um _ND1-51_20x-NA0.75_1500ms 1avg 2box (S-S-H-C).tif')\n",
    "_, mix_1115_min_2 = RD.read_tiff_file('data/SERS with mix analyte/mix/1115min/Mix-SERS-A-(2)-1115min_532nm_Newton_105um _ND1-51_20x-NA0.75_1500ms 1avg 2box (S-S-H-C).tif')\n",
    "mix_1115_min = np.concatenate((mix_1115_min_1, mix_1115_min_2), axis=0)\n",
    "\n",
    "_, mix_4027_min_1 = RD.read_tiff_file('data/SERS with mix analyte/mix/4027min/Mix-SERS-A-(1)-4027min_532nm_Newton_105um _ND1-51_20x-NA0.75_1500ms 1avg 2box (S-S-H-C).tif')\n",
    "_, mix_4027_min_2 = RD.read_tiff_file('data/SERS with mix analyte/mix/4027min/Mix-SERS-A-(2)-4027min_532nm_Newton_105um _ND1-51_20x-NA0.75_1500ms 1avg 2box (S-S-H-C).tif')\n",
    "mix_4027_min = np.concatenate((mix_4027_min_1, mix_4027_min_2), axis=0)"
   ]
  },
  {
   "cell_type": "markdown",
   "id": "e3836b66-16eb-4545-9f36-2402ba83b5ba",
   "metadata": {},
   "source": [
    "### Some Acephate data"
   ]
  },
  {
   "cell_type": "code",
   "execution_count": 14,
   "id": "ba70fa10-320c-49e0-9e3c-7ac6cc95a6f3",
   "metadata": {},
   "outputs": [],
   "source": [
    "f_sup_acephate, Acephate_exported = RD.read_dat_file('data/Acephate_Exported.dat')"
   ]
  },
  {
   "cell_type": "markdown",
   "id": "b9d79368-8f85-4e46-8b54-8bcd9303ea29",
   "metadata": {},
   "source": [
    "### Combine all MG data"
   ]
  },
  {
   "cell_type": "code",
   "execution_count": 15,
   "id": "a927a23c-bbbd-4ec9-97ed-036264a4e81a",
   "metadata": {},
   "outputs": [],
   "source": [
    "MG = {**MG_10_5M, **MG_colloidal_SERS_test_20210319, **MG_colloidal_SERS_test_20210331, **MG_ACE_ACETAMIPRID_colloidal_SERS3_20210427,\n",
    "      **MG_set5, **MG_set1, **MG_set3, **MG_set4, **MG_1_5ppb_0427, **MG_15ppb_0427, **MG_150ppb_0427, **MG_150ppb_0707,\n",
    "      **MG_150ppb_0707, **MG_150ppb_0811, **MG_150ppb_0707_power_test, **MG_150ppb_0707_power_test, **HWP36_to_80_step2_10s_20210331,\n",
    "      **batch2_power_test_20210331}"
   ]
  },
  {
   "cell_type": "markdown",
   "id": "507f7ff6-8d45-4657-abe9-9229375dc93d",
   "metadata": {},
   "source": [
    "### Combine all Carbendazim data"
   ]
  },
  {
   "cell_type": "code",
   "execution_count": 16,
   "id": "00a6883a-6944-47fa-b62a-0f2d95a0a72f",
   "metadata": {},
   "outputs": [],
   "source": [
    "Carbendazim = {**Carbendazim_0707, **Carbendazim_0707_power_test, **Carbendazim_0722, **Carbendazim_0722_power_test,\n",
    "               **Carbendazim_0810, **Carbendazim_0811, **Carbendazim_0813, **Carbendazim_0818, **Carbendazim_old_colloids_0813,\n",
    "               **Carbendazim_old_colloids_0818, **Old_Carbendazim_old_colloids_0813}"
   ]
  },
  {
   "cell_type": "markdown",
   "id": "a8de0361-10fc-47ac-9efa-980cacef6feb",
   "metadata": {},
   "source": [
    "### Combine all Thiacloprid data"
   ]
  },
  {
   "cell_type": "code",
   "execution_count": 17,
   "id": "77d44768-26c6-488b-b889-0984927d1dc0",
   "metadata": {},
   "outputs": [],
   "source": [
    "Thiacloprid = {**Thiacloprid_0707, **Thiacloprid_0707_power_test, **Thiacloprid_0722, **Thiacloprid_0722_power_test}"
   ]
  },
  {
   "cell_type": "markdown",
   "id": "29c1fc19-48bd-4cc4-97c9-692e17b137b9",
   "metadata": {},
   "source": [
    "### Combine all Imidacloprid data"
   ]
  },
  {
   "cell_type": "code",
   "execution_count": 18,
   "id": "9c94cf54-0b1d-4c5f-9ac3-8da1776632c7",
   "metadata": {},
   "outputs": [],
   "source": [
    "Imidacloprid = {**Imidacloprid_0707, **Imidacloprid_0707_power_test, **Imidacloprid_0722, **Imidacloprid_0722_power_test}"
   ]
  },
  {
   "cell_type": "markdown",
   "id": "97de786b-d0a0-4f40-9a5b-3bfbce9b3720",
   "metadata": {},
   "source": [
    "### Combine all Acetamiprid data"
   ]
  },
  {
   "cell_type": "code",
   "execution_count": 19,
   "id": "fa1c9b4f-d6d4-40e4-9785-565c7f8b7977",
   "metadata": {},
   "outputs": [],
   "source": [
    "Acetamiprid = {**Acetamiprid_0707, **Acetamiprid_0707_power_test, **Acetamiprid_0722, **Acetamiprid_0722_power_test,\n",
    "               **Acetamiprid_0810, **Acetamiprid_0811, **Acetamiprid_0813, **Acetamiprid_0818, **Acetamiprid_0427,\n",
    "               **Acetamiprid_old_colloids_0813, **Acetamiprid_old_colloids_0818, **Acetamiprid_old_colloids_v2_0818,\n",
    "               **Acetamiprid_old_colloids_v3_0818, **Old_Acetamiprid_old_colloids_0813}"
   ]
  },
  {
   "cell_type": "markdown",
   "id": "2faa25a8-594c-41bb-8b79-726c83292d07",
   "metadata": {},
   "source": [
    "### Combine all Acephate data"
   ]
  },
  {
   "cell_type": "code",
   "execution_count": 20,
   "id": "19f49f43-f571-4b6c-a3c5-1be2ff95d740",
   "metadata": {},
   "outputs": [],
   "source": [
    "Acephate = {**Acephate_0707, **Acephate_0707_power_test, **Acephate_0722, **Acephate_0722_power_test, **Acephate_0810,\n",
    "            **Acephate_0811, **Acephate_0813, **Acephate_0818, **Acephate_10_2M, **ACE_0427}"
   ]
  },
  {
   "cell_type": "markdown",
   "id": "d1ae34ad-e9fb-4da5-967a-e5c4eda200c5",
   "metadata": {},
   "source": [
    "#### Need to add Acephate_Exported"
   ]
  },
  {
   "cell_type": "markdown",
   "id": "5e96afd9-31ea-42d5-8535-a55abae9e0d1",
   "metadata": {},
   "source": [
    "### Combine all mixes data"
   ]
  },
  {
   "cell_type": "code",
   "execution_count": 21,
   "id": "1771624a-8ba9-4b7d-9634-35328fe8d8ff",
   "metadata": {},
   "outputs": [],
   "source": [
    "Mixes = {**Carbendazim_Acephate_0810, **Carbendazim_Acephate_0811, **Carbendazim_Acephate_0813,\n",
    "         **Carbendazim_Acephate_0818, **Acetamiprid_Acephate_0810, **Acetamiprid_Acephate_0813, **Acetamiprid_Acephate_0811,\n",
    "         **Acetamiprid_Acephate_0818, **Carbendazim_Acetamiprid_Acephate_0810, **Carbendazim_Acetamiprid_Acephate_0811,\n",
    "         **Carbendazim_Acetamiprid_Acephate_0813, **Carbendazim_Acetamiprid_Acephate_0818, **MG_ACE_ACETAMIPRID_colloidal_SERS3_20210427,\n",
    "         }"
   ]
  },
  {
   "cell_type": "markdown",
   "id": "6c0f2ff8-5f0b-461f-b895-431c78e40d3a",
   "metadata": {},
   "source": [
    "#### Add min_1115_min and mix_4027_min"
   ]
  },
  {
   "cell_type": "markdown",
   "id": "1f57125f-810c-4a95-afdc-bc18534a24f8",
   "metadata": {},
   "source": [
    "### Convert data to numpy array"
   ]
  },
  {
   "cell_type": "markdown",
   "id": "9aab2a76-fedb-4fdf-a965-6bb530a01330",
   "metadata": {},
   "source": [
    "#### MG data"
   ]
  },
  {
   "cell_type": "code",
   "execution_count": 33,
   "id": "ad2d1fba",
   "metadata": {
    "tags": []
   },
   "outputs": [],
   "source": [
    "all_arr = []\n",
    "for item in list(MG.values()):\n",
    "    if item.ndim > 1:\n",
    "        for nested_item in item:\n",
    "            all_arr.append(nested_item)\n",
    "    elif item.ndim == 1:\n",
    "        all_arr.append(item)"
   ]
  },
  {
   "cell_type": "code",
   "execution_count": 34,
   "id": "0affc440-e9bd-4e89-9ce5-5fd4da10f087",
   "metadata": {},
   "outputs": [],
   "source": [
    "MG_dataset = np.array(all_arr1, dtype=np.float64)"
   ]
  },
  {
   "cell_type": "markdown",
   "id": "802a34ee-a98a-443e-9042-dc97a4000c81",
   "metadata": {},
   "source": [
    "Make dataset contiguous"
   ]
  },
  {
   "cell_type": "code",
   "execution_count": 66,
   "id": "2eb9d26a-eaa9-46f9-8df5-36abc97ea668",
   "metadata": {},
   "outputs": [
    {
     "data": {
      "text/plain": [
       "array([[-8.00018311e-01,  1.40002441e+00,  1.40002441e+00, ...,\n",
       "         2.41199982e+02,  2.40199982e+02,  2.41999969e+02],\n",
       "       [-3.80001831e+00, -3.39999390e+00, -3.99993896e-01, ...,\n",
       "         2.24999969e+02,  2.26800018e+02,  2.35600006e+02],\n",
       "       [-1.16000061e+01, -2.39999390e+00, -5.99975586e-01, ...,\n",
       "         2.08800018e+02,  1.98199982e+02,  2.22800018e+02],\n",
       "       ...,\n",
       "       [ 3.55000000e+02,  3.58000000e+02,  3.99000000e+02, ...,\n",
       "         3.81000000e+02,  4.00000000e+02,  4.16000000e+02],\n",
       "       [ 3.33000000e+02,  3.43000000e+02,  3.57000000e+02, ...,\n",
       "         3.66000000e+02,  3.78000000e+02,  3.51000000e+02],\n",
       "       [ 3.27000000e+02,  3.66000000e+02,  3.88000000e+02, ...,\n",
       "         3.59000000e+02,  3.48000000e+02,  3.49000000e+02]])"
      ]
     },
     "execution_count": 66,
     "metadata": {},
     "output_type": "execute_result"
    }
   ],
   "source": [
    "np.ascontiguousarray(MG_dataset)"
   ]
  },
  {
   "cell_type": "markdown",
   "id": "8b0003f7-f769-494f-a50d-ba106f71013f",
   "metadata": {},
   "source": [
    "Check if it worked"
   ]
  },
  {
   "cell_type": "code",
   "execution_count": 67,
   "id": "1cbd57c9-1614-470a-a2ee-7a1f7beb6c23",
   "metadata": {},
   "outputs": [
    {
     "data": {
      "text/plain": [
       "True"
      ]
     },
     "execution_count": 67,
     "metadata": {},
     "output_type": "execute_result"
    }
   ],
   "source": [
    "MG_dataset.flags['C_CONTIGUOUS']"
   ]
  },
  {
   "cell_type": "markdown",
   "id": "0333b987-88f8-4442-a109-db11f145d079",
   "metadata": {},
   "source": [
    "Save dataset"
   ]
  },
  {
   "cell_type": "code",
   "execution_count": 69,
   "id": "807e9df8-0435-4cf3-9464-e9d9c7292b69",
   "metadata": {},
   "outputs": [],
   "source": [
    "filename = 'MG_dataset.npy'\n",
    "np.save(filename, MG_dataset, allow_pickle=False)"
   ]
  },
  {
   "cell_type": "markdown",
   "id": "18a6533d-5c65-47a0-9370-9b6fe15107aa",
   "metadata": {},
   "source": [
    "#### Carbendazim data"
   ]
  },
  {
   "cell_type": "code",
   "execution_count": 35,
   "id": "3374e2cf-a118-4061-8395-4859f4dfcbf1",
   "metadata": {},
   "outputs": [],
   "source": [
    "all_arr = []\n",
    "for item in list(Carbendazim.values()):\n",
    "    if item.ndim > 1:\n",
    "        for nested_item in item:\n",
    "            all_arr.append(nested_item)\n",
    "    elif item.ndim == 1:\n",
    "        all_arr.append(item)"
   ]
  },
  {
   "cell_type": "code",
   "execution_count": 36,
   "id": "5424eaf3-08b5-4b60-9166-e1b248dd6428",
   "metadata": {},
   "outputs": [],
   "source": [
    "Carbendazim_dataset = np.array(all_arr, dtype=np.float64)"
   ]
  },
  {
   "cell_type": "markdown",
   "id": "329d201b-65b2-40e4-997b-bb5fce47b4a7",
   "metadata": {},
   "source": [
    "Make dataset contiguous"
   ]
  },
  {
   "cell_type": "code",
   "execution_count": 76,
   "id": "2441c12e-f5fa-40e4-9093-e3d291b96796",
   "metadata": {},
   "outputs": [
    {
     "data": {
      "text/plain": [
       "array([[330., 351., 387., ..., 464., 472., 490.],\n",
       "       [ -4., -11.,   2., ...,   7.,   5.,   2.],\n",
       "       [-12.,  -6.,   3., ..., 165., 134., 147.],\n",
       "       ...,\n",
       "       [ -1.,  10.,  -3., ...,  14.,   9.,  14.],\n",
       "       [  1.,   1., -10., ...,  11.,   7.,  19.],\n",
       "       [ -1.,   0., -10., ...,  15.,  14.,   3.]])"
      ]
     },
     "execution_count": 76,
     "metadata": {},
     "output_type": "execute_result"
    }
   ],
   "source": [
    "np.ascontiguousarray(Carbendazim_dataset)"
   ]
  },
  {
   "cell_type": "markdown",
   "id": "e6e57c3d-644e-4aa3-a338-549baf5b89ec",
   "metadata": {},
   "source": [
    "Save dataset"
   ]
  },
  {
   "cell_type": "code",
   "execution_count": 83,
   "id": "3174ba53-7631-49c3-a770-0ae758764a7d",
   "metadata": {},
   "outputs": [],
   "source": [
    "filename = 'Carbendazim_dataset.npy'\n",
    "np.save(filename, Carbendazim_dataset, allow_pickle=False)"
   ]
  },
  {
   "cell_type": "markdown",
   "id": "d49f876c-c601-4790-9602-e9b101383bad",
   "metadata": {},
   "source": [
    "#### Thiacloprid data"
   ]
  },
  {
   "cell_type": "code",
   "execution_count": 37,
   "id": "63dbde71-25a1-481f-b336-f7f779f49f9c",
   "metadata": {},
   "outputs": [],
   "source": [
    "all_arr = []\n",
    "for item in list(Thiacloprid.values()):\n",
    "    if item.ndim > 1:\n",
    "        for nested_item in item:\n",
    "            all_arr.append(nested_item)\n",
    "    elif item.ndim == 1:\n",
    "        all_arr.append(item)"
   ]
  },
  {
   "cell_type": "code",
   "execution_count": 38,
   "id": "d82de3eb-94fb-4d9a-af79-508af316f50a",
   "metadata": {},
   "outputs": [],
   "source": [
    "Thiacloprid_dataset = np.array(all_arr, dtype=np.float64)"
   ]
  },
  {
   "cell_type": "markdown",
   "id": "1c9eff69-486f-4a2f-b34f-469b267c0e2a",
   "metadata": {},
   "source": [
    "Make dataset contiguous"
   ]
  },
  {
   "cell_type": "code",
   "execution_count": 78,
   "id": "e8724797-c05c-4006-89f0-76b0c19df21e",
   "metadata": {},
   "outputs": [
    {
     "data": {
      "text/plain": [
       "array([[370., 364., 326., ..., 649., 709., 618.],\n",
       "       [348., 383., 323., ..., 542., 551., 524.],\n",
       "       [  2.,   3.,   4., ...,  52.,  50.,  23.],\n",
       "       ...,\n",
       "       [ 27.,  20.,  29., ...,  37.,  32.,  56.],\n",
       "       [ 34.,  33.,  47., ...,  76.,  81.,  95.],\n",
       "       [ 26.,  33.,  44., ...,  71.,  55.,  74.]])"
      ]
     },
     "execution_count": 78,
     "metadata": {},
     "output_type": "execute_result"
    }
   ],
   "source": [
    "np.ascontiguousarray(Thiacloprid_dataset)"
   ]
  },
  {
   "cell_type": "markdown",
   "id": "0180ed23-cf60-460b-aefc-e6625ce1adb2",
   "metadata": {},
   "source": [
    "Save dataset"
   ]
  },
  {
   "cell_type": "code",
   "execution_count": 84,
   "id": "968c7cdb-863b-426d-a3fd-e0d43567af28",
   "metadata": {},
   "outputs": [],
   "source": [
    "filename = 'Thiacloprid_dataset.npy'\n",
    "np.save(filename, Thiacloprid_dataset, allow_pickle=False)"
   ]
  },
  {
   "cell_type": "markdown",
   "id": "69c88d6a-2d7b-4f4c-9f92-4367057c266b",
   "metadata": {},
   "source": [
    "#### Imidacloprid data"
   ]
  },
  {
   "cell_type": "code",
   "execution_count": 39,
   "id": "0d445856-e47b-4c06-9cd3-cdf30671aefe",
   "metadata": {},
   "outputs": [],
   "source": [
    "all_arr = []\n",
    "for item in list(Imidacloprid.values()):\n",
    "    if item.ndim > 1:\n",
    "        for nested_item in item:\n",
    "            all_arr.append(nested_item)\n",
    "    elif item.ndim == 1:\n",
    "        all_arr.append(item)"
   ]
  },
  {
   "cell_type": "code",
   "execution_count": 40,
   "id": "bb3e69bf-f272-4712-ba31-f520562b098a",
   "metadata": {},
   "outputs": [],
   "source": [
    "Imidacloprid_dataset = np.array(all_arr, dtype=np.float64)"
   ]
  },
  {
   "cell_type": "markdown",
   "id": "53bf63b7-5d6f-4000-be13-177e719f663c",
   "metadata": {},
   "source": [
    "Make dataset contiguous"
   ]
  },
  {
   "cell_type": "code",
   "execution_count": 80,
   "id": "c504246d-c9d4-4bfc-a972-d225bf14f4f5",
   "metadata": {},
   "outputs": [
    {
     "data": {
      "text/plain": [
       "array([[351., 335., 332., ..., 462., 494., 534.],\n",
       "       [  4.,   0.,   9., ...,  23.,  19.,  11.],\n",
       "       [  1.,  13.,  19., ...,  34.,  17.,  25.],\n",
       "       ...,\n",
       "       [  9.,  17.,  32., ...,  41.,  63.,  47.],\n",
       "       [ 20.,  26.,  38., ...,  61.,  66.,  57.],\n",
       "       [ 19.,   5.,  27., ...,  76.,  33.,  45.]])"
      ]
     },
     "execution_count": 80,
     "metadata": {},
     "output_type": "execute_result"
    }
   ],
   "source": [
    "np.ascontiguousarray(Imidacloprid_dataset)"
   ]
  },
  {
   "cell_type": "markdown",
   "id": "782eada7-4992-4cff-bfe1-4435caf5f1e9",
   "metadata": {},
   "source": [
    "Save dataset"
   ]
  },
  {
   "cell_type": "code",
   "execution_count": 85,
   "id": "0b044a68-09ba-40d7-b967-947261eb994b",
   "metadata": {},
   "outputs": [],
   "source": [
    "filename = 'Imidacloprid_dataset.npy'\n",
    "np.save(filename, Imidacloprid_dataset, allow_pickle=False)"
   ]
  },
  {
   "cell_type": "markdown",
   "id": "5dcb37dd-d507-406a-a749-66f94143b3b4",
   "metadata": {},
   "source": [
    "#### Acetamiprid data"
   ]
  },
  {
   "cell_type": "code",
   "execution_count": 41,
   "id": "b97590b7-a015-4f15-a5d6-6f33845f1a29",
   "metadata": {},
   "outputs": [],
   "source": [
    "all_arr = []\n",
    "for item in list(Acetamiprid.values()):\n",
    "    if item.ndim > 1:\n",
    "        for nested_item in item:\n",
    "            all_arr.append(nested_item)\n",
    "    elif item.ndim == 1:\n",
    "        all_arr.append(item)"
   ]
  },
  {
   "cell_type": "code",
   "execution_count": 42,
   "id": "5bfdf3dc-6c9b-44b5-9288-463783a63499",
   "metadata": {},
   "outputs": [],
   "source": [
    "Acetamiprid_dataset = np.array(all_arr, dtype=np.float64)"
   ]
  },
  {
   "cell_type": "markdown",
   "id": "aeb00acb-3d0e-4da2-b591-bb83464a465d",
   "metadata": {},
   "source": [
    "Make dataset contiguous"
   ]
  },
  {
   "cell_type": "code",
   "execution_count": 81,
   "id": "4337f014-c972-4dd6-9441-71fdb57666ce",
   "metadata": {},
   "outputs": [
    {
     "data": {
      "text/plain": [
       "array([[ -4.,  -2.,  13., ..., 240., 210., 189.],\n",
       "       [ -6.,   7.,  15., ..., 220., 205., 252.],\n",
       "       [ -6.,   4.,   2., ..., 259., 210., 241.],\n",
       "       ...,\n",
       "       [ -1.,   6., -16., ...,  54.,  69.,  54.],\n",
       "       [-10.,  14.,   2., ...,  55.,  54.,  72.],\n",
       "       [  5.,   5.,  15., ...,  59.,  79.,  63.]])"
      ]
     },
     "execution_count": 81,
     "metadata": {},
     "output_type": "execute_result"
    }
   ],
   "source": [
    "np.ascontiguousarray(Acetamiprid_dataset)"
   ]
  },
  {
   "cell_type": "markdown",
   "id": "6a1bd7ec-973f-40e0-b8d7-e78fe01548d3",
   "metadata": {},
   "source": [
    "Save dataset"
   ]
  },
  {
   "cell_type": "code",
   "execution_count": 86,
   "id": "d1a6d29e-09a0-492d-a513-b667e9532073",
   "metadata": {},
   "outputs": [],
   "source": [
    "filename = 'Acetamiprid_dataset.npy'\n",
    "np.save(filename, Acetamiprid_dataset, allow_pickle=False)"
   ]
  },
  {
   "cell_type": "markdown",
   "id": "a3e12963-05b6-45db-860d-002d4261aebd",
   "metadata": {},
   "source": [
    "#### Acephate data"
   ]
  },
  {
   "cell_type": "code",
   "execution_count": 47,
   "id": "2c3ba6a7-2a03-43d1-99b2-c3a110389f7c",
   "metadata": {},
   "outputs": [],
   "source": [
    "all_arr = []\n",
    "for item in list(Acephate.values()):\n",
    "    if item.ndim > 1:\n",
    "        for nested_item in item:\n",
    "            all_arr.append(nested_item)\n",
    "    elif item.ndim == 1:\n",
    "        all_arr.append(item)"
   ]
  },
  {
   "cell_type": "markdown",
   "id": "4c77719e-50bf-467c-939f-2ef47cc8afcf",
   "metadata": {},
   "source": [
    "Add unmerged Acephate_exported data"
   ]
  },
  {
   "cell_type": "code",
   "execution_count": 48,
   "id": "2e7a8224-d18a-4f7f-a768-d913cfaddd59",
   "metadata": {},
   "outputs": [],
   "source": [
    "all_arr.append(Acephate_exported)"
   ]
  },
  {
   "cell_type": "code",
   "execution_count": 49,
   "id": "753e3601-a72c-417d-843d-1327b8be68ce",
   "metadata": {},
   "outputs": [],
   "source": [
    "Acephate_numpy = np.array(all_arr, dtype=np.float64)"
   ]
  },
  {
   "cell_type": "code",
   "execution_count": 50,
   "id": "7460f3a6-98a2-4602-ae2a-e5b5b713a296",
   "metadata": {},
   "outputs": [],
   "source": [
    "Acephate_dataset = np.copy(Acephate_numpy)"
   ]
  },
  {
   "cell_type": "markdown",
   "id": "49cf0ead-1d82-4767-a4b5-f8ad40821751",
   "metadata": {},
   "source": [
    "Make dataset contiguous"
   ]
  },
  {
   "cell_type": "code",
   "execution_count": 82,
   "id": "894ba5b5-aeb0-4818-8452-58aae0f1d353",
   "metadata": {},
   "outputs": [
    {
     "data": {
      "text/plain": [
       "array([[ 3.42000e+02,  3.38000e+02,  3.58000e+02, ...,  5.08000e+02,\n",
       "         5.06000e+02,  5.16000e+02],\n",
       "       [-3.00000e+00, -9.00000e+00,  0.00000e+00, ...,  1.90000e+01,\n",
       "         6.00000e+00,  3.00000e+00],\n",
       "       [ 1.30000e+01,  3.00000e+00, -6.00000e+00, ...,  1.20000e+01,\n",
       "        -2.00000e+00,  1.60000e+01],\n",
       "       ...,\n",
       "       [ 1.98200e+03,  2.88000e+03,  4.42000e+03, ...,  1.45540e+04,\n",
       "         1.45930e+04,  1.46350e+04],\n",
       "       [ 1.93200e+03,  2.91200e+03,  4.23300e+03, ...,  1.39490e+04,\n",
       "         1.39200e+04,  1.38530e+04],\n",
       "       [-1.70367e+00, -2.53702e+00, -3.66666e+00, ...,  8.07410e+00,\n",
       "        -1.46295e+00,  5.48151e+00]])"
      ]
     },
     "execution_count": 82,
     "metadata": {},
     "output_type": "execute_result"
    }
   ],
   "source": [
    "np.ascontiguousarray(Acephate_dataset)"
   ]
  },
  {
   "cell_type": "markdown",
   "id": "d44747ad-63ad-477f-9656-050b73167360",
   "metadata": {},
   "source": [
    "Save dataset"
   ]
  },
  {
   "cell_type": "code",
   "execution_count": 87,
   "id": "ef2e00b8-ea4c-4c8d-b52d-4b70e2492fb5",
   "metadata": {},
   "outputs": [],
   "source": [
    "filename = 'Acephate_dataset.npy'\n",
    "np.save(filename, Acephate_dataset, allow_pickle=False)"
   ]
  },
  {
   "cell_type": "markdown",
   "id": "c7698459-538b-450f-8a7b-c5d4ca632fd5",
   "metadata": {},
   "source": [
    "#### Mix of data"
   ]
  },
  {
   "cell_type": "code",
   "execution_count": 60,
   "id": "68c1cd44-a07b-4b39-81c6-fe18703945b5",
   "metadata": {},
   "outputs": [],
   "source": [
    "all_arr = []\n",
    "for item in list(Mixes.values()):\n",
    "    if item.ndim > 1:\n",
    "        for nested_item in item:\n",
    "            all_arr.append(nested_item)\n",
    "    elif item.ndim == 1:\n",
    "        all_arr.append(item)"
   ]
  },
  {
   "cell_type": "markdown",
   "id": "1c2ee943-d9d6-4486-b86e-d3af7d84d4da",
   "metadata": {},
   "source": [
    "Add unmerged mixes"
   ]
  },
  {
   "cell_type": "code",
   "execution_count": 61,
   "id": "d310fa62-ad84-4901-bc43-a8ae92226b72",
   "metadata": {},
   "outputs": [],
   "source": [
    "Mixes_numpy_1 = np.array(all_arr, dtype=np.float64)"
   ]
  },
  {
   "cell_type": "code",
   "execution_count": 62,
   "id": "f9961741-3498-481d-8ffa-d987d4437be5",
   "metadata": {},
   "outputs": [],
   "source": [
    "Mixes_numpy_2 = np.concatenate((Mixes_numpy_1, mix_1115_min), axis=0)"
   ]
  },
  {
   "cell_type": "code",
   "execution_count": 63,
   "id": "90fe3d9c-9269-4ea4-a4c1-33be686891dd",
   "metadata": {},
   "outputs": [],
   "source": [
    "Mixes_numpy_3 = np.concatenate((Mixes_numpy_2, mix_4027_min), axis=0)"
   ]
  },
  {
   "cell_type": "code",
   "execution_count": 64,
   "id": "3783a2e4-d595-40d5-aa6d-8195021a08a5",
   "metadata": {},
   "outputs": [],
   "source": [
    "Mixes_numpy = np.array(all_arr, dtype=np.float64)"
   ]
  },
  {
   "cell_type": "code",
   "execution_count": 65,
   "id": "a3d5cc8c-bb42-45b9-9904-8ca03a669991",
   "metadata": {},
   "outputs": [],
   "source": [
    "Mixes_dataset = np.copy(Mixes_numpy_3)"
   ]
  },
  {
   "cell_type": "markdown",
   "id": "ea6ed70d-ff65-4bd6-9819-e7f1536a6117",
   "metadata": {},
   "source": [
    "Make dataset contiguous"
   ]
  },
  {
   "cell_type": "code",
   "execution_count": null,
   "id": "f24c2eb7-7447-4a9e-8bc2-e3b7498bf6f0",
   "metadata": {},
   "outputs": [],
   "source": [
    "np.ascontiguousarray(Mixes_dataset)"
   ]
  },
  {
   "cell_type": "markdown",
   "id": "0f31a80b-aaee-4086-843f-d28fd1dc2ee7",
   "metadata": {},
   "source": [
    "Save dataset"
   ]
  },
  {
   "cell_type": "code",
   "execution_count": 88,
   "id": "a79e51e7-7a3e-4a14-905f-71a721d53da8",
   "metadata": {},
   "outputs": [],
   "source": [
    "filename = 'Mixes_dataset.npy'\n",
    "np.save(filename, Mixes_dataset, allow_pickle=False)"
   ]
  }
 ],
 "metadata": {
  "kernelspec": {
   "display_name": "Python 3 (ipykernel)",
   "language": "python",
   "name": "python3"
  },
  "language_info": {
   "codemirror_mode": {
    "name": "ipython",
    "version": 3
   },
   "file_extension": ".py",
   "mimetype": "text/x-python",
   "name": "python",
   "nbconvert_exporter": "python",
   "pygments_lexer": "ipython3",
   "version": "3.8.11"
  }
 },
 "nbformat": 4,
 "nbformat_minor": 5
}
