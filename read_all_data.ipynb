{
 "cells": [
  {
   "cell_type": "markdown",
   "id": "f2561868-9d46-46cf-8658-d423d6fad15d",
   "metadata": {},
   "source": [
    "# Reading data\n",
    "## This notebook is to provide all the data again if the archives of the data are somehow lost"
   ]
  },
  {
   "cell_type": "markdown",
   "id": "e4b3d906-7d0a-4ab0-a17f-99a490e20140",
   "metadata": {},
   "source": [
    "### Import necessary modules"
   ]
  },
  {
   "cell_type": "code",
   "execution_count": 1,
   "id": "93c57f1c-0bde-4477-a601-92f709a4d9ba",
   "metadata": {},
   "outputs": [],
   "source": [
    "from tools.ramanflow.read_data import ReadData as RD\n",
    "import numpy as np"
   ]
  },
  {
   "cell_type": "markdown",
   "id": "869b528a-5bf6-4c2e-b3aa-9d1c0eaa24b3",
   "metadata": {},
   "source": [
    "### 2021-03-19 data"
   ]
  },
  {
   "cell_type": "code",
   "execution_count": 2,
   "id": "19fe487d-60c5-481b-b224-40c2abacd93b",
   "metadata": {},
   "outputs": [],
   "source": [
    "f_sup_0319, MG_colloidal_SERS_test_20210319 = RD.read_dir_tiff_files('data/20210319 MG colloidal SERS test')"
   ]
  },
  {
   "cell_type": "markdown",
   "id": "f84ba7f1-4dcc-42d2-82b4-d4abd5dc69f1",
   "metadata": {},
   "source": [
    "### 2021-03-31 data"
   ]
  },
  {
   "cell_type": "code",
   "execution_count": 3,
   "id": "4fdb3024-8584-47b0-957a-9a17c91e5998",
   "metadata": {},
   "outputs": [],
   "source": [
    "f_sup_0331, MG_colloidal_SERS_test_20210331 = RD.read_dir_tiff_files('data/20210331 MG colloidal SERS2')\n",
    "_, batch2_power_test_20210331 = RD.read_dir_tiff_files('data/20210331 MG colloidal SERS2/batch2_power_test')\n",
    "_, HWP36_to_80_step2_10s_20210331 = RD.read_dir_tiff_files('data/20210331 MG colloidal SERS2/batch2_power_test/10s_from_HWP36_to_80_step2')"
   ]
  },
  {
   "cell_type": "markdown",
   "id": "2f61027e-5506-4b5c-a175-b2f89e67405c",
   "metadata": {},
   "source": [
    "### 2021-04-27 data"
   ]
  },
  {
   "cell_type": "code",
   "execution_count": 4,
   "id": "927394af-d85e-460f-aa04-8191b8e0826a",
   "metadata": {},
   "outputs": [],
   "source": [
    "f_sup_0427, MG_ACE_ACETAMIPRID_colloidal_SERS3_20210427 = RD.read_dir_tiff_files('data/20210427 MG ACE ACETAMIPRID colloidal SERS3')\n",
    "_, MG_1_5ppb_0427 = RD.read_dir_tiff_files('data/20210427 MG ACE ACETAMIPRID colloidal SERS3/1_5ppb_MG')\n",
    "_, MG_15ppb_0427 = RD.read_dir_tiff_files('data/20210427 MG ACE ACETAMIPRID colloidal SERS3/15ppb_MG')\n",
    "_, MG_150ppb_0427 = RD.read_dir_tiff_files('data/20210427 MG ACE ACETAMIPRID colloidal SERS3/150ppb_MG')\n",
    "_, ACE_0427 = RD.read_dir_tiff_files('data/20210427 MG ACE ACETAMIPRID colloidal SERS3/ACE')\n",
    "_, Acetamiprid_0427 = RD.read_dir_tiff_files('data/20210427 MG ACE ACETAMIPRID colloidal SERS3/Acetamiprid')"
   ]
  },
  {
   "cell_type": "markdown",
   "id": "ff6c60e9-e479-4e46-9d55-7733711be222",
   "metadata": {},
   "source": [
    "### 2021-07-07 data"
   ]
  },
  {
   "cell_type": "code",
   "execution_count": 5,
   "id": "f6131bae-20eb-4810-95b1-ab943f331e2a",
   "metadata": {},
   "outputs": [],
   "source": [
    "f_sup_0707, Carbendazim_0707 = RD.read_dir_tiff_files('data/20210707 colloidal SERS multiple analytes/1_Carbendanzim')\n",
    "_, Carbendazim_0707_power_test = RD.read_dir_tiff_files('data/20210707 colloidal SERS multiple analytes/1_Carbendanzim/HWP42 to 82 step4 1s 5x5map 10xzoom')\n",
    "_, Thiacloprid_0707 = RD.read_dir_tiff_files('data/20210707 colloidal SERS multiple analytes/2_Thiacloprid')\n",
    "_, Thiacloprid_0707_power_test = RD.read_dir_tiff_files('data/20210707 colloidal SERS multiple analytes/2_Thiacloprid/HWP42 to 82 step4 1s 5x5map 10xzoom')\n",
    "_, Imidacloprid_0707 = RD.read_dir_tiff_files('data/20210707 colloidal SERS multiple analytes/3_Imidacloprid')\n",
    "_, Imidacloprid_0707_power_test = RD.read_dir_tiff_files('data/20210707 colloidal SERS multiple analytes/3_Imidacloprid/HWP42 to 62 step2 1s 6x6map 10xzoom')\n",
    "_, Acetamiprid_0707 = RD.read_dir_tiff_files('data/20210707 colloidal SERS multiple analytes/4_Acetamiprid')\n",
    "_, Acetamiprid_0707_power_test = RD.read_dir_tiff_files('data/20210707 colloidal SERS multiple analytes/4_Acetamiprid/HWP42 to 62 step2 1s 6x6map 10xzoom')\n",
    "_, Acephate_0707 = RD.read_dir_tiff_files('data/20210707 colloidal SERS multiple analytes/5_Acephate')\n",
    "_, Acephate_0707_power_test = RD.read_dir_tiff_files('data/20210707 colloidal SERS multiple analytes/5_Acephate/HWP42 to 62 step2 1s 6x6map 10xzoom')\n",
    "_, MG_150ppb_0707 = RD.read_dir_tiff_files('data/20210707 colloidal SERS multiple analytes/150ppb_MG test')\n",
    "_, MG_150ppb_0707_power_test = RD.read_dir_tiff_files('data/20210707 colloidal SERS multiple analytes/150ppb_MG test/HWP42 to 82 step4 1s 5x5map 10xzoom new colloids')\n",
    "_, Acetamiprid_with_150ppb_MG = RD.read_tiff_file('data/20210707 colloidal SERS multiple analytes/Mix Acetamiprid with 0.1ml of 150ppb_MG/2ml Acetamiprid colloidal plus 0.1ml 150ppb_MG mix 1s 32x32 HWP50.tif')\n",
    "_, Acetamiprid_with_150ppb_MG_power_test = RD.read_dir_tiff_files('data/20210707 colloidal SERS multiple analytes/Mix Acetamiprid with 0.1ml of 150ppb_MG/HWP42 to 62 step2 1s 6x6map 10xzoom')"
   ]
  },
  {
   "cell_type": "markdown",
   "id": "d687eac4-aed5-4f72-9110-3aac415dcb90",
   "metadata": {},
   "source": [
    "### 2021-07-22 data"
   ]
  },
  {
   "cell_type": "code",
   "execution_count": 6,
   "id": "ba22d1f0-bbc0-456a-ab54-476a7f5dff0b",
   "metadata": {},
   "outputs": [],
   "source": [
    "f_sup_0722, colloidal_SERS_multiple_analytes_20210722 = RD.read_dir_tiff_files('data/20210722 colloidal SERS multiple analytes')\n",
    "_, Carbendazim_0722 = RD.read_dir_tiff_files('data/20210722 colloidal SERS multiple analytes/1_Carbendanzim')\n",
    "_, Carbendazim_0722_power_test = RD.read_dir_tiff_files('data/20210722 colloidal SERS multiple analytes/1_Carbendanzim/HWP42 to 62 step2 1s 6x6map 10xzoom')\n",
    "_, Thiacloprid_0722 = RD.read_dir_tiff_files('data/20210722 colloidal SERS multiple analytes/2_Thiacloprid')\n",
    "_, Thiacloprid_0722_power_test = RD.read_dir_tiff_files('data/20210722 colloidal SERS multiple analytes/2_Thiacloprid/HWP42 to 62 step2 1s 6x6map 10xzoom')\n",
    "_, Imidacloprid_0722 = RD.read_dir_tiff_files('data/20210722 colloidal SERS multiple analytes/3_Imidacloprid')\n",
    "_, Imidacloprid_0722_power_test = RD.read_dir_tiff_files('data/20210722 colloidal SERS multiple analytes/3_Imidacloprid/HWP42 to 62 step2 1s 6x6map 10xzoom')\n",
    "_, Acetamiprid_0722 = RD.read_dir_tiff_files('data/20210722 colloidal SERS multiple analytes/4_Acetamiprid')\n",
    "_, Acetamiprid_0722_power_test = RD.read_dir_tiff_files('data/20210722 colloidal SERS multiple analytes/4_Acetamiprid/HWP42 to 62 step2 1s 6x6map 10xzoom')\n",
    "_, Acephate_0722 = RD.read_dir_tiff_files('data/20210722 colloidal SERS multiple analytes/5_Acephate')\n",
    "_, Acephate_0722_power_test = RD.read_dir_tiff_files('data/20210722 colloidal SERS multiple analytes/5_Acephate/HWP42 to 62 step2 1s 6x6map 10xzoom')"
   ]
  },
  {
   "cell_type": "markdown",
   "id": "1c140e9b-f90b-433f-bb67-7017e678fec7",
   "metadata": {},
   "source": [
    "### 2021-08-10 data"
   ]
  },
  {
   "cell_type": "code",
   "execution_count": 7,
   "id": "6797f543-662f-402c-9f59-c61d6038c85d",
   "metadata": {},
   "outputs": [],
   "source": [
    "f_sup_0810, Carbendazim_0810 = RD.read_dir_tiff_files('data/20210810 SERS timed immersion experiment/1')\n",
    "_, Carbendazim_Acetamiprid_0810 = RD.read_dir_tiff_files('data/20210810 SERS timed immersion experiment/1+4')\n",
    "_, Carbendazim_Acetamiprid_Acephate_0810 = RD.read_dir_tiff_files('data/20210810 SERS timed immersion experiment/1+4+5')\n",
    "_, Carbendazim_Acephate_0810 = RD.read_dir_tiff_files('data/20210810 SERS timed immersion experiment/1+5')\n",
    "_, Acetamiprid_0810 = RD.read_dir_tiff_files('data/20210810 SERS timed immersion experiment/4')\n",
    "_, Acetamiprid_Acephate_0810 = RD.read_dir_tiff_files('data/20210810 SERS timed immersion experiment/4+5')\n",
    "_, Acephate_0810 = RD.read_dir_tiff_files('data/20210810 SERS timed immersion experiment/5')\n",
    "_, colloids_0810 = RD.read_dir_tiff_files('data/20210810 SERS timed immersion experiment/colloidal solution')"
   ]
  },
  {
   "cell_type": "markdown",
   "id": "0fb5e831-8f31-424b-a57e-68fb6065906c",
   "metadata": {},
   "source": [
    "### 2021-08-11 data"
   ]
  },
  {
   "cell_type": "code",
   "execution_count": 8,
   "id": "ae8acc41-97e1-4453-a118-a495ae7997f3",
   "metadata": {},
   "outputs": [],
   "source": [
    "f_sup_0811, Carbendazim_0811 = RD.read_dir_tiff_files('data/20210811 SERS timed immersion experiment/1')\n",
    "_, Carbendazim_Acetamiprid_0811 = RD.read_dir_tiff_files('data/20210811 SERS timed immersion experiment/1+4')\n",
    "_, Carbendazim_Acetamiprid_Acephate_0811 = RD.read_dir_tiff_files('data/20210811 SERS timed immersion experiment/1+4+5')\n",
    "_, Carbendazim_Acephate_0811 = RD.read_dir_tiff_files('data/20210811 SERS timed immersion experiment/1+5')\n",
    "_, Acetamiprid_0811 = RD.read_dir_tiff_files('data/20210811 SERS timed immersion experiment/4')\n",
    "_, Acetamiprid_Acephate_0811 = RD.read_dir_tiff_files('data/20210811 SERS timed immersion experiment/4+5')\n",
    "_, Acephate_0811 = RD.read_dir_tiff_files('data/20210811 SERS timed immersion experiment/5')\n",
    "_, MG_150ppb_0811 = RD.read_dir_tiff_files('data/20210811 SERS timed immersion experiment/MG_150ppb')"
   ]
  },
  {
   "cell_type": "markdown",
   "id": "7e411458-6059-4ee5-ba96-4802e70754ec",
   "metadata": {},
   "source": [
    "### 2021-08-13 data"
   ]
  },
  {
   "cell_type": "code",
   "execution_count": 9,
   "id": "a3610913-4dbd-4292-86ac-51e55b8f3017",
   "metadata": {},
   "outputs": [],
   "source": [
    "f_sup_0813, Carbendazim_0813 = RD.read_dir_tiff_files('data/20210813 SERS timed immersion experiment/1')\n",
    "_, Carbendazim_Acetamiprid_0813 = RD.read_dir_tiff_files('data/20210813 SERS timed immersion experiment/1+4')\n",
    "_, Carbendazim_Acetamiprid_Acephate_0813 = RD.read_dir_tiff_files('data/20210813 SERS timed immersion experiment/1+4+5')\n",
    "_, Carbendazim_Acephate_0813 = RD.read_dir_tiff_files('data/20210813 SERS timed immersion experiment/1+5')\n",
    "_, Old_Carbendazim_old_colloids_0813 = RD.read_dir_tiff_files('data/20210813 SERS timed immersion experiment/1o+o')\n",
    "_, Carbendazim_old_colloids_0813 = RD.read_dir_tiff_files('data/20210813 SERS timed immersion experiment/1+o')\n",
    "_, Acetamiprid_Acephate_0813 = RD.read_dir_tiff_files('data/20210813 SERS timed immersion experiment/4+5')\n",
    "_, Acetamiprid_old_colloids_0813 = RD.read_dir_tiff_files('data/20210813 SERS timed immersion experiment/4+o')\n",
    "_, Old_Acetamiprid_old_colloids_0813 = RD.read_dir_tiff_files('data/20210813 SERS timed immersion experiment/4o+o')\n",
    "_, Acetamiprid_0813 = RD.read_dir_tiff_files('data/20210813 SERS timed immersion experiment/4')\n",
    "_, Acephate_0813 = RD.read_dir_tiff_files('data/20210813 SERS timed immersion experiment/5')"
   ]
  },
  {
   "cell_type": "markdown",
   "id": "4a5648d3-26bd-437f-b732-e81b83308058",
   "metadata": {},
   "source": [
    "### 2021-03-18 data"
   ]
  },
  {
   "cell_type": "code",
   "execution_count": 10,
   "id": "698c6883-67d3-4201-a338-612e7488e410",
   "metadata": {},
   "outputs": [],
   "source": [
    "f_sup_0818, Carbendazim_0818 = RD.read_dir_tiff_files('data/20210818 SERS timed immersion experiment/1')\n",
    "_, Carbendazim_Acetamiprid_0818 = RD.read_dir_tiff_files('data/20210818 SERS timed immersion experiment/1+4')\n",
    "_, Carbendazim_Acetamiprid_Acephate_0818 = RD.read_dir_tiff_files('data/20210818 SERS timed immersion experiment/1+4+5')\n",
    "_, Carbendazim_Acephate_0818 = RD.read_dir_tiff_files('data/20210818 SERS timed immersion experiment/1+5')\n",
    "_, Carbendazim_old_colloids_0818 = RD.read_dir_tiff_files('data/20210818 SERS timed immersion experiment/1+o')\n",
    "_, Carbendazim_old_colloids_v2_0818 = RD.read_dir_tiff_files('data/20210818 SERS timed immersion experiment/1o+Co')\n",
    "_, Carbendazim_old_colloids_v3_0818 = RD.read_dir_tiff_files('data/20210818 SERS timed immersion experiment/1oo+oo')\n",
    "_, Acetamiprid_0818 = RD.read_dir_tiff_files('data/20210818 SERS timed immersion experiment/4')\n",
    "_, Acetamiprid_Acephate_0818 = RD.read_dir_tiff_files('data/20210818 SERS timed immersion experiment/4+5')\n",
    "_, Acetamiprid_old_colloids_0818 = RD.read_dir_tiff_files('data/20210818 SERS timed immersion experiment/4+o')\n",
    "_, Acetamiprid_old_colloids_v2_0818 = RD.read_dir_tiff_files('data/20210818 SERS timed immersion experiment/4o+o')\n",
    "_, Acetamiprid_old_colloids_v3_0818 = RD.read_dir_tiff_files('data/20210818 SERS timed immersion experiment/4oo+oo')\n",
    "_, Acephate_0818 = RD.read_dir_tiff_files('data/20210818 SERS timed immersion experiment/5')"
   ]
  },
  {
   "cell_type": "markdown",
   "id": "8f037b7e-1e4a-4fbc-b042-09f912fec661",
   "metadata": {},
   "source": [
    "### Unknown data???"
   ]
  },
  {
   "cell_type": "code",
   "execution_count": 11,
   "id": "80767649-c576-4ada-baec-91d1508c1889",
   "metadata": {},
   "outputs": [],
   "source": [
    "f_sup_unknown, analyte_unknown = RD.read_dat_file('data/anvar 10-29/area1_Exported.dat')"
   ]
  },
  {
   "cell_type": "markdown",
   "id": "d99e940c-55f0-4fad-b8ee-9b4d3eec1477",
   "metadata": {},
   "source": [
    "### Older MG data (Substrate)"
   ]
  },
  {
   "cell_type": "code",
   "execution_count": 12,
   "id": "949e29a7-fb34-45e8-9986-3730b521d9f8",
   "metadata": {},
   "outputs": [],
   "source": [
    "f_sup_set_1, MG_set1 = RD.read_dir_tiff_files('data/MG set 1')\n",
    "\n",
    "f_sup_set_3, MG_set3 = RD.read_dir_dat_files('data/MG-3_15000_ppb')\n",
    "\n",
    "f_sup_set_4, MG_set4 = RD.read_dir_dat_files('data/MG-4_1500_ppb')\n",
    "\n",
    "f_sup_set_5, MG_set5 = RD.read_dir_dat_files('data/MG-5_150_ppb')"
   ]
  },
  {
   "cell_type": "markdown",
   "id": "cbb1eb01-da4f-45c9-8a1f-45b26b4b3dcd",
   "metadata": {},
   "source": [
    "### Mixes of analytes"
   ]
  },
  {
   "cell_type": "code",
   "execution_count": 13,
   "id": "8f4b98fc-93d7-4ea9-b4f8-cd8df1e9f2f5",
   "metadata": {},
   "outputs": [],
   "source": [
    "f_sup_mix_analytes, Acephate_10_2M = RD.read_dir_tiff_files('data/SERS with mix analyte/Acephate 10-2M 5715minutes')\n",
    "_, MG_10_5M = RD.read_dir_tiff_files('data/SERS with mix analyte/MG 10-5M 930minutes')\n",
    "_, mix_1115_min_1 = RD.read_tiff_file('data/SERS with mix analyte/mix/1115min/Mix-SERS-A-(1)-1115min_532nm_Newton_105um _ND1-51_20x-NA0.75_1500ms 1avg 2box (S-S-H-C).tif')\n",
    "_, mix_1115_min_2 = RD.read_tiff_file('data/SERS with mix analyte/mix/1115min/Mix-SERS-A-(2)-1115min_532nm_Newton_105um _ND1-51_20x-NA0.75_1500ms 1avg 2box (S-S-H-C).tif')\n",
    "mix_1115_min = np.concatenate((mix_1115_min_1, mix_1115_min_2), axis=0)\n",
    "\n",
    "_, mix_4027_min_1 = RD.read_tiff_file('data/SERS with mix analyte/mix/4027min/Mix-SERS-A-(1)-4027min_532nm_Newton_105um _ND1-51_20x-NA0.75_1500ms 1avg 2box (S-S-H-C).tif')\n",
    "_, mix_4027_min_2 = RD.read_tiff_file('data/SERS with mix analyte/mix/4027min/Mix-SERS-A-(2)-4027min_532nm_Newton_105um _ND1-51_20x-NA0.75_1500ms 1avg 2box (S-S-H-C).tif')\n",
    "mix_4027_min = np.concatenate((mix_4027_min_1, mix_4027_min_2), axis=0)"
   ]
  },
  {
   "cell_type": "markdown",
   "id": "e3836b66-16eb-4545-9f36-2402ba83b5ba",
   "metadata": {},
   "source": [
    "### Some Acephate data"
   ]
  },
  {
   "cell_type": "code",
   "execution_count": 14,
   "id": "ba70fa10-320c-49e0-9e3c-7ac6cc95a6f3",
   "metadata": {},
   "outputs": [],
   "source": [
    "f_sup_acephate, Acephate_exported = RD.read_dat_file('data/Acephate_Exported.dat')"
   ]
  },
  {
   "cell_type": "markdown",
   "id": "b9d79368-8f85-4e46-8b54-8bcd9303ea29",
   "metadata": {},
   "source": [
    "### Combine all MG data"
   ]
  },
  {
   "cell_type": "code",
   "execution_count": 15,
   "id": "a927a23c-bbbd-4ec9-97ed-036264a4e81a",
   "metadata": {},
   "outputs": [],
   "source": [
    "MG = {**MG_10_5M, **MG_colloidal_SERS_test_20210319, **MG_colloidal_SERS_test_20210331, **MG_ACE_ACETAMIPRID_colloidal_SERS3_20210427,\n",
    "      **MG_set5, **MG_set1, **MG_set3, **MG_set4, **MG_1_5ppb_0427, **MG_15ppb_0427, **MG_150ppb_0427, **MG_150ppb_0707,\n",
    "      **MG_150ppb_0707, **MG_150ppb_0811, **MG_150ppb_0707_power_test, **MG_150ppb_0707_power_test, **HWP36_to_80_step2_10s_20210331,\n",
    "      **batch2_power_test_20210331}"
   ]
  },
  {
   "cell_type": "markdown",
   "id": "507f7ff6-8d45-4657-abe9-9229375dc93d",
   "metadata": {},
   "source": [
    "### Combine all Carbendazim data"
   ]
  },
  {
   "cell_type": "code",
   "execution_count": 16,
   "id": "00a6883a-6944-47fa-b62a-0f2d95a0a72f",
   "metadata": {},
   "outputs": [],
   "source": [
    "Carbendazim = {**Carbendazim_0707, **Carbendazim_0707_power_test, **Carbendazim_0722, **Carbendazim_0722_power_test,\n",
    "               **Carbendazim_0810, **Carbendazim_0811, **Carbendazim_0813, **Carbendazim_0818, **Carbendazim_old_colloids_0813,\n",
    "               **Carbendazim_old_colloids_0818, **Old_Carbendazim_old_colloids_0813}"
   ]
  },
  {
   "cell_type": "markdown",
   "id": "a8de0361-10fc-47ac-9efa-980cacef6feb",
   "metadata": {},
   "source": [
    "### Combine all Thiacloprid data"
   ]
  },
  {
   "cell_type": "code",
   "execution_count": 17,
   "id": "77d44768-26c6-488b-b889-0984927d1dc0",
   "metadata": {},
   "outputs": [],
   "source": [
    "Thiacloprid = {**Thiacloprid_0707, **Thiacloprid_0707_power_test, **Thiacloprid_0722, **Thiacloprid_0722_power_test}"
   ]
  },
  {
   "cell_type": "markdown",
   "id": "29c1fc19-48bd-4cc4-97c9-692e17b137b9",
   "metadata": {},
   "source": [
    "### Combine all Imidacloprid data"
   ]
  },
  {
   "cell_type": "code",
   "execution_count": 18,
   "id": "9c94cf54-0b1d-4c5f-9ac3-8da1776632c7",
   "metadata": {},
   "outputs": [],
   "source": [
    "Imidacloprid = {**Imidacloprid_0707, **Imidacloprid_0707_power_test, **Imidacloprid_0722, **Imidacloprid_0722_power_test}"
   ]
  },
  {
   "cell_type": "markdown",
   "id": "97de786b-d0a0-4f40-9a5b-3bfbce9b3720",
   "metadata": {},
   "source": [
    "### Combine all Acetamiprid data"
   ]
  },
  {
   "cell_type": "code",
   "execution_count": 19,
   "id": "fa1c9b4f-d6d4-40e4-9785-565c7f8b7977",
   "metadata": {},
   "outputs": [],
   "source": [
    "Acetamiprid = {**Acetamiprid_0707, **Acetamiprid_0707_power_test, **Acetamiprid_0722, **Acetamiprid_0722_power_test,\n",
    "               **Acetamiprid_0810, **Acetamiprid_0811, **Acetamiprid_0813, **Acetamiprid_0818, **Acetamiprid_0427,\n",
    "               **Acetamiprid_old_colloids_0813, **Acetamiprid_old_colloids_0818, **Acetamiprid_old_colloids_v2_0818,\n",
    "               **Acetamiprid_old_colloids_v3_0818, **Old_Acetamiprid_old_colloids_0813}"
   ]
  },
  {
   "cell_type": "markdown",
   "id": "2faa25a8-594c-41bb-8b79-726c83292d07",
   "metadata": {},
   "source": [
    "### Combine all Acephate data"
   ]
  },
  {
   "cell_type": "code",
   "execution_count": 21,
   "id": "19f49f43-f571-4b6c-a3c5-1be2ff95d740",
   "metadata": {},
   "outputs": [],
   "source": [
    "Acephate = {**Acephate_0707, **Acephate_0707_power_test, **Acephate_0722, **Acephate_0722_power_test, **Acephate_0810,\n",
    "            **Acephate_0811, **Acephate_0813, **Acephate_0818, **Acephate_10_2M, **ACE_0427}"
   ]
  },
  {
   "cell_type": "markdown",
   "id": "d1ae34ad-e9fb-4da5-967a-e5c4eda200c5",
   "metadata": {},
   "source": [
    "#### Need to add Acephate_Exported"
   ]
  },
  {
   "cell_type": "markdown",
   "id": "5e96afd9-31ea-42d5-8535-a55abae9e0d1",
   "metadata": {},
   "source": [
    "### Combine all mixes data"
   ]
  },
  {
   "cell_type": "code",
   "execution_count": 23,
   "id": "1771624a-8ba9-4b7d-9634-35328fe8d8ff",
   "metadata": {},
   "outputs": [],
   "source": [
    "Mixes = {**Carbendazim_Acephate_0810, **Carbendazim_Acephate_0811, **Carbendazim_Acephate_0813,\n",
    "         **Carbendazim_Acephate_0818, **Acetamiprid_Acephate_0810, **Acetamiprid_Acephate_0813, **Acetamiprid_Acephate_0811,\n",
    "         **Acetamiprid_Acephate_0818, **Carbendazim_Acetamiprid_Acephate_0810, **Carbendazim_Acetamiprid_Acephate_0811,\n",
    "         **Carbendazim_Acetamiprid_Acephate_0813, **Carbendazim_Acetamiprid_Acephate_0818, **MG_ACE_ACETAMIPRID_colloidal_SERS3_20210427,\n",
    "         }"
   ]
  },
  {
   "cell_type": "markdown",
   "id": "6c0f2ff8-5f0b-461f-b895-431c78e40d3a",
   "metadata": {},
   "source": [
    "#### Add min_1115_min and mix_4027_min"
   ]
  },
  {
   "cell_type": "markdown",
   "id": "1f57125f-810c-4a95-afdc-bc18534a24f8",
   "metadata": {},
   "source": [
    "### Convert data to numpy array"
   ]
  },
  {
   "cell_type": "markdown",
   "id": "9aab2a76-fedb-4fdf-a965-6bb530a01330",
   "metadata": {},
   "source": [
    "#### MG data"
   ]
  },
  {
   "cell_type": "code",
   "execution_count": 27,
   "id": "062ed9d6-ee82-4352-84f0-815c7335fdd6",
   "metadata": {},
   "outputs": [],
   "source": [
    "check = list(MG.values())"
   ]
  },
  {
   "cell_type": "code",
   "execution_count": 30,
   "id": "ca156be4-d76d-4d0d-86a0-077881ff0565",
   "metadata": {},
   "outputs": [],
   "source": [
    "from pprint import pprint"
   ]
  },
  {
   "cell_type": "code",
   "execution_count": 32,
   "id": "d5aecc14-b9e9-4e5f-a14b-075ef6b31f2f",
   "metadata": {},
   "outputs": [
    {
     "data": {
      "text/plain": [
       "130"
      ]
     },
     "execution_count": 32,
     "metadata": {},
     "output_type": "execute_result"
    }
   ],
   "source": [
    "len(check)"
   ]
  },
  {
   "cell_type": "code",
   "execution_count": 26,
   "id": "fdede486-3c8d-4ae6-b480-19f8345d9fa5",
   "metadata": {},
   "outputs": [
    {
     "ename": "ValueError",
     "evalue": "setting an array element with a sequence. The requested array has an inhomogeneous shape after 1 dimensions. The detected shape was (130,) + inhomogeneous part.",
     "output_type": "error",
     "traceback": [
      "\u001b[0;31m---------------------------------------------------------------------------\u001b[0m",
      "\u001b[0;31mValueError\u001b[0m                                Traceback (most recent call last)",
      "\u001b[0;32m<ipython-input-26-7296a1972f9d>\u001b[0m in \u001b[0;36m<module>\u001b[0;34m\u001b[0m\n\u001b[0;32m----> 1\u001b[0;31m \u001b[0mMG_numpy\u001b[0m \u001b[0;34m=\u001b[0m \u001b[0mnp\u001b[0m\u001b[0;34m.\u001b[0m\u001b[0marray\u001b[0m\u001b[0;34m(\u001b[0m\u001b[0mlist\u001b[0m\u001b[0;34m(\u001b[0m\u001b[0mMG\u001b[0m\u001b[0;34m.\u001b[0m\u001b[0mvalues\u001b[0m\u001b[0;34m(\u001b[0m\u001b[0;34m)\u001b[0m\u001b[0;34m)\u001b[0m\u001b[0;34m,\u001b[0m \u001b[0mdtype\u001b[0m\u001b[0;34m=\u001b[0m\u001b[0mnp\u001b[0m\u001b[0;34m.\u001b[0m\u001b[0mfloat64\u001b[0m\u001b[0;34m)\u001b[0m\u001b[0;34m\u001b[0m\u001b[0;34m\u001b[0m\u001b[0m\n\u001b[0m",
      "\u001b[0;31mValueError\u001b[0m: setting an array element with a sequence. The requested array has an inhomogeneous shape after 1 dimensions. The detected shape was (130,) + inhomogeneous part."
     ]
    }
   ],
   "source": [
    "MG_numpy = np.array(list(MG.values()), dtype=np.float64)"
   ]
  },
  {
   "cell_type": "markdown",
   "id": "18a6533d-5c65-47a0-9370-9b6fe15107aa",
   "metadata": {},
   "source": [
    "#### Carbendazim data"
   ]
  },
  {
   "cell_type": "code",
   "execution_count": null,
   "id": "5424eaf3-08b5-4b60-9166-e1b248dd6428",
   "metadata": {},
   "outputs": [],
   "source": [
    "Carbendazim_numpy = np.array(list(Carbendazim.values))"
   ]
  },
  {
   "cell_type": "markdown",
   "id": "d49f876c-c601-4790-9602-e9b101383bad",
   "metadata": {},
   "source": [
    "#### Thiacloprid data"
   ]
  },
  {
   "cell_type": "code",
   "execution_count": null,
   "id": "d82de3eb-94fb-4d9a-af79-508af316f50a",
   "metadata": {},
   "outputs": [],
   "source": [
    "Thiacloprid_numpy = np.array(list(Thiacloprid.values))"
   ]
  },
  {
   "cell_type": "markdown",
   "id": "69c88d6a-2d7b-4f4c-9f92-4367057c266b",
   "metadata": {},
   "source": [
    "#### Imidacloprid data"
   ]
  },
  {
   "cell_type": "code",
   "execution_count": null,
   "id": "bb3e69bf-f272-4712-ba31-f520562b098a",
   "metadata": {},
   "outputs": [],
   "source": [
    "Imidacloprid_numpy = np.array(list(Imidacloprid.values))"
   ]
  },
  {
   "cell_type": "markdown",
   "id": "5dcb37dd-d507-406a-a749-66f94143b3b4",
   "metadata": {},
   "source": [
    "#### Acetamiprid data"
   ]
  },
  {
   "cell_type": "code",
   "execution_count": null,
   "id": "5bfdf3dc-6c9b-44b5-9288-463783a63499",
   "metadata": {},
   "outputs": [],
   "source": [
    "Acetamiprid_numpy = np.array(list(MG.values))"
   ]
  },
  {
   "cell_type": "markdown",
   "id": "a3e12963-05b6-45db-860d-002d4261aebd",
   "metadata": {},
   "source": [
    "#### Acephate data"
   ]
  },
  {
   "cell_type": "code",
   "execution_count": null,
   "id": "753e3601-a72c-417d-843d-1327b8be68ce",
   "metadata": {},
   "outputs": [],
   "source": [
    "Acephate_numpy = np.array(list(MG.values))"
   ]
  },
  {
   "cell_type": "markdown",
   "id": "c7698459-538b-450f-8a7b-c5d4ca632fd5",
   "metadata": {},
   "source": [
    "#### Mix of data"
   ]
  },
  {
   "cell_type": "code",
   "execution_count": null,
   "id": "3783a2e4-d595-40d5-aa6d-8195021a08a5",
   "metadata": {},
   "outputs": [],
   "source": [
    "Mixes_numpy = np.array(list(Mixes.values))"
   ]
  }
 ],
 "metadata": {
  "kernelspec": {
   "display_name": "Python 3",
   "language": "python",
   "name": "python3"
  },
  "language_info": {
   "codemirror_mode": {
    "name": "ipython",
    "version": 3
   },
   "file_extension": ".py",
   "mimetype": "text/x-python",
   "name": "python",
   "nbconvert_exporter": "python",
   "pygments_lexer": "ipython3",
   "version": "3.8.10"
  }
 },
 "nbformat": 4,
 "nbformat_minor": 5
}
