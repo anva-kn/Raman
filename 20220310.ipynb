{
 "cells": [
  {
   "cell_type": "code",
   "execution_count": 2,
   "id": "5a972a1c",
   "metadata": {},
   "outputs": [],
   "source": [
    "%load_ext autoreload"
   ]
  },
  {
   "cell_type": "code",
   "execution_count": 3,
   "id": "09d52519",
   "metadata": {},
   "outputs": [],
   "source": [
    "%autoreload 2"
   ]
  },
  {
   "cell_type": "code",
   "execution_count": 4,
   "id": "bc01d16a",
   "metadata": {},
   "outputs": [],
   "source": [
    "from tools.ramanflow.read_data import ReadData as rd"
   ]
  },
  {
   "cell_type": "code",
   "execution_count": 5,
   "id": "826c99fa",
   "metadata": {},
   "outputs": [],
   "source": [
    "from tools.ramanflow.prep_data import PrepData as pd"
   ]
  },
  {
   "cell_type": "code",
   "execution_count": 9,
   "id": "c566d744",
   "metadata": {},
   "outputs": [],
   "source": [
    "import matplotlib.pyplot as plt"
   ]
  },
  {
   "cell_type": "code",
   "execution_count": 13,
   "id": "4f828042",
   "metadata": {},
   "outputs": [],
   "source": [
    "wavelength, batch1_1_30sec_1min = rd.read_uv_data('data/UV/20220303/batch1+1_30sec_1.txt')"
   ]
  },
  {
   "cell_type": "code",
   "execution_count": 15,
   "id": "c705114f",
   "metadata": {},
   "outputs": [],
   "source": [
    "wavelength, batch1_1_30sec_30min = rd.read_uv_data('data/UV/20220303/batch1+1_30sec_2.txt')"
   ]
  },
  {
   "cell_type": "code",
   "execution_count": 16,
   "id": "af239af7",
   "metadata": {},
   "outputs": [],
   "source": [
    "wavelength, batch1_1_30sec_1h = rd.read_uv_data('data/UV/20220303/batch1+1_30sec_3.txt')"
   ]
  },
  {
   "cell_type": "code",
   "execution_count": 17,
   "id": "35e198f1",
   "metadata": {},
   "outputs": [],
   "source": [
    "wavelength, batch1_1_30sec_3h = rd.read_uv_data('data/UV/20220303/batch1+1_30sec_4.txt')"
   ]
  },
  {
   "cell_type": "code",
   "execution_count": 18,
   "id": "8575c394",
   "metadata": {},
   "outputs": [],
   "source": [
    "wavelength, batch1_1_3min_1min = rd.read_uv_data('data/UV/20220303/batch1+1_3min_1.txt')"
   ]
  },
  {
   "cell_type": "code",
   "execution_count": 19,
   "id": "27ff1716",
   "metadata": {},
   "outputs": [],
   "source": [
    "wavelength, batch1_1_3min_30min = rd.read_uv_data('data/UV/20220303/batch1+1_3min_2.txt')"
   ]
  },
  {
   "cell_type": "code",
   "execution_count": 20,
   "id": "a0add932",
   "metadata": {},
   "outputs": [],
   "source": [
    "wavelength, batch1_1_3min_1h = rd.read_uv_data('data/UV/20220303/batch1+1_3min_3.txt')"
   ]
  },
  {
   "cell_type": "code",
   "execution_count": 21,
   "id": "bf6c4e80",
   "metadata": {},
   "outputs": [],
   "source": [
    "wavelength, batch1_1_3min_3h = rd.read_uv_data('data/UV/20220303/batch1+1_3min_4.txt')"
   ]
  },
  {
   "cell_type": "code",
   "execution_count": 22,
   "id": "17c82aa2",
   "metadata": {},
   "outputs": [],
   "source": [
    "wavelength, batch2_1_30sec_1min = rd.read_uv_data('data/UV/20220303/batch2+1_30sec_1.txt')"
   ]
  },
  {
   "cell_type": "code",
   "execution_count": 23,
   "id": "fc190e95",
   "metadata": {},
   "outputs": [],
   "source": [
    "wavelength, batch2_1_30sec_30min = rd.read_uv_data('data/UV/20220303/batch2+1_30sec_2.txt')"
   ]
  },
  {
   "cell_type": "code",
   "execution_count": 24,
   "id": "61105be0",
   "metadata": {},
   "outputs": [],
   "source": [
    "wavelength, batch2_1_30sec_1h = rd.read_uv_data('data/UV/20220303/batch2+1_30sec_3.txt')"
   ]
  },
  {
   "cell_type": "code",
   "execution_count": 25,
   "id": "634a54bb",
   "metadata": {},
   "outputs": [],
   "source": [
    "wavelength, batch2_1_30sec_3h = rd.read_uv_data('data/UV/20220303/batch2+1_30sec_4.txt')"
   ]
  },
  {
   "cell_type": "code",
   "execution_count": 26,
   "id": "1f29c28b",
   "metadata": {},
   "outputs": [],
   "source": [
    "wavelength, batch2_1_3min_1min = rd.read_uv_data('data/UV/20220303/batch2+1_3min_1.txt')"
   ]
  },
  {
   "cell_type": "code",
   "execution_count": 27,
   "id": "04aaae35",
   "metadata": {},
   "outputs": [],
   "source": [
    "wavelength, batch2_1_3min_30min = rd.read_uv_data('data/UV/20220303/batch2+1_3min_2.txt')"
   ]
  },
  {
   "cell_type": "code",
   "execution_count": 28,
   "id": "2f7809fa",
   "metadata": {},
   "outputs": [],
   "source": [
    "wavelength, batch2_1_3min_1h = rd.read_uv_data('data/UV/20220303/batch2+1_3min_3.txt')"
   ]
  },
  {
   "cell_type": "code",
   "execution_count": 29,
   "id": "66f19ef6",
   "metadata": {},
   "outputs": [],
   "source": [
    "wavelength, batch2_1_3min_3h = rd.read_uv_data('data/UV/20220303/batch2+1_3min_4.txt')"
   ]
  },
  {
   "cell_type": "code",
   "execution_count": 30,
   "id": "6ce261b8",
   "metadata": {},
   "outputs": [],
   "source": [
    "wavelength, batch3_1_30sec_1min = rd.read_uv_data('data/UV/20220303/batch3+1_30sec_1.txt')"
   ]
  },
  {
   "cell_type": "code",
   "execution_count": 31,
   "id": "37e73a95",
   "metadata": {},
   "outputs": [],
   "source": [
    "wavelength, batch3_1_30sec_30min = rd.read_uv_data('data/UV/20220303/batch3+1_30sec_2.txt')"
   ]
  },
  {
   "cell_type": "code",
   "execution_count": 32,
   "id": "cc09b6b3",
   "metadata": {},
   "outputs": [],
   "source": [
    "wavelength, batch3_1_30sec_1h = rd.read_uv_data('data/UV/20220303/batch3+1_30sec_3.txt')"
   ]
  },
  {
   "cell_type": "code",
   "execution_count": 33,
   "id": "b7796394",
   "metadata": {},
   "outputs": [],
   "source": [
    "wavelength, batch3_1_30sec_3h = rd.read_uv_data('data/UV/20220303/batch3+1_30sec_4.txt')"
   ]
  },
  {
   "cell_type": "code",
   "execution_count": 34,
   "id": "13c4a029",
   "metadata": {},
   "outputs": [],
   "source": [
    "wavelength, batch3_1_3min_1min = rd.read_uv_data('data/UV/20220303/batch3+1_3min_1.txt')"
   ]
  },
  {
   "cell_type": "code",
   "execution_count": 35,
   "id": "c349e589",
   "metadata": {},
   "outputs": [],
   "source": [
    "wavelength, batch3_1_3min_30min = rd.read_uv_data('data/UV/20220303/batch3+1_3min_2.txt')"
   ]
  },
  {
   "cell_type": "code",
   "execution_count": 36,
   "id": "92f5f9f8",
   "metadata": {},
   "outputs": [],
   "source": [
    "wavelength, batch3_1_3min_1h = rd.read_uv_data('data/UV/20220303/batch3+1_3min_3.txt')"
   ]
  },
  {
   "cell_type": "code",
   "execution_count": 37,
   "id": "4479cf62",
   "metadata": {},
   "outputs": [],
   "source": [
    "wavelength, batch3_1_3min_3h = rd.read_uv_data('data/UV/20220303/batch3+1_3min_4.txt')"
   ]
  },
  {
   "cell_type": "code",
   "execution_count": 38,
   "id": "47dc93b6",
   "metadata": {},
   "outputs": [],
   "source": [
    "wavelength, batch1_1_30sec_12h = rd.read_uv_data('data/UV/20220303/batch1+4_30sec.txt')"
   ]
  },
  {
   "cell_type": "code",
   "execution_count": 39,
   "id": "a2459333",
   "metadata": {},
   "outputs": [],
   "source": [
    "wavelength, batch1_1_30sec_12h = rd.read_uv_data('data/UV/20220303/batch1+4_30sec_1.txt')"
   ]
  },
  {
   "cell_type": "code",
   "execution_count": 40,
   "id": "2f0f820f",
   "metadata": {},
   "outputs": [],
   "source": [
    "wavelength, batch1_4_3min_12h = rd.read_uv_data('data/UV/20220303/batch1+4_3min_1.txt')"
   ]
  },
  {
   "cell_type": "code",
   "execution_count": 41,
   "id": "d056eb38",
   "metadata": {},
   "outputs": [],
   "source": [
    "wavelength, batch1_4_30sec_12h = rd.read_uv_data('data/UV/20220303/batch1+4_30sec_1.txt')"
   ]
  },
  {
   "cell_type": "code",
   "execution_count": 42,
   "id": "cd4947e2",
   "metadata": {},
   "outputs": [],
   "source": [
    "wavelength, batch2_4_30sec_12h = rd.read_uv_data('data/UV/20220303/batch2+4_30sec_1.txt')"
   ]
  },
  {
   "cell_type": "code",
   "execution_count": 43,
   "id": "eb3b9d0a",
   "metadata": {},
   "outputs": [],
   "source": [
    "wavelength, batch2_4_3min_12h = rd.read_uv_data('data/UV/20220303/batch2+4_3min_1.txt')"
   ]
  },
  {
   "cell_type": "code",
   "execution_count": 44,
   "id": "ac214794",
   "metadata": {},
   "outputs": [],
   "source": [
    "wavelength, batch3_4_30sec_12h = rd.read_uv_data('data/UV/20220303/batch3+4_30sec_1.txt')"
   ]
  },
  {
   "cell_type": "code",
   "execution_count": 45,
   "id": "742103ac",
   "metadata": {},
   "outputs": [],
   "source": [
    "wavelength, batch3_4_3min_12h = rd.read_uv_data('data/UV/20220303/batch3+4_3min_1.txt')"
   ]
  },
  {
   "cell_type": "code",
   "execution_count": 51,
   "id": "85ae6c2f",
   "metadata": {},
   "outputs": [],
   "source": [
    "del batch1_1_30sec_12h"
   ]
  },
  {
   "cell_type": "code",
   "execution_count": 52,
   "id": "2af64d25",
   "metadata": {},
   "outputs": [],
   "source": [
    "whos"
   ]
  },
  {
   "cell_type": "code",
   "execution_count": 53,
   "id": "a1dbcbae",
   "metadata": {},
   "outputs": [],
   "source": [
    "wavelength, batch1_30sec_12h = rd.read_uv_data('data/UV/20220303/batch1_30sec_1.txt')"
   ]
  },
  {
   "cell_type": "code",
   "execution_count": 54,
   "id": "be5cf03f",
   "metadata": {},
   "outputs": [],
   "source": [
    "wavelength, batch1_3min_12h = rd.read_uv_data('data/UV/20220303/batch1_3min_1.txt')"
   ]
  },
  {
   "cell_type": "code",
   "execution_count": 55,
   "id": "fd48da1d",
   "metadata": {},
   "outputs": [],
   "source": [
    "wavelength, batch2_30sec_12h = rd.read_uv_data('data/UV/20220303/batch2_30sec_1.txt')"
   ]
  },
  {
   "cell_type": "code",
   "execution_count": 56,
   "id": "c5468fee",
   "metadata": {},
   "outputs": [],
   "source": [
    "wavelength, batch2_3min_12h = rd.read_uv_data('data/UV/20220303/batch2_3min_1.txt')"
   ]
  },
  {
   "cell_type": "code",
   "execution_count": 57,
   "id": "08693d0d",
   "metadata": {},
   "outputs": [],
   "source": [
    "wavelength, batch3_30sec_12h = rd.read_uv_data('data/UV/20220303/batch3_30sec_1.txt')"
   ]
  },
  {
   "cell_type": "code",
   "execution_count": 58,
   "id": "39217cc3",
   "metadata": {},
   "outputs": [],
   "source": [
    "wavelength, batch3_3min_12h = rd.read_uv_data('data/UV/20220303/batch3_3min_1.txt')"
   ]
  },
  {
   "cell_type": "code",
   "execution_count": 59,
   "id": "0d6fa05a",
   "metadata": {},
   "outputs": [],
   "source": [
    "whos"
   ]
  },
  {
   "cell_type": "code",
   "execution_count": 60,
   "id": "95e9ba7a",
   "metadata": {},
   "outputs": [],
   "source": [
    "wavelength, batch1_30sec_1min = rd.read_uv_data('data/UV/20220302/batch1_30sec.txt')"
   ]
  },
  {
   "cell_type": "code",
   "execution_count": 61,
   "id": "23677a0c",
   "metadata": {},
   "outputs": [],
   "source": [
    "wavelength, batch1_3min_1min = rd.read_uv_data('data/UV/20220302/batch1_3min_.txt')"
   ]
  },
  {
   "cell_type": "code",
   "execution_count": 62,
   "id": "edebe651",
   "metadata": {},
   "outputs": [],
   "source": [
    "wavelength, batch2_30sec_1min = rd.read_uv_data('data/UV/20220302/batch2_30sec_.txt')"
   ]
  },
  {
   "cell_type": "code",
   "execution_count": 63,
   "id": "e92bfed7",
   "metadata": {},
   "outputs": [],
   "source": [
    "wavelength, batch2_3min_1min = rd.read_uv_data('data/UV/20220302/batch2_3min_.txt')"
   ]
  },
  {
   "cell_type": "code",
   "execution_count": 64,
   "id": "6ec0d9e9",
   "metadata": {},
   "outputs": [],
   "source": [
    "wavelength, batch3_30sec_1min = rd.read_uv_data('data/UV/20220302/batch3_30sec_.txt')"
   ]
  },
  {
   "cell_type": "code",
   "execution_count": 65,
   "id": "c684e8ab",
   "metadata": {},
   "outputs": [],
   "source": [
    "wavelength, batch3_3min_1min = rd.read_uv_data('data/UV/20220302/batch3_3min_.txt')"
   ]
  },
  {
   "cell_type": "code",
   "execution_count": 66,
   "id": "73a16cde",
   "metadata": {},
   "outputs": [],
   "source": [
    "whos"
   ]
  },
  {
   "cell_type": "code",
   "execution_count": 67,
   "id": "47369272",
   "metadata": {},
   "outputs": [],
   "source": [
    "which"
   ]
  },
  {
   "cell_type": "code",
   "execution_count": 68,
   "id": "2fb6b0d4",
   "metadata": {},
   "outputs": [],
   "source": [
    "plt.figure(figsize=(10,7))\n",
    "plt.plot(wavelength, batch1_30sec_1min, label=\"batch 1\")\n",
    "plt.plot(wavelength, batch2_30sec_1min, label=\"batch 2\")\n",
    "plt.plot(wavelength, batch3_30sec_1min, label=\"batch 3\")\n",
    "plt.ylabel(\"wavelength\", fontsize=20)\n",
    "plt.xlabel(\"Absorption\", fontsize=20)\n",
    "plt.title(\"3 batches 30sec\", fontsize=17)\n",
    "plt.show()"
   ]
  },
  {
   "cell_type": "code",
   "execution_count": 69,
   "id": "d0b76616",
   "metadata": {},
   "outputs": [],
   "source": [
    "plt.figure(figsize=(10,7))\n",
    "plt.plot(wavelength, batch1_30sec_1min, label=\"batch 1\")\n",
    "plt.plot(wavelength, batch2_30sec_1min, label=\"batch 2\")\n",
    "plt.plot(wavelength, batch3_30sec_1min, label=\"batch 3\")\n",
    "plt.ylabel(\"wavelength\", fontsize=20)\n",
    "plt.xlabel(\"Absorption\", fontsize=20)\n",
    "plt.title(\"3 batches 30sec\", fontsize=17)\n",
    "plt.legend()\n",
    "plt.show()"
   ]
  },
  {
   "cell_type": "code",
   "execution_count": 70,
   "id": "7103690e",
   "metadata": {},
   "outputs": [],
   "source": [
    "plt.figure(figsize=(10,7))\n",
    "plt.plot(wavelength, batch1_3min_1min, label=\"batch 1\")\n",
    "plt.plot(wavelength, batch2_3min_1min, label=\"batch 2\")\n",
    "plt.plot(wavelength, batch3_3min_1min, label=\"batch 3\")\n",
    "plt.ylabel(\"wavelength\", fontsize=20)\n",
    "plt.xlabel(\"Absorption\", fontsize=20)\n",
    "plt.title(\"3 batches 3min\", fontsize=17)\n",
    "plt.legend()\n",
    "plt.show()"
   ]
  },
  {
   "cell_type": "code",
   "execution_count": 71,
   "id": "93813e99",
   "metadata": {},
   "outputs": [],
   "source": [
    "plt.figure(figsize=(10,7))\n",
    "plt.plot(wavelength, batch1_3min_1min, label=\"batch 1 immediate\")\n",
    "plt.plot(wavelength, batch2_3min_1min, label=\"batch 2 immediate\")\n",
    "plt.plot(wavelength, batch3_3min_1min, label=\"batch 3 immediate\")\n",
    "plt.plot(wavelength, batch1_3min_12h, label=\"batch 1 12h\")\n",
    "plt.plot(wavelength, batch2_3min_12h, label=\"batch 2 12h\")\n",
    "plt.plot(wavelength, batch3_3min_12h, label=\"batch 3 12h\")\n",
    "plt.ylabel(\"wavelength\", fontsize=20)\n",
    "plt.xlabel(\"Absorption\", fontsize=20)\n",
    "plt.title(\"3 batches 3min\", fontsize=17)\n",
    "plt.legend()\n",
    "plt.show()"
   ]
  }
 ],
 "metadata": {
  "kernelspec": {
   "display_name": "Python 3 (ipykernel)",
   "language": "python",
   "name": "python3"
  },
  "language_info": {
   "codemirror_mode": {
    "name": "ipython",
    "version": 3
   },
   "file_extension": ".py",
   "mimetype": "text/x-python",
   "name": "python",
   "nbconvert_exporter": "python",
   "pygments_lexer": "ipython3",
   "version": "3.9.7"
  }
 },
 "nbformat": 4,
 "nbformat_minor": 5
}
