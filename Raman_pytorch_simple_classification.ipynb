{
 "cells": [
  {
   "cell_type": "markdown",
   "id": "222dfcbf-6894-431c-862a-15ba3f7f5141",
   "metadata": {},
   "source": [
    "# Pytorch simple classification"
   ]
  },
  {
   "cell_type": "code",
   "execution_count": 1,
   "id": "fc390edc-34eb-4ce9-a32b-5dc9667ce155",
   "metadata": {},
   "outputs": [],
   "source": [
    "# import matplotlib\n",
    "import matplotlib.pyplot as plt\n",
    "# matplotlib.rc('xtick', labelsize=20)\n",
    "# matplotlib.rc('ytick', labelsize=20)\n",
    "import pandas as pd\n",
    "from tools.ramanflow.read_data import ReadData as RD\n",
    "from tools.ramanflow.prep_data import PrepData as PD\n",
    "from scipy.signal import savgol_filter\n",
    "import numpy as np\n",
    "import math"
   ]
  },
  {
   "cell_type": "code",
   "execution_count": null,
   "id": "ebdba8a1-369f-46ed-b8b9-f568d307d55f",
   "metadata": {},
   "outputs": [],
   "source": [
    "check = pd.read_csv('car_clipped_1.csv', header=None)\n",
    "check_1 = check.iloc[1:, 0:1409]"
   ]
  },
  {
   "cell_type": "code",
   "execution_count": 2,
   "id": "1ada2db5-d50f-49e2-be80-06f0ebb5f583",
   "metadata": {},
   "outputs": [],
   "source": [
    "car_clipped_1 = np.zeros((8, 1409))\n",
    "car_clipped_2 = np.zeros((8, 1409))\n",
    "car_clipped_3 = np.zeros((8, 1409))\n",
    "car_clipped_4 = np.zeros((8, 1409))\n",
    "car_clipped_5 = np.zeros((8, 1409))"
   ]
  },
  {
   "cell_type": "code",
   "execution_count": 3,
   "id": "2a3a4c46-d082-4d7b-876e-0f8ad353bac3",
   "metadata": {},
   "outputs": [],
   "source": [
    "car_files = ['car_clipped_1.csv', 'car_clipped_2.csv', 'car_clipped_3.csv', 'car_clipped_4.csv', 'car_clipped_5.csv']\n",
    "car_variables = [car_clipped_1, car_clipped_2, car_clipped_3, car_clipped_4, car_clipped_5]\n",
    "aceta_files = ['aceta_clipped_1.csv', 'aceta_clipped_2.csv', 'aceta_clipped_3.csv', 'aceta_clipped_4.csv', 'aceta_clipped_5.csv']\n",
    "car_aceta_aceph = ['car_aceta_aceph_clipped_1.csv', 'car_aceta_aceph_clipped_2.csv', 'car_aceta_aceph_clipped_3.csv', 'car_aceta_aceph_clipped_4.csv', 'car_aceta_aceph_clipped_5.csv']"
   ]
  },
  {
   "cell_type": "code",
   "execution_count": 8,
   "id": "704a977f-87f5-4b65-bfe0-94d4016c83d3",
   "metadata": {},
   "outputs": [],
   "source": [
    "for file, variable in zip(car_files, car_variables):\n",
    "    df = pd.read_csv(file, header=None)\n",
    "    df_to_numpy = df.iloc[1:, 0:1409]\n",
    "    variable = df_to_numpy.to_numpy()"
   ]
  },
  {
   "cell_type": "code",
   "execution_count": null,
   "id": "dace353c-11fe-44fd-b2b6-e5d1a07ec975",
   "metadata": {},
   "outputs": [],
   "source": [
    "len(car_clipped_1[4])\n"
   ]
  },
  {
   "cell_type": "code",
   "execution_count": 7,
   "id": "6a8b4c62-f2a6-4d58-93cb-a531a117d627",
   "metadata": {},
   "outputs": [
    {
     "data": {
      "image/png": "[encoded data removed]",
      "text/plain": [
       "<Figure size 432x288 with 1 Axes>"
      ]
     },
     "metadata": {
      "needs_background": "light"
     },
     "output_type": "display_data"
    }
   ],
   "source": [
    "plt.figure()\n",
    "plt.plot(car_clipped_1[4])\n",
    "plt.show()"
   ]
  },
  {
   "cell_type": "code",
   "execution_count": null,
   "id": "fbcd4b15-e08e-4ed6-a279-f72abb53bc3d",
   "metadata": {},
   "outputs": [],
   "source": []
  }
 ],
 "metadata": {
  "kernelspec": {
   "display_name": "Python 3 (ipykernel)",
   "language": "python",
   "name": "python3"
  },
  "language_info": {
   "codemirror_mode": {
    "name": "ipython",
    "version": 3
   },
   "file_extension": ".py",
   "mimetype": "text/x-python",
   "name": "python",
   "nbconvert_exporter": "python",
   "pygments_lexer": "ipython3",
   "version": "3.8.11"
  }
 },
 "nbformat": 4,
 "nbformat_minor": 5
}
