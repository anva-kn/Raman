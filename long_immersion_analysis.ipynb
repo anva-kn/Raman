{
 "cells": [
  {
   "cell_type": "markdown",
   "id": "ead8bd91-2b75-44a8-870f-13b41384962e",
   "metadata": {
    "tags": []
   },
   "source": [
    "# This notebook is for general analysis of longer immersion time data  \n",
    "Analytes are Carbendazim , Acetamiprid and Acephate  \n",
    "Data will be analyzed across multiple days and power settings\n",
    "Analysis techniques that are used are as follows:  \n",
    "- Power dependence\n",
    "- Time dependence\n",
    "- Noise analysis  \n",
    "- NMF  \n",
    "- PCA  "
   ]
  },
  {
   "cell_type": "markdown",
   "id": "662bedae-e9e6-4d8d-b46f-fb5b9e509caf",
   "metadata": {},
   "source": [
    "### Import all the neccessary modules"
   ]
  },
  {
   "cell_type": "code",
   "execution_count": 3,
   "id": "93a10925-38df-41fc-a3c0-6604a6a7336f",
   "metadata": {},
   "outputs": [],
   "source": [
    "import sys\n",
    "import matplotlib\n",
    "import matplotlib.pyplot as plt\n",
    "matplotlib.rc('xtick', labelsize=20)\n",
    "matplotlib.rc('ytick', labelsize=20)\n",
    "import pandas as pd\n",
    "from tools.ramanflow.read_data import ReadData as RD\n",
    "from tools.ramanflow.prep_data import PrepData as PD\n",
    "from scipy.signal import savgol_filter\n",
    "import numpy as np\n",
    "import math"
   ]
  },
  {
   "cell_type": "markdown",
   "id": "fd1100b0-b3c8-46de-8f5f-5c3bdfd9e921",
   "metadata": {},
   "source": [
    "### Import all the data"
   ]
  },
  {
   "cell_type": "markdown",
   "id": "c56fab09-0cba-4591-9747-022aaee2cc89",
   "metadata": {},
   "source": [
    "#### Colloidal sollution data"
   ]
  },
  {
   "cell_type": "code",
   "execution_count": 4,
   "id": "d9070f74-9dc6-490a-bcfc-758cb952ad1a",
   "metadata": {},
   "outputs": [],
   "source": [
    "colloidal_power_mean = np.zeros((5, 1600))\n",
    "_, colloidal_power = RD.read_dir_tiff_files(\"data/20210810 SERS timed immersion experiment/colloidal solution\")"
   ]
  },
  {
   "cell_type": "markdown",
   "id": "2768c573-65dc-4f9b-9098-408268a555ea",
   "metadata": {},
   "source": [
    "#### 8/10 measurements"
   ]
  },
  {
   "cell_type": "code",
   "execution_count": 34,
   "id": "7456515b-8dcc-4633-bf3b-4c17864210f1",
   "metadata": {},
   "outputs": [],
   "source": [
    "f_sup_0810, car_0810 = RD.read_dir_tiff_files('data/20210810 SERS timed immersion experiment/1')\n",
    "f_sup_0810, aceta_0810 = RD.read_dir_tiff_files('data/20210810 SERS timed immersion experiment/4')\n",
    "f_sup_0810, aceph_0810 = RD.read_dir_tiff_files('data/20210810 SERS timed immersion experiment/5')\n",
    "f_sup_0810, car_aceta_0810 = RD.read_dir_tiff_files('data/20210810 SERS timed immersion experiment/1+4')\n",
    "f_sup_0810, car_aceph_0810 = RD.read_dir_tiff_files('data/20210810 SERS timed immersion experiment/1+5')\n",
    "f_sup_0810, aceta_aceph_0810 = RD.read_dir_tiff_files('data/20210810 SERS timed immersion experiment/4+5')\n",
    "f_sup_0810, car_aceta_aceph_0810 = RD.read_dir_tiff_files('data/20210810 SERS timed immersion experiment/1+4+5')"
   ]
  },
  {
   "cell_type": "markdown",
   "id": "804efa84-c566-49d0-930b-cc448e8857ed",
   "metadata": {},
   "source": [
    "#### 8/11 measurements"
   ]
  },
  {
   "cell_type": "code",
   "execution_count": 6,
   "id": "5cf8388d-cad4-49a6-be12-a82602ff9111",
   "metadata": {},
   "outputs": [],
   "source": [
    "f_sup_0811, car_0811 = RD.read_dir_tiff_files('data/20210811 SERS timed immersion experiment/1')\n",
    "f_sup_0811, aceta_0811 = RD.read_dir_tiff_files('data/20210811 SERS timed immersion experiment/4')\n",
    "f_sup_0811, aceph_0811 = RD.read_dir_tiff_files('data/20210811 SERS timed immersion experiment/5')\n",
    "f_sup_0811, car_aceta_0811 = RD.read_dir_tiff_files('data/20210811 SERS timed immersion experiment/1+4')\n",
    "f_sup_0811, car_aceph_0811 = RD.read_dir_tiff_files('data/20210811 SERS timed immersion experiment/1+5')\n",
    "f_sup_0811, aceta_aceph_0811 = RD.read_dir_tiff_files('data/20210811 SERS timed immersion experiment/4+5')\n",
    "f_sup_0811, car_aceta_aceph_0811 = RD.read_dir_tiff_files('data/20210811 SERS timed immersion experiment/1+4+5')"
   ]
  },
  {
   "cell_type": "markdown",
   "id": "368483d2-b755-4ab1-8094-f1c2c8ff9e52",
   "metadata": {},
   "source": [
    "#### 8/13 measurements"
   ]
  },
  {
   "cell_type": "code",
   "execution_count": 7,
   "id": "8685a807-4682-4846-b844-feb9acdd32d3",
   "metadata": {},
   "outputs": [],
   "source": [
    "f_sup_0813, car_0813 = RD.read_dir_tiff_files('data/20210813 SERS timed immersion experiment/1')\n",
    "f_sup_0813, aceta_0813 = RD.read_dir_tiff_files('data/20210813 SERS timed immersion experiment/4')\n",
    "f_sup_0813, aceph_0813 = RD.read_dir_tiff_files('data/20210813 SERS timed immersion experiment/5')\n",
    "f_sup_0813, car_aceta_0813 = RD.read_dir_tiff_files('data/20210813 SERS timed immersion experiment/1+4')\n",
    "f_sup_0813, car_aceph_0813 = RD.read_dir_tiff_files('data/20210813 SERS timed immersion experiment/1+5')\n",
    "f_sup_0813, aceta_aceph_0813 = RD.read_dir_tiff_files('data/20210813 SERS timed immersion experiment/4+5')\n",
    "f_sup_0813, car_aceta_aceph_0813 = RD.read_dir_tiff_files('data/20210813 SERS timed immersion experiment/1+4+5')"
   ]
  },
  {
   "cell_type": "markdown",
   "id": "ebcd5120-b628-4555-8de3-954e0dc4f64c",
   "metadata": {},
   "source": [
    "#### 8/18 measurements"
   ]
  },
  {
   "cell_type": "code",
   "execution_count": 8,
   "id": "44352b32-33c0-4950-98cf-bc663967747c",
   "metadata": {},
   "outputs": [],
   "source": [
    "f_sup_0818, car_0818 = RD.read_dir_tiff_files('data/20210818 SERS timed immersion experiment/1')\n",
    "f_sup_0818, aceta_0818 = RD.read_dir_tiff_files('data/20210818 SERS timed immersion experiment/4')\n",
    "f_sup_0818, aceph_0818 = RD.read_dir_tiff_files('data/20210818 SERS timed immersion experiment/5')\n",
    "f_sup_0818, car_aceta_0818 = RD.read_dir_tiff_files('data/20210818 SERS timed immersion experiment/1+4')\n",
    "f_sup_0818, car_aceph_0818 = RD.read_dir_tiff_files('data/20210818 SERS timed immersion experiment/1+5')\n",
    "f_sup_0818, aceta_aceph_0818 = RD.read_dir_tiff_files('data/20210818 SERS timed immersion experiment/4+5')\n",
    "f_sup_0818, car_aceta_aceph_0818 = RD.read_dir_tiff_files('data/20210818 SERS timed immersion experiment/1+4+5')"
   ]
  },
  {
   "cell_type": "markdown",
   "id": "f6935884-9eda-4f2b-98cc-e799b318cfef",
   "metadata": {},
   "source": [
    "#### Merging all of the data for convinience"
   ]
  },
  {
   "cell_type": "code",
   "execution_count": 35,
   "id": "e2a263a7-93f7-470f-beac-91d022ed3ae2",
   "metadata": {},
   "outputs": [],
   "source": [
    "carbendanzim_data = {**car_0810, **car_0811, **car_0813, **car_0818}\n",
    "acetamiprid_data = {**aceta_0810, **aceta_0811, **aceta_0813, **aceta_0818}\n",
    "acephate_data = {**aceph_0810, **aceph_0811, **aceph_0813, **aceph_0818}\n",
    "car_aceta_data = {**car_aceta_0810, **car_aceta_0811, **car_aceta_0813, **car_aceta_0818}\n",
    "car_aceph_data = {**car_aceph_0810, **car_aceph_0811, **car_aceph_0813, **car_aceph_0818}\n",
    "aceta_aceph_data = {**aceta_aceph_0810, **aceta_aceph_0811, **aceta_aceph_0813, **aceta_aceph_0818}\n",
    "car_aceta_aceph_data = {**car_aceta_aceph_0810, **car_aceta_aceph_0811, **car_aceta_aceph_0813, **car_aceta_aceph_0818}"
   ]
  },
  {
   "cell_type": "markdown",
   "id": "051d54ad-9712-497d-9da7-a9a3664728fc",
   "metadata": {},
   "source": [
    "### Orderly set up  \n",
    "Since the files in the directories are processed as keys in a dictionary, we loose the order of time and power.  \n",
    "That is why we create this list of strings to process the whole data in an orderly fashion.  "
   ]
  },
  {
   "cell_type": "markdown",
   "id": "a5594117-e25d-4d6d-81c3-d5d81972754f",
   "metadata": {},
   "source": [
    "#### Define measument time points"
   ]
  },
  {
   "cell_type": "code",
   "execution_count": 10,
   "id": "04c1476c-e99b-478e-92c8-a109843289c6",
   "metadata": {},
   "outputs": [],
   "source": [
    "time_points = [5, 30, 60, 180, 300, 1440, 4320, 11520]\n",
    "time_labels = ['5 min', '30 min', '1 hour', '3 hours', '5 hours', '24 hours', '3 days (4320 mins)', '8 days (11520 mins)']"
   ]
  },
  {
   "cell_type": "markdown",
   "id": "7da45603-8c63-4e04-8931-23cd9316a361",
   "metadata": {},
   "source": [
    "#### Carbendazim data"
   ]
  },
  {
   "cell_type": "code",
   "execution_count": 11,
   "id": "5608741a-2872-4a71-9132-c38331baf106",
   "metadata": {},
   "outputs": [],
   "source": [
    "car_power_1_time_evol = ['1_5min_1', '1_30min_1', '1_1hour_1', '1_3hours_1', '1_5hours_1', '1_24hours_1', '1_1458hours_1_1', '1_1530_1']\n",
    "car_power_2_time_evol = ['1_5min_2', '1_30min_2', '1_1hour_2', '1_3hours_2', '1_5hours_2', '1_24hours_2', '1_1458hours_1_2', '1_1530_2']\n",
    "car_power_3_time_evol = ['1_5min_3', '1_30min_3', '1_1hour_3', '1_3hours_3', '1_5hours_3', '1_24hours_3', '1_1458hours_1_3', '1_1530_3']\n",
    "car_power_4_time_evol = ['1_5min_4', '1_30min_4', '1_1hour_4', '1_3hours_4', '1_5hours_4', '1_24hours_4', '1_1458hours_1_4', '1_1530_4']\n",
    "car_power_5_time_evol = ['1_5min_5', '1_30min_5', '1_1hour_5', '1_3hours_5', '1_5hours_5', '1_24hours_5', '1_1458hours_1_5', '1_1530_5']"
   ]
  },
  {
   "cell_type": "code",
   "execution_count": 14,
   "id": "dab5fe80-d43f-4f67-bee9-fdadff88bef3",
   "metadata": {},
   "outputs": [],
   "source": [
    "car_power_time_evol_mean = np.zeros((5, 8, 1600))"
   ]
  },
  {
   "cell_type": "code",
   "execution_count": 15,
   "id": "61c39ed6-da9e-47ee-9a42-c480e99efe66",
   "metadata": {},
   "outputs": [],
   "source": [
    "j = 0\n",
    "for idx_1, idx_2, idx_3, idx_4, idx_5 in zip(car_power_1_time_evol, car_power_2_time_evol, car_power_3_time_evol, car_power_4_time_evol, car_power_5_time_evol):\n",
    "    car_power_time_evol_mean[0, j] = np.mean(carbendanzim_data[idx_1], axis=0)\n",
    "    car_power_time_evol_mean[1, j] = np.mean(carbendanzim_data[idx_2], axis=0)\n",
    "    car_power_time_evol_mean[2, j] = np.mean(carbendanzim_data[idx_3], axis=0)\n",
    "    car_power_time_evol_mean[3, j] = np.mean(carbendanzim_data[idx_4], axis=0)\n",
    "    car_power_time_evol_mean[4, j] = np.mean(carbendanzim_data[idx_5], axis=0)\n",
    "    j += 1"
   ]
  },
  {
   "cell_type": "markdown",
   "id": "516da413-a153-44c5-92d5-3debdc18f929",
   "metadata": {},
   "source": [
    "#### Export as CSV"
   ]
  },
  {
   "cell_type": "code",
   "execution_count": 47,
   "id": "54421a8a-9a74-4eab-9f10-78ca311b7665",
   "metadata": {},
   "outputs": [],
   "source": [
    "df = pd.DataFrame(data=car_power_time_evol_mean[4].T, columns=time_labels)\n",
    "df.to_csv(\"car_power_5_mean_data.csv\", index=False)"
   ]
  },
  {
   "cell_type": "code",
   "execution_count": null,
   "id": "6c059d64-3534-4b9e-ada8-aa349d1cbd76",
   "metadata": {},
   "outputs": [],
   "source": [
    "j = 0\n",
    "for item in car_power_time_evol_mean:\n",
    "    savetxt('car_mean_data.csv', item, delimiter=',')"
   ]
  },
  {
   "cell_type": "markdown",
   "id": "dcd9fabb-fb6f-455c-a376-8b82df87dee6",
   "metadata": {},
   "source": [
    "#### Acetamiprid data"
   ]
  },
  {
   "cell_type": "code",
   "execution_count": 16,
   "id": "515a2900-0829-44ca-a479-3cba51bd07cb",
   "metadata": {},
   "outputs": [],
   "source": [
    "aceta_power_1_time_evol = ['4_5min_1', '4_30min_1', '4_1hour_1', '4_3hours_1', '4_5hours_1', '4_24hours_1', '1_1513hours_1_1_1', '4_1540_1']\n",
    "aceta_power_2_time_evol = ['4_5min_2', '4_30min_2', '4_1hour_2', '4_3hours_2', '4_5hours_2', '4_24hours_2', '1_1513hours_1_1_2', '4_1540_2']\n",
    "aceta_power_3_time_evol = ['4_5min_3', '4_30min_3', '4_1hour_3', '4_3hours_3', '4_5hours_3', '4_24hours_3', '1_1513hours_1_1_3', '4_1540_3']\n",
    "aceta_power_4_time_evol = ['4_5min_4', '4_30min_4', '4_1hour_4', '4_3hours_4', '4_5hours_4', '4_24hours_4', '1_1513hours_1_1_4', '4_1540_4']\n",
    "aceta_power_5_time_evol = ['4_5min_5', '4_30min_5', '4_1hour_5', '4_3hours_5', '4_5hours_5', '4_24hours_5', '1_1513hours_1_1_5', '4_1540_5']"
   ]
  },
  {
   "cell_type": "code",
   "execution_count": 17,
   "id": "199d0415-a683-4ec1-bb46-2c3114923a48",
   "metadata": {},
   "outputs": [],
   "source": [
    "aceta_power_time_evol_mean = np.zeros((5, 8, 1600))"
   ]
  },
  {
   "cell_type": "code",
   "execution_count": 18,
   "id": "b7600c03-9d31-4dee-bcde-83362d0042ab",
   "metadata": {},
   "outputs": [],
   "source": [
    "j = 0\n",
    "for idx_1, idx_2, idx_3, idx_4, idx_5 in zip(aceta_power_1_time_evol, aceta_power_2_time_evol, aceta_power_3_time_evol, aceta_power_4_time_evol, aceta_power_5_time_evol):\n",
    "    aceta_power_time_evol_mean[0, j] = np.mean(acetamiprid_data[idx_1], axis=0)\n",
    "    aceta_power_time_evol_mean[1, j] = np.mean(acetamiprid_data[idx_2], axis=0)\n",
    "    aceta_power_time_evol_mean[2, j] = np.mean(acetamiprid_data[idx_3], axis=0)\n",
    "    aceta_power_time_evol_mean[3, j] = np.mean(acetamiprid_data[idx_4], axis=0)\n",
    "    aceta_power_time_evol_mean[4, j] = np.mean(acetamiprid_data[idx_5], axis=0)\n",
    "    j += 1"
   ]
  },
  {
   "cell_type": "markdown",
   "id": "421fa0ae-d3f2-4a15-b5e6-38c052ec9435",
   "metadata": {},
   "source": [
    "#### Acephate data"
   ]
  },
  {
   "cell_type": "code",
   "execution_count": 19,
   "id": "9bedd028-8765-4402-83ad-ee3927a15f05",
   "metadata": {},
   "outputs": [],
   "source": [
    "aceph_power_1_time_evol = ['5_5min_1', '5_30min_1', '5_1hour_1', '5_3hours_1', '5_5hours_1', '5_24hours_1', '5_1538hours_1_1_1', '5_1545(inside)_1']\n",
    "aceph_power_2_time_evol = ['5_5min_2', '5_30min_2', '5_1hour_2', '5_3hours_2', '5_5hours_2', '5_24hours_2', '5_1538hours_1_1_2', '5_1545(inside)_2']\n",
    "aceph_power_3_time_evol = ['5_5min_3', '5_30min_3', '5_1hour_3', '5_3hours_3', '5_5hours_3', '5_24hours_3', '5_1538hours_1_1_3', '5_1545(inside)_3']\n",
    "aceph_power_4_time_evol = ['5_5min_4', '5_30min_4', '5_1hour_4', '5_3hours_4', '5_5hours_4', '5_24hours_4', '5_1538hours_1_1_4', '5_1545(inside)_4']\n",
    "aceph_power_5_time_evol = ['5_5min_5', '5_30min_5', '5_1hour_5', '5_3hours_5', '5_5hours_5', '5_24hours_5', '5_1538hours_1_1_5', '5_1545(inside)_5']"
   ]
  },
  {
   "cell_type": "code",
   "execution_count": 20,
   "id": "6e96e529-9a11-40c2-9dee-14e224337dd7",
   "metadata": {},
   "outputs": [],
   "source": [
    "aceph_power_time_evol_mean = np.zeros((5, 8, 1600))"
   ]
  },
  {
   "cell_type": "code",
   "execution_count": 21,
   "id": "82ab8876-d513-4fb3-9870-a7db88008e3f",
   "metadata": {},
   "outputs": [],
   "source": [
    "j = 0\n",
    "for idx_1, idx_2, idx_3, idx_4, idx_5 in zip(aceph_power_1_time_evol, aceph_power_2_time_evol, aceph_power_3_time_evol, aceph_power_4_time_evol, aceph_power_5_time_evol):\n",
    "    aceph_power_time_evol_mean[0, j] = np.mean(acephate_data[idx_1], axis=0)\n",
    "    aceph_power_time_evol_mean[1, j] = np.mean(acephate_data[idx_2], axis=0)\n",
    "    aceph_power_time_evol_mean[2, j] = np.mean(acephate_data[idx_3], axis=0)\n",
    "    aceph_power_time_evol_mean[3, j] = np.mean(acephate_data[idx_4], axis=0)\n",
    "    aceph_power_time_evol_mean[4, j] = np.mean(acephate_data[idx_5], axis=0)\n",
    "    j += 1"
   ]
  },
  {
   "cell_type": "markdown",
   "id": "8e061ea0-eb30-4a64-ac8d-2287eb694111",
   "metadata": {},
   "source": [
    "#### Carbendazim + Acetamiprid data"
   ]
  },
  {
   "cell_type": "code",
   "execution_count": 22,
   "id": "ec06ddcc-e8da-4c4e-8bbe-fd9da3514d08",
   "metadata": {},
   "outputs": [],
   "source": [
    "car_aceta_power_1_time_evol = ['1+4_5min_1', '1+4_30min_1', '1+4_1hour_1', '1+4_3hours_1', '1+4_5hours_1', '1+4_24hours_1', '1+4_1550hour_1', '1+4_1605_1']\n",
    "car_aceta_power_2_time_evol = ['1+4_5min_2', '1+4_30min_2', '1+4_1hour_2', '1+4_3hours_2', '1+4_5hours_2', '1+4_24hours_2', '1+4_1550hour_2', '1+4_1605_2']\n",
    "car_aceta_power_3_time_evol = ['1+4_5min_3', '1+4_30min_3', '1+4_1hour_3', '1+4_3hours_3', '1+4_5hours_3', '1+4_24hours_3', '1+4_1550hour_3', '1+4_1605_3']\n",
    "car_aceta_power_4_time_evol = ['1+4_5min_4', '1+4_30min_4', '1+4_1hour_4', '1+4_3hours_4', '1+4_5hours_4', '1+4_24hours_4', '1+4_1550hour_4', '1+4_1605_4']\n",
    "car_aceta_power_5_time_evol = ['1+4_5min_5', '1+4_30min_5', '1+4_1hour_5', '1+4_3hours_5', '1+4_5hours_5', '1+4_24hours_5', '1+4_1550hour_5', '1+4_1605_5']"
   ]
  },
  {
   "cell_type": "code",
   "execution_count": 23,
   "id": "243e8469-5e22-4187-958f-6bdc8cbd9851",
   "metadata": {},
   "outputs": [],
   "source": [
    "car_aceta_power_time_evol_mean = np.zeros((5, 8, 1600))"
   ]
  },
  {
   "cell_type": "code",
   "execution_count": 24,
   "id": "22511e07-541a-4234-9052-fde552a7a135",
   "metadata": {},
   "outputs": [],
   "source": [
    "j = 0\n",
    "for idx_1, idx_2, idx_3, idx_4, idx_5 in zip(car_aceta_power_1_time_evol, car_aceta_power_2_time_evol, car_aceta_power_3_time_evol, car_aceta_power_4_time_evol, car_aceta_power_5_time_evol):\n",
    "    car_aceta_power_time_evol_mean[0, j] = np.mean(car_aceta_data[idx_1], axis=0)\n",
    "    car_aceta_power_time_evol_mean[1, j] = np.mean(car_aceta_data[idx_2], axis=0)\n",
    "    car_aceta_power_time_evol_mean[2, j] = np.mean(car_aceta_data[idx_3], axis=0)\n",
    "    car_aceta_power_time_evol_mean[3, j] = np.mean(car_aceta_data[idx_4], axis=0)\n",
    "    car_aceta_power_time_evol_mean[4, j] = np.mean(car_aceta_data[idx_5], axis=0)\n",
    "    j += 1"
   ]
  },
  {
   "cell_type": "markdown",
   "id": "a7e84157-58f6-4283-bb7e-668e3b8a9c85",
   "metadata": {},
   "source": [
    "#### Carbendazim + Acephate data"
   ]
  },
  {
   "cell_type": "code",
   "execution_count": 25,
   "id": "90e0d8d4-c766-494b-bfb2-c007a777e2aa",
   "metadata": {},
   "outputs": [],
   "source": [
    "car_aceph_power_1_time_evol = ['1+5_5min_1', '1+5_30min_1', '1+5_1hour_1', '1+5_3hours_1', '1+5_5hours_1', '1+5_24hours_1', '1+5_1632hour_1', '1+5_1635_1']\n",
    "car_aceph_power_2_time_evol = ['1+5_5min_2', '1+5_30min_2', '1+5_1hour_2', '1+5_3hours_2', '1+5_5hours_2', '1+5_24hours_2', '1+5_1632hour_2', '1+5_1635_2']\n",
    "car_aceph_power_3_time_evol = ['1+5_5min_3', '1+5_30min_3', '1+5_1hour_3', '1+5_3hours_3', '1+5_5hours_3', '1+5_24hours_3', '1+5_1632hour_3', '1+5_1635_3']\n",
    "car_aceph_power_4_time_evol = ['1+5_5min_4', '1+5_30min_4', '1+5_1hour_4', '1+5_3hours_4', '1+5_5hours_4', '1+5_24hours_4', '1+5_1632hour_4', '1+5_1635_4']\n",
    "car_aceph_power_5_time_evol = ['1+5_5min_5', '1+5_30min_5', '1+5_1hour_5', '1+5_3hours_5', '1+5_5hours_5', '1+5_24hours_5', '1+5_1632hour_5', '1+5_1635_5']"
   ]
  },
  {
   "cell_type": "code",
   "execution_count": 26,
   "id": "016e333d-5900-493d-9d26-9d0ed80c25c2",
   "metadata": {},
   "outputs": [],
   "source": [
    "car_aceph_power_time_evol_mean = np.zeros((5, 8, 1600))"
   ]
  },
  {
   "cell_type": "code",
   "execution_count": 27,
   "id": "2425e16a-1839-4a54-9361-10f66e9cbb98",
   "metadata": {},
   "outputs": [],
   "source": [
    "j = 0\n",
    "for idx_1, idx_2, idx_3, idx_4, idx_5 in zip(car_aceph_power_1_time_evol, car_aceph_power_2_time_evol, car_aceph_power_3_time_evol, car_aceph_power_4_time_evol, car_aceph_power_5_time_evol):\n",
    "    car_aceph_power_time_evol_mean[0, j] = np.mean(car_aceph_data[idx_1], axis=0)\n",
    "    car_aceph_power_time_evol_mean[1, j] = np.mean(car_aceph_data[idx_2], axis=0)\n",
    "    car_aceph_power_time_evol_mean[2, j] = np.mean(car_aceph_data[idx_3], axis=0)\n",
    "    car_aceph_power_time_evol_mean[3, j] = np.mean(car_aceph_data[idx_4], axis=0)\n",
    "    car_aceph_power_time_evol_mean[4, j] = np.mean(car_aceph_data[idx_5], axis=0)\n",
    "    j += 1"
   ]
  },
  {
   "cell_type": "markdown",
   "id": "de49ae07-1e7e-4566-94f4-2d5992cec5ee",
   "metadata": {},
   "source": [
    "#### Acetamiprid + Acephate data"
   ]
  },
  {
   "cell_type": "code",
   "execution_count": 28,
   "id": "9af15638-90cb-4fc2-b5e6-24c079f74409",
   "metadata": {},
   "outputs": [],
   "source": [
    "aceta_aceph_power_1_time_evol = ['4+5_5min_1', '4+5_30min_1', '4+5_1hour_1', '4+5_3hours_1', '4+5_5hours_1', '4+5_24hours_1', '1+5_1642hour_1_1', '4+5_1645_1']\n",
    "aceta_aceph_power_2_time_evol = ['4+5_5min_2', '4+5_30min_2', '4+5_1hour_2', '4+5_3hours_2', '4+5_5hours_2', '4+5_24hours_2', '1+5_1642hour_1_2', '4+5_1645_2']\n",
    "aceta_aceph_power_3_time_evol = ['4+5_5min_3', '4+5_30min_3', '4+5_1hour_3', '4+5_3hours_3', '4+5_5hours_3', '4+5_24hours_3', '1+5_1642hour_1_3', '4+5_1645_3']\n",
    "aceta_aceph_power_4_time_evol = ['4+5_5min_4', '4+5_30min_4', '4+5_1hour_4', '4+5_3hours_4', '4+5_5hours_4', '4+5_24hours_4', '1+5_1642hour_1_4', '4+5_1645_4']\n",
    "aceta_aceph_power_5_time_evol = ['4+5_5min_5', '4+5_30min_5', '4+5_1hour_5', '4+5_3hours_5', '4+5_5hours_5', '4+5_24hours_5', '1+5_1642hour_1_5', '4+5_1645_5']"
   ]
  },
  {
   "cell_type": "code",
   "execution_count": 29,
   "id": "8cfbada8-cde4-45c9-92b2-165e64aed3b1",
   "metadata": {},
   "outputs": [],
   "source": [
    "aceta_aceph_power_time_evol_mean = np.zeros((5, 8, 1600))"
   ]
  },
  {
   "cell_type": "code",
   "execution_count": 30,
   "id": "c8f8d154-3f9f-436c-be0c-cdcc5c430cf2",
   "metadata": {},
   "outputs": [],
   "source": [
    "j = 0\n",
    "for idx_1, idx_2, idx_3, idx_4, idx_5 in zip(aceta_aceph_power_1_time_evol, aceta_aceph_power_2_time_evol, aceta_aceph_power_3_time_evol, aceta_aceph_power_4_time_evol, aceta_aceph_power_5_time_evol):\n",
    "    aceta_aceph_power_time_evol_mean[0, j] = np.mean(aceta_aceph_data[idx_1], axis=0)\n",
    "    aceta_aceph_power_time_evol_mean[1, j] = np.mean(aceta_aceph_data[idx_2], axis=0)\n",
    "    aceta_aceph_power_time_evol_mean[2, j] = np.mean(aceta_aceph_data[idx_3], axis=0)\n",
    "    aceta_aceph_power_time_evol_mean[3, j] = np.mean(aceta_aceph_data[idx_4], axis=0)\n",
    "    aceta_aceph_power_time_evol_mean[4, j] = np.mean(aceta_aceph_data[idx_5], axis=0)\n",
    "    j += 1"
   ]
  },
  {
   "cell_type": "markdown",
   "id": "3cf44f0a-b9cf-48c8-af14-8191852659fb",
   "metadata": {},
   "source": [
    "#### Carbendazim + Acetamiprid + Acephate"
   ]
  },
  {
   "cell_type": "code",
   "execution_count": 36,
   "id": "b919735d-1e1e-4e4b-9f6b-7c500a950f29",
   "metadata": {},
   "outputs": [],
   "source": [
    "car_aceta_aceph_power_1_time_evol = ['1+4+5_5min_1', '1+4+5_30min_1', '1+4+5_1hour_1', '1+4+5_3hours_1', '1+4+5_5hours_1', '1+4+5_24hours_1', '1+4+5_1650hour_1', '1+4+5_1650_1']\n",
    "car_aceta_aceph_power_2_time_evol = ['1+4+5_5min_2', '1+4+5_30min_2', '1+4+5_1hour_2', '1+4+5_3hours_2', '1+4+5_5hours_2', '1+4+5_24hours_2', '1+4+5_1650hour_2', '1+4+5_1650_2']\n",
    "car_aceta_aceph_power_3_time_evol = ['1+4+5_5min_3', '1+4+5_30min_3', '1+4+5_1hour_3', '1+4+5_3hours_3', '1+4+5_5hours_3', '1+4+5_24hours_3', '1+4+5_1650hour_3', '1+4+5_1650_3']\n",
    "car_aceta_aceph_power_4_time_evol = ['1+4+5_5min_4', '1+4+5_30min_4', '1+4+5_1hour_4', '1+4+5_3hours_4', '1+4+5_5hours_4', '1+4+5_24hours_4', '1+4+5_1650hour_4', '1+4+5_1650_4']\n",
    "car_aceta_aceph_power_5_time_evol = ['1+4+5_5min_5', '1+4+5_30min_5', '1+4+5_1hour_5', '1+4+5_3hours_5', '1+4+5_5hours_5', '1+4+5_24hours_5', '1+4+5_1650hour_5', '1+4+5_1650_5']"
   ]
  },
  {
   "cell_type": "code",
   "execution_count": 37,
   "id": "e73e47e8-c1ab-4cc3-ae9c-65352a952ac1",
   "metadata": {},
   "outputs": [],
   "source": [
    "car_aceta_aceph_power_time_evol_mean = np.zeros((5, 8, 1600))"
   ]
  },
  {
   "cell_type": "code",
   "execution_count": 38,
   "id": "1b520271-8b4e-4892-8bab-669edda653ac",
   "metadata": {},
   "outputs": [],
   "source": [
    "j = 0\n",
    "for idx_1, idx_2, idx_3, idx_4, idx_5 in zip(car_aceta_aceph_power_1_time_evol, car_aceta_aceph_power_2_time_evol, car_aceta_aceph_power_3_time_evol, car_aceta_aceph_power_4_time_evol, car_aceta_aceph_power_5_time_evol):\n",
    "    car_aceta_aceph_power_time_evol_mean[0, j] = np.mean(car_aceta_aceph_data[idx_1], axis=0)\n",
    "    car_aceta_aceph_power_time_evol_mean[1, j] = np.mean(car_aceta_aceph_data[idx_2], axis=0)\n",
    "    car_aceta_aceph_power_time_evol_mean[2, j] = np.mean(car_aceta_aceph_data[idx_3], axis=0)\n",
    "    car_aceta_aceph_power_time_evol_mean[3, j] = np.mean(car_aceta_aceph_data[idx_4], axis=0)\n",
    "    car_aceta_aceph_power_time_evol_mean[4, j] = np.mean(car_aceta_aceph_data[idx_5], axis=0)\n",
    "    j += 1"
   ]
  },
  {
   "cell_type": "markdown",
   "id": "c27fa134-2b37-4bf2-9a99-e6495ef0b019",
   "metadata": {},
   "source": [
    "#### Process power table for future use"
   ]
  },
  {
   "cell_type": "code",
   "execution_count": 39,
   "id": "22055903-b276-494e-bec0-4e20e228aa1a",
   "metadata": {},
   "outputs": [],
   "source": [
    "power_table = pd.read_csv(\"data/power_table.csv\")\n",
    "\n",
    "power_hwp = power_table[\"HWP Angle\"].tolist()\n",
    "power_watts = power_table[\"no ND\"].tolist()\n",
    "\n",
    "power_hwp_labels = power_table[\"HWP Angle\"].apply(str).tolist()\n",
    "power_watts_labels = power_table[\"no ND\"].apply(str).tolist()"
   ]
  },
  {
   "cell_type": "markdown",
   "id": "362094e7-192a-4f72-a36e-9bc8fc171444",
   "metadata": {},
   "source": [
    "### Smooth the data  \n",
    "The smoothing is done using Savitsky-Golay Filter. The subject of choosing appropriate window is still under the consideration"
   ]
  },
  {
   "cell_type": "code",
   "execution_count": null,
   "id": "defedf3f-5f0d-4ccc-99da-721e9e0b7df3",
   "metadata": {},
   "outputs": [],
   "source": [
    "car_power_time_evol_mean_smooth = np.zeros_like(car_power_time_evol_mean)\n",
    "for i in range(car_power_time_evol_mean.shape[0]):\n",
    "     car_power_time_evol_mean_smooth[i] = savgol_filter(car_power_time_evol_mean[i], window_length=5, polyorder=3, axis=1)"
   ]
  },
  {
   "cell_type": "code",
   "execution_count": null,
   "id": "e779be75-6839-4033-ba09-9eb1cd26e4ea",
   "metadata": {},
   "outputs": [],
   "source": [
    "aceta_power_time_evol_mean_smooth = np.zeros_like(aceta_power_time_evol_mean)\n",
    "for i in range(aceta_power_time_evol_mean.shape[0]):\n",
    "     aceta_power_time_evol_mean_smooth[i] = savgol_filter(aceta_power_time_evol_mean[i], window_length=5, polyorder=3, axis=1)"
   ]
  },
  {
   "cell_type": "code",
   "execution_count": null,
   "id": "9493c293-0731-4724-817c-d3fba6d6373b",
   "metadata": {},
   "outputs": [],
   "source": [
    "aceph_power_time_evol_mean_smooth = np.zeros_like(aceph_power_time_evol_mean)\n",
    "for i in range(aceph_power_time_evol_mean.shape[0]):\n",
    "     aceph_power_time_evol_mean_smooth[i] = savgol_filter(aceph_power_time_evol_mean[i], window_length=5, polyorder=3, axis=1)"
   ]
  },
  {
   "cell_type": "code",
   "execution_count": null,
   "id": "79e38a98-988a-412f-96d6-09d21357f6dc",
   "metadata": {},
   "outputs": [],
   "source": [
    "car_aceta_power_time_evol_mean_smooth = np.zeros_like(car_aceta_power_time_evol_mean)\n",
    "for i in range(car_aceta_power_time_evol_mean.shape[0]):\n",
    "     car_aceta_power_time_evol_mean_smooth[i] = savgol_filter(car_aceta_power_time_evol_mean[i], window_length=5, polyorder=3, axis=1)"
   ]
  },
  {
   "cell_type": "code",
   "execution_count": null,
   "id": "9c88f2c6-1928-4583-a187-5099b2422925",
   "metadata": {},
   "outputs": [],
   "source": [
    "car_aceph_power_time_evol_mean_smooth = np.zeros_like(car_aceph_power_time_evol_mean)\n",
    "for i in range(car_aceph_power_time_evol_mean.shape[0]):\n",
    "     car_aceph_power_time_evol_mean_smooth[i] = savgol_filter(car_aceph_power_time_evol_mean[i], window_length=5, polyorder=3, axis=1)"
   ]
  },
  {
   "cell_type": "code",
   "execution_count": null,
   "id": "1b2eb2e1-a6bd-4186-b3ae-2b1006f78bf8",
   "metadata": {},
   "outputs": [],
   "source": [
    "aceta_aceph_power_time_evol_mean_smooth = np.zeros_like(aceta_aceph_power_time_evol_mean)\n",
    "for i in range(aceta_aceph_power_time_evol_mean.shape[0]):\n",
    "     aceta_aceph_power_time_evol_mean_smooth[i] = savgol_filter(aceta_aceph_power_time_evol_mean[i], window_length=5, polyorder=3, axis=1)"
   ]
  },
  {
   "cell_type": "code",
   "execution_count": null,
   "id": "dcc0315d-8bca-4daf-92cd-ef7ac04e19b6",
   "metadata": {},
   "outputs": [],
   "source": [
    "car_aceta_aceph_power_time_evol_mean_smooth = np.zeros_like(car_aceta_aceph_power_time_evol_mean)\n",
    "for i in range(car_aceta_aceph_power_time_evol_mean.shape[0]):\n",
    "     car_aceta_aceph_power_time_evol_mean_smooth[i] = savgol_filter(car_aceta_aceph_power_time_evol_mean[i], window_length=5, polyorder=3, axis=1)"
   ]
  },
  {
   "cell_type": "markdown",
   "id": "7f5d4874-8953-4021-b9ce-74637958b31b",
   "metadata": {},
   "source": [
    "### Checking for noise"
   ]
  },
  {
   "cell_type": "code",
   "execution_count": null,
   "id": "5fdd5ba8-30f4-4ad8-88a2-453e9b70b5b1",
   "metadata": {},
   "outputs": [],
   "source": [
    "car_power_time_evol_noise = car_power_time_evol_mean_smooth - car_power_time_evol_mean\n",
    "aceta_power_time_evol_noise = aceta_power_time_evol_mean_smooth - aceta_power_time_evol_mean\n",
    "aceph_power_time_evol_noise = aceph_power_time_evol_mean_smooth - aceph_power_time_evol_mean\n",
    "car_aceta_power_time_evol_noise = car_aceta_power_time_evol_mean_smooth - car_aceta_power_time_evol_mean\n",
    "car_aceph_power_time_evol_noise = car_aceph_power_time_evol_mean_smooth - car_aceph_power_time_evol_mean\n",
    "aceta_aceph_power_time_evol_noise = aceta_aceph_power_time_evol_mean_smooth - aceta_power_time_evol_mean\n",
    "car_aceta_aceph_power_time_evol_noise = car_aceta_aceph_power_time_evol_mean_smooth - car_aceta_aceph_power_time_evol_mean"
   ]
  },
  {
   "cell_type": "markdown",
   "id": "5ea5ac72-8d20-4a7f-af60-95fea1f64e81",
   "metadata": {},
   "source": [
    "#### FFT noise analysis"
   ]
  },
  {
   "cell_type": "code",
   "execution_count": null,
   "id": "e3eebc7b-034e-419e-a10b-fe29d62bbc20",
   "metadata": {},
   "outputs": [],
   "source": []
  },
  {
   "cell_type": "markdown",
   "id": "b3cbdd6b-bbb9-4ace-869b-fef6c8e6f7f7",
   "metadata": {},
   "source": [
    "### Local background estimation"
   ]
  },
  {
   "cell_type": "code",
   "execution_count": null,
   "id": "557c960b-d8d7-4859-9667-ccf5189c5533",
   "metadata": {},
   "outputs": [],
   "source": []
  }
 ],
 "metadata": {
  "kernelspec": {
   "display_name": "Python 3",
   "language": "python",
   "name": "python3"
  },
  "language_info": {
   "codemirror_mode": {
    "name": "ipython",
    "version": 3
   },
   "file_extension": ".py",
   "mimetype": "text/x-python",
   "name": "python",
   "nbconvert_exporter": "python",
   "pygments_lexer": "ipython3",
   "version": "3.8.10"
  }
 },
 "nbformat": 4,
 "nbformat_minor": 5
}
