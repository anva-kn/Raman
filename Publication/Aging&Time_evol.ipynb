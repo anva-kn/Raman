{
 "cells": [
  {
   "cell_type": "code",
   "execution_count": 1,
   "metadata": {},
   "outputs": [],
   "source": [
    "%load_ext autoreload\n",
    "%autoreload 2"
   ]
  },
  {
   "cell_type": "code",
   "execution_count": 3,
   "metadata": {},
   "outputs": [],
   "source": [
    "import sys\n",
    "sys.path.insert(0, '../')"
   ]
  },
  {
   "cell_type": "code",
   "execution_count": 4,
   "metadata": {},
   "outputs": [],
   "source": [
    "from tools.ramanflow.read_data import ReadData as RD\n",
    "from tools.ramanflow.prep_data import PrepData as rpd"
   ]
  },
  {
   "cell_type": "code",
   "execution_count": 5,
   "metadata": {},
   "outputs": [],
   "source": [
    "import matplotlib.pyplot as plt\n",
    "import numpy as np\n",
    "import os\n",
    "import pandas as pd"
   ]
  },
  {
   "cell_type": "code",
   "execution_count": 34,
   "metadata": {},
   "outputs": [],
   "source": [
    "f_sup_0810, car_0810 = RD.read_dir_tiff_files('../data/20210810 SERS timed immersion experiment/1')\n",
    "f_sup_0810, aceta_0810 = RD.read_dir_tiff_files('../data/20210810 SERS timed immersion experiment/4')\n",
    "f_sup_0810, aceph_0810 = RD.read_dir_tiff_files('../data/20210810 SERS timed immersion experiment/5')\n",
    "f_sup_0810, car_aceta_0810 = RD.read_dir_tiff_files('../data/20210810 SERS timed immersion experiment/1+4')\n",
    "f_sup_0810, car_aceph_0810 = RD.read_dir_tiff_files('../data/20210810 SERS timed immersion experiment/1+5')\n",
    "f_sup_0810, aceta_aceph_0810 = RD.read_dir_tiff_files('../data/20210810 SERS timed immersion experiment/4+5')\n",
    "f_sup_0810, car_aceta_aceph_0810 = RD.read_dir_tiff_files('../data/20210810 SERS timed immersion experiment/1+4+5')"
   ]
  },
  {
   "cell_type": "code",
   "execution_count": 35,
   "metadata": {},
   "outputs": [],
   "source": [
    "f_sup_0811, car_0811 = RD.read_dir_tiff_files('../data/20210811 SERS timed immersion experiment/1')\n",
    "f_sup_0811, aceta_0811 = RD.read_dir_tiff_files('../data/20210811 SERS timed immersion experiment/4')\n",
    "f_sup_0811, aceph_0811 = RD.read_dir_tiff_files('../data/20210811 SERS timed immersion experiment/5')\n",
    "f_sup_0811, car_aceta_0811 = RD.read_dir_tiff_files('../data/20210811 SERS timed immersion experiment/1+4')\n",
    "f_sup_0811, car_aceph_0811 = RD.read_dir_tiff_files('../data/20210811 SERS timed immersion experiment/1+5')\n",
    "f_sup_0811, aceta_aceph_0811 = RD.read_dir_tiff_files('../data/20210811 SERS timed immersion experiment/4+5')\n",
    "f_sup_0811, car_aceta_aceph_0811 = RD.read_dir_tiff_files('../data/20210811 SERS timed immersion experiment/1+4+5')"
   ]
  },
  {
   "cell_type": "code",
   "execution_count": 36,
   "metadata": {},
   "outputs": [],
   "source": [
    "f_sup_0813, car_0813 = RD.read_dir_tiff_files('../data/20210813 SERS timed immersion experiment/1')\n",
    "f_sup_0813, aceta_0813 = RD.read_dir_tiff_files('../data/20210813 SERS timed immersion experiment/4')\n",
    "f_sup_0813, aceph_0813 = RD.read_dir_tiff_files('../data/20210813 SERS timed immersion experiment/5')\n",
    "f_sup_0813, car_aceta_0813 = RD.read_dir_tiff_files('../data/20210813 SERS timed immersion experiment/1+4')\n",
    "f_sup_0813, car_aceph_0813 = RD.read_dir_tiff_files('../data/20210813 SERS timed immersion experiment/1+5')\n",
    "f_sup_0813, aceta_aceph_0813 = RD.read_dir_tiff_files('../data/20210813 SERS timed immersion experiment/4+5')\n",
    "f_sup_0813, car_aceta_aceph_0813 = RD.read_dir_tiff_files('../data/20210813 SERS timed immersion experiment/1+4+5')"
   ]
  },
  {
   "cell_type": "code",
   "execution_count": 37,
   "metadata": {},
   "outputs": [],
   "source": [
    "f_sup_0818, car_0818 = RD.read_dir_tiff_files('../data/20210818 SERS timed immersion experiment/1')\n",
    "f_sup_0818, aceta_0818 = RD.read_dir_tiff_files('../data/20210818 SERS timed immersion experiment/4')\n",
    "f_sup_0818, aceph_0818 = RD.read_dir_tiff_files('../data/20210818 SERS timed immersion experiment/5')\n",
    "f_sup_0818, car_aceta_0818 = RD.read_dir_tiff_files('../data/20210818 SERS timed immersion experiment/1+4')\n",
    "f_sup_0818, car_aceph_0818 = RD.read_dir_tiff_files('../data/20210818 SERS timed immersion experiment/1+5')\n",
    "f_sup_0818, aceta_aceph_0818 = RD.read_dir_tiff_files('../data/20210818 SERS timed immersion experiment/4+5')\n",
    "f_sup_0818, car_aceta_aceph_0818 = RD.read_dir_tiff_files('../data/20210818 SERS timed immersion experiment/1+4+5')"
   ]
  },
  {
   "cell_type": "code",
   "execution_count": 38,
   "metadata": {},
   "outputs": [],
   "source": [
    "peak_amplitude_time_log = [5, 30, 60, 180, 300, 1440, 4320, 11520]\n",
    "\n",
    "car_power_time_evol_mean = np.zeros((5, 8, 1600))\n",
    "aceta_power_time_evol_mean = np.zeros((5, 8, 1600))\n",
    "aceph_power_time_evol_mean = np.zeros((5, 8, 1600))\n",
    "car_aceta_power_time_evol_mean = np.zeros((5, 8, 1600))\n",
    "car_aceph_power_time_evol_mean = np.zeros((5, 8, 1600))\n",
    "aceta_aceph_power_time_evol_mean = np.zeros((5, 8, 1600))\n",
    "car_aceta_aceph_power_time_evol_mean = np.zeros((5, 8, 1600))"
   ]
  },
  {
   "cell_type": "code",
   "execution_count": 39,
   "metadata": {},
   "outputs": [],
   "source": [
    "# time_labels = ['5 min', '30 min', '1 hour', '3 hours', '5 hours', '24 hours', '3 days (4320 mins)', '8 days (11520 mins)']\n",
    "time_labels = ['5 m.', '30 m.', '1 h.', '3 h.', '5 h.', '24 h.', '3 d.', '8 d.']"
   ]
  },
  {
   "cell_type": "code",
   "execution_count": 40,
   "metadata": {},
   "outputs": [],
   "source": [
    "car_power_1_time_evol = ['1_5min_1', '1_30min_1', '1_1hour_1', '1_3hours_1', '1_5hours_1', '1_24hours_1', '1_1458hours_1_1', '1_1530_1']\n",
    "car_power_2_time_evol = ['1_5min_2', '1_30min_2', '1_1hour_2', '1_3hours_2', '1_5hours_2', '1_24hours_2', '1_1458hours_1_2', '1_1530_2']\n",
    "car_power_3_time_evol = ['1_5min_3', '1_30min_3', '1_1hour_3', '1_3hours_3', '1_5hours_3', '1_24hours_3', '1_1458hours_1_3', '1_1530_3']\n",
    "car_power_4_time_evol = ['1_5min_4', '1_30min_4', '1_1hour_4', '1_3hours_4', '1_5hours_4', '1_24hours_4', '1_1458hours_1_4', '1_1530_4']\n",
    "car_power_5_time_evol = ['1_5min_5', '1_30min_5', '1_1hour_5', '1_3hours_5', '1_5hours_5', '1_24hours_5', '1_1458hours_1_5', '1_1530_5']"
   ]
  },
  {
   "cell_type": "code",
   "execution_count": 41,
   "metadata": {},
   "outputs": [],
   "source": [
    "aceta_power_1_time_evol = ['4_5min_1', '4_30min_1', '4_1hour_1', '4_3hours_1', '4_5hours_1', '4_24hours_1', '1_1513hours_1_1_1', '4_1540_1']\n",
    "aceta_power_2_time_evol = ['4_5min_2', '4_30min_2', '4_1hour_2', '4_3hours_2', '4_5hours_2', '4_24hours_2', '1_1513hours_1_1_2', '4_1540_2']\n",
    "aceta_power_3_time_evol = ['4_5min_3', '4_30min_3', '4_1hour_3', '4_3hours_3', '4_5hours_3', '4_24hours_3', '1_1513hours_1_1_3', '4_1540_3']\n",
    "aceta_power_4_time_evol = ['4_5min_4', '4_30min_4', '4_1hour_4', '4_3hours_4', '4_5hours_4', '4_24hours_4', '1_1513hours_1_1_4', '4_1540_4']\n",
    "aceta_power_5_time_evol = ['4_5min_5', '4_30min_5', '4_1hour_5', '4_3hours_5', '4_5hours_5', '4_24hours_5', '1_1513hours_1_1_5', '4_1540_5']"
   ]
  },
  {
   "cell_type": "code",
   "execution_count": 42,
   "metadata": {},
   "outputs": [],
   "source": [
    "aceph_power_1_time_evol = ['5_5min_1', '5_30min_1', '5_1hour_1', '5_3hours_1', '5_5hours_1', '5_24hours_1', '5_1538hours_1_1_1', '5_1545(inside)_1']\n",
    "aceph_power_2_time_evol = ['5_5min_2', '5_30min_2', '5_1hour_2', '5_3hours_2', '5_5hours_2', '5_24hours_2', '5_1538hours_1_1_2', '5_1545(inside)_2']\n",
    "aceph_power_3_time_evol = ['5_5min_3', '5_30min_3', '5_1hour_3', '5_3hours_3', '5_5hours_3', '5_24hours_3', '5_1538hours_1_1_3', '5_1545(inside)_3']\n",
    "aceph_power_4_time_evol = ['5_5min_4', '5_30min_4', '5_1hour_4', '5_3hours_4', '5_5hours_4', '5_24hours_4', '5_1538hours_1_1_4', '5_1545(inside)_4']\n",
    "aceph_power_5_time_evol = ['5_5min_5', '5_30min_5', '5_1hour_5', '5_3hours_5', '5_5hours_5', '5_24hours_5', '5_1538hours_1_1_5', '5_1545(inside)_5']"
   ]
  },
  {
   "cell_type": "code",
   "execution_count": 43,
   "metadata": {},
   "outputs": [],
   "source": [
    "car_aceta_power_1_time_evol = ['1+4_5min_1', '1+4_30min_1', '1+4_1hour_1', '1+4_3hours_1', '1+4_5hours_1', '1+4_24hours_1', '1+4_1550hour_1', '1+4_1605_1']\n",
    "car_aceta_power_2_time_evol = ['1+4_5min_2', '1+4_30min_2', '1+4_1hour_2', '1+4_3hours_2', '1+4_5hours_2', '1+4_24hours_2', '1+4_1550hour_2', '1+4_1605_2']\n",
    "car_aceta_power_3_time_evol = ['1+4_5min_3', '1+4_30min_3', '1+4_1hour_3', '1+4_3hours_3', '1+4_5hours_3', '1+4_24hours_3', '1+4_1550hour_3', '1+4_1605_3']\n",
    "car_aceta_power_4_time_evol = ['1+4_5min_4', '1+4_30min_4', '1+4_1hour_4', '1+4_3hours_4', '1+4_5hours_4', '1+4_24hours_4', '1+4_1550hour_4', '1+4_1605_4']\n",
    "car_aceta_power_5_time_evol = ['1+4_5min_5', '1+4_30min_5', '1+4_1hour_5', '1+4_3hours_5', '1+4_5hours_5', '1+4_24hours_5', '1+4_1550hour_5', '1+4_1605_5']"
   ]
  },
  {
   "cell_type": "code",
   "execution_count": 44,
   "metadata": {},
   "outputs": [],
   "source": [
    "car_aceph_power_1_time_evol = ['1+5_5min_1', '1+5_30min_1', '1+5_1hour_1', '1+5_3hours_1', '1+5_5hours_1', '1+5_24hours_1', '1+5_1632hour_1', '1+5_1635_1']\n",
    "car_aceph_power_2_time_evol = ['1+5_5min_2', '1+5_30min_2', '1+5_1hour_2', '1+5_3hours_2', '1+5_5hours_2', '1+5_24hours_2', '1+5_1632hour_2', '1+5_1635_2']\n",
    "car_aceph_power_3_time_evol = ['1+5_5min_3', '1+5_30min_3', '1+5_1hour_3', '1+5_3hours_3', '1+5_5hours_3', '1+5_24hours_3', '1+5_1632hour_3', '1+5_1635_3']\n",
    "car_aceph_power_4_time_evol = ['1+5_5min_4', '1+5_30min_4', '1+5_1hour_4', '1+5_3hours_4', '1+5_5hours_4', '1+5_24hours_4', '1+5_1632hour_4', '1+5_1635_4']\n",
    "car_aceph_power_5_time_evol = ['1+5_5min_5', '1+5_30min_5', '1+5_1hour_5', '1+5_3hours_5', '1+5_5hours_5', '1+5_24hours_5', '1+5_1632hour_5', '1+5_1635_5']"
   ]
  },
  {
   "cell_type": "code",
   "execution_count": 45,
   "metadata": {},
   "outputs": [],
   "source": [
    "aceta_aceph_power_1_time_evol = ['4+5_5min_1', '4+5_30min_1', '4+5_1hour_1', '4+5_3hours_1', '4+5_5hours_1', '4+5_24hours_1', '1+5_1642hour_1_1', '4+5_1645_1']\n",
    "aceta_aceph_power_2_time_evol = ['4+5_5min_2', '4+5_30min_2', '4+5_1hour_2', '4+5_3hours_2', '4+5_5hours_2', '4+5_24hours_2', '1+5_1642hour_1_2', '4+5_1645_2']\n",
    "aceta_aceph_power_3_time_evol = ['4+5_5min_3', '4+5_30min_3', '4+5_1hour_3', '4+5_3hours_3', '4+5_5hours_3', '4+5_24hours_3', '1+5_1642hour_1_3', '4+5_1645_3']\n",
    "aceta_aceph_power_4_time_evol = ['4+5_5min_4', '4+5_30min_4', '4+5_1hour_4', '4+5_3hours_4', '4+5_5hours_4', '4+5_24hours_4', '1+5_1642hour_1_4', '4+5_1645_4']\n",
    "aceta_aceph_power_5_time_evol = ['4+5_5min_5', '4+5_30min_5', '4+5_1hour_5', '4+5_3hours_5', '4+5_5hours_5', '4+5_24hours_5', '1+5_1642hour_1_5', '4+5_1645_5']"
   ]
  },
  {
   "cell_type": "code",
   "execution_count": 57,
   "metadata": {},
   "outputs": [],
   "source": [
    "car_aceta_aceph_power_1_time_evol = ['1+4+5_5min_1', '1+4+5_30_min_1', '1+4+5_1hour_1', '1+4+5_3hours_1', '1+4+5_5hours_1', '1+4+5_24hours_1', '1+4+5_1650hour_1', '1+4+5_1650_1']\n",
    "car_aceta_aceph_power_2_time_evol = ['1+4+5_5min_2', '1+4+5_30_min_2', '1+4+5_1hour_2', '1+4+5_3hours_2', '1+4+5_5hours_2', '1+4+5_24hours_2', '1+4+5_1650hour_2', '1+4+5_1650_2']\n",
    "car_aceta_aceph_power_3_time_evol = ['1+4+5_5min_3', '1+4+5_30_min_3', '1+4+5_1hour_3', '1+4+5_3hours_3', '1+4+5_5hours_3', '1+4+5_24hours_3', '1+4+5_1650hour_3', '1+4+5_1650_3']\n",
    "car_aceta_aceph_power_4_time_evol = ['1+4+5_5min_4', '1+4+5_30_min_4', '1+4+5_1hour_4', '1+4+5_3hours_4', '1+4+5_5hours_4', '1+4+5_24hours_4', '1+4+5_1650hour_4', '1+4+5_1650_4']\n",
    "car_aceta_aceph_power_5_time_evol = ['1+4+5_5min_5', '1+4+5_30_min_5', '1+4+5_1hour_5', '1+4+5_3hours_5', '1+4+5_5hours_5', '1+4+5_24hours_5', '1+4+5_1650hour_5', '1+4+5_1650_5']"
   ]
  },
  {
   "cell_type": "code",
   "execution_count": 58,
   "metadata": {},
   "outputs": [],
   "source": [
    "power_table = pd.read_csv(\"../data/power_table.csv\")\n",
    "power_hwp = power_table[\"HWP Angle\"].tolist()\n",
    "power_watts = power_table[\"no ND\"].tolist()\n",
    "\n",
    "power_hwp_labels = power_table[\"HWP Angle\"].apply(str).tolist()\n",
    "power_watts_labels = power_table[\"no ND\"].apply(str).tolist()\n",
    "\n",
    "carbendanzim_data = {**car_0810, **car_0811, **car_0813, **car_0818}\n",
    "acetamiprid_data = {**aceta_0810, **aceta_0811, **aceta_0813, **aceta_0818}\n",
    "acephate_data = {**aceph_0810, **aceph_0811, **aceph_0813, **aceph_0818}\n",
    "car_aceta_data = {**car_aceta_0810, **car_aceta_0811, **car_aceta_0813, **car_aceta_0818}\n",
    "car_aceph_data = {**car_aceph_0810, **car_aceph_0811, **car_aceph_0813, **car_aceph_0818}\n",
    "aceta_aceph_data = {**aceta_aceph_0810, **aceta_aceph_0811, **aceta_aceph_0813, **aceta_aceph_0818}\n",
    "car_aceta_aceph_data = {**car_aceta_aceph_0810, **car_aceta_aceph_0811, **car_aceta_aceph_0813, **car_aceta_aceph_0818}"
   ]
  },
  {
   "cell_type": "code",
   "execution_count": 59,
   "metadata": {},
   "outputs": [],
   "source": [
    "for j, (idx_1, idx_2, idx_3, idx_4, idx_5) in enumerate(zip(car_power_1_time_evol, car_power_2_time_evol, car_power_3_time_evol, car_power_4_time_evol, car_power_5_time_evol)):\n",
    "    car_power_time_evol_mean[0, j] = np.mean(carbendanzim_data[idx_1], axis=0)\n",
    "    car_power_time_evol_mean[1, j] = np.mean(carbendanzim_data[idx_2], axis=0)\n",
    "    car_power_time_evol_mean[2, j] = np.mean(carbendanzim_data[idx_3], axis=0)\n",
    "    car_power_time_evol_mean[3, j] = np.mean(carbendanzim_data[idx_4], axis=0)\n",
    "    car_power_time_evol_mean[4, j] = np.mean(carbendanzim_data[idx_5], axis=0)"
   ]
  },
  {
   "cell_type": "code",
   "execution_count": 60,
   "metadata": {},
   "outputs": [],
   "source": [
    "for j, (idx_1, idx_2, idx_3, idx_4, idx_5) in enumerate(zip(aceta_power_1_time_evol, aceta_power_2_time_evol, aceta_power_3_time_evol, aceta_power_4_time_evol, aceta_power_5_time_evol)):\n",
    "    aceta_power_time_evol_mean[0, j] = np.mean(acetamiprid_data[idx_1], axis=0)\n",
    "    aceta_power_time_evol_mean[1, j] = np.mean(acetamiprid_data[idx_2], axis=0)\n",
    "    aceta_power_time_evol_mean[2, j] = np.mean(acetamiprid_data[idx_3], axis=0)\n",
    "    aceta_power_time_evol_mean[3, j] = np.mean(acetamiprid_data[idx_4], axis=0)\n",
    "    aceta_power_time_evol_mean[4, j] = np.mean(acetamiprid_data[idx_5], axis=0)"
   ]
  },
  {
   "cell_type": "code",
   "execution_count": 61,
   "metadata": {},
   "outputs": [],
   "source": [
    "for j, (idx_1, idx_2, idx_3, idx_4, idx_5) in enumerate(zip(aceph_power_1_time_evol, aceph_power_2_time_evol, aceph_power_3_time_evol, aceph_power_4_time_evol, aceph_power_5_time_evol)):\n",
    "    aceph_power_time_evol_mean[0, j] = np.mean(acephate_data[idx_1], axis=0)\n",
    "    aceph_power_time_evol_mean[1, j] = np.mean(acephate_data[idx_2], axis=0)\n",
    "    aceph_power_time_evol_mean[2, j] = np.mean(acephate_data[idx_3], axis=0)\n",
    "    aceph_power_time_evol_mean[3, j] = np.mean(acephate_data[idx_4], axis=0)\n",
    "    aceph_power_time_evol_mean[4, j] = np.mean(acephate_data[idx_5], axis=0)"
   ]
  },
  {
   "cell_type": "code",
   "execution_count": 62,
   "metadata": {},
   "outputs": [],
   "source": [
    "for j, (idx_1, idx_2, idx_3, idx_4, idx_5) in enumerate(zip(car_aceta_power_1_time_evol, car_aceta_power_2_time_evol, car_aceta_power_3_time_evol, car_aceta_power_4_time_evol, car_aceta_power_5_time_evol)):\n",
    "    car_aceta_power_time_evol_mean[0, j] = np.mean(car_aceta_data[idx_1], axis=0)\n",
    "    car_aceta_power_time_evol_mean[1, j] = np.mean(car_aceta_data[idx_2], axis=0)\n",
    "    car_aceta_power_time_evol_mean[2, j] = np.mean(car_aceta_data[idx_3], axis=0)\n",
    "    car_aceta_power_time_evol_mean[3, j] = np.mean(car_aceta_data[idx_4], axis=0)\n",
    "    car_aceta_power_time_evol_mean[4, j] = np.mean(car_aceta_data[idx_5], axis=0)"
   ]
  },
  {
   "cell_type": "code",
   "execution_count": 63,
   "metadata": {},
   "outputs": [],
   "source": [
    "for j, (idx_1, idx_2, idx_3, idx_4, idx_5) in enumerate(zip(car_aceph_power_1_time_evol, car_aceph_power_2_time_evol, car_aceph_power_3_time_evol, car_aceph_power_4_time_evol, car_aceph_power_5_time_evol)):\n",
    "    car_aceph_power_time_evol_mean[0, j] = np.mean(car_aceph_data[idx_1], axis=0)\n",
    "    car_aceph_power_time_evol_mean[1, j] = np.mean(car_aceph_data[idx_2], axis=0)\n",
    "    car_aceph_power_time_evol_mean[2, j] = np.mean(car_aceph_data[idx_3], axis=0)\n",
    "    car_aceph_power_time_evol_mean[3, j] = np.mean(car_aceph_data[idx_4], axis=0)\n",
    "    car_aceph_power_time_evol_mean[4, j] = np.mean(car_aceph_data[idx_5], axis=0)"
   ]
  },
  {
   "cell_type": "code",
   "execution_count": 64,
   "metadata": {},
   "outputs": [],
   "source": [
    "for j, (idx_1, idx_2, idx_3, idx_4, idx_5) in enumerate(zip(aceta_aceph_power_1_time_evol, aceta_aceph_power_2_time_evol, aceta_aceph_power_3_time_evol, aceta_aceph_power_4_time_evol, aceta_aceph_power_5_time_evol)):\n",
    "    aceta_aceph_power_time_evol_mean[0, j] = np.mean(aceta_aceph_data[idx_1], axis=0)\n",
    "    aceta_aceph_power_time_evol_mean[1, j] = np.mean(aceta_aceph_data[idx_2], axis=0)\n",
    "    aceta_aceph_power_time_evol_mean[2, j] = np.mean(aceta_aceph_data[idx_3], axis=0)\n",
    "    aceta_aceph_power_time_evol_mean[3, j] = np.mean(aceta_aceph_data[idx_4], axis=0)\n",
    "    aceta_aceph_power_time_evol_mean[4, j] = np.mean(aceta_aceph_data[idx_5], axis=0)"
   ]
  },
  {
   "cell_type": "code",
   "execution_count": 65,
   "metadata": {},
   "outputs": [],
   "source": [
    "for j, (idx_1, idx_2, idx_3, idx_4, idx_5) in enumerate(zip(car_aceta_aceph_power_1_time_evol, car_aceta_aceph_power_2_time_evol, car_aceta_aceph_power_3_time_evol, car_aceta_aceph_power_4_time_evol, car_aceta_aceph_power_5_time_evol)):\n",
    "    car_aceta_aceph_power_time_evol_mean[0, j] = np.mean(car_aceta_aceph_data[idx_1], axis=0)\n",
    "    car_aceta_aceph_power_time_evol_mean[1, j] = np.mean(car_aceta_aceph_data[idx_2], axis=0)\n",
    "    car_aceta_aceph_power_time_evol_mean[2, j] = np.mean(car_aceta_aceph_data[idx_3], axis=0)\n",
    "    car_aceta_aceph_power_time_evol_mean[3, j] = np.mean(car_aceta_aceph_data[idx_4], axis=0)\n",
    "    car_aceta_aceph_power_time_evol_mean[4, j] = np.mean(car_aceta_aceph_data[idx_5], axis=0)"
   ]
  },
  {
   "cell_type": "code",
   "execution_count": 56,
   "metadata": {},
   "outputs": [],
   "source": [
    "car_power_time_evol_mean_smooth = np.zeros_like(car_power_time_evol_mean)\n",
    "aceta_power_time_evol_mean_smooth = np.zeros_like(aceta_power_time_evol_mean)\n",
    "aceph_power_time_evol_mean_smooth = np.zeros_like(aceph_power_time_evol_mean)\n",
    "car_aceta_power_time_evol_mean_smooth = np.zeros_like(car_aceta_power_time_evol_mean)\n",
    "car_aceph_power_time_evol_mean_smooth = np.zeros_like(car_aceph_power_time_evol_mean)\n",
    "aceta_aceph_power_time_evol_mean_smooth = np.zeros_like(aceta_aceph_power_time_evol_mean)\n",
    "car_aceta_aceph_power_time_evol_mean_smooth = np.zeros_like(car_aceta_aceph_power_time_evol_mean)"
   ]
  },
  {
   "cell_type": "code",
   "execution_count": null,
   "metadata": {},
   "outputs": [],
   "source": [
    "from scipy.signal import savgol_filter\n",
    "from numpy import apply_along_axis\n",
    "\n",
    "window_length = 5\n",
    "polyorder = 3\n",
    "axis = 1\n",
    "\n",
    "car_power_time_evol_mean_smooth = apply_along_axis(savgol_filter, axis, car_power_time_evol_mean, window_length=window_length, polyorder=polyorder)\n",
    "aceta_power_time_evol_mean_smooth = apply_along_axis(savgol_filter, axis, aceta_power_time_evol_mean, window_length=window_length, polyorder=polyorder)\n",
    "aceph_power_time_evol_mean_smooth = apply_along_axis(savgol_filter, axis, aceph_power_time_evol_mean, window_length=window_length, polyorder=polyorder)\n",
    "car_aceta_power_time_evol_mean_smooth = apply_along_axis(savgol_filter, axis, car_aceta_power_time_evol_mean, window_length=window_length, polyorder=polyorder)\n",
    "car_aceph_power_time_evol_mean_smooth = apply_along_axis(savgol_filter, axis, car_aceph_power_time_evol_mean, window_length=window_length, polyorder=polyorder)\n",
    "aceta_aceph_power_time_evol_mean_smooth = apply_along_axis(savgol_filter, axis, aceta_aceph_power_time_evol_mean, window_length=window_length, polyorder=polyorder)\n",
    "car_aceta_aceph_power_time_evol_mean_smooth = apply_along_axis(savgol_filter, axis, car_aceta_aceph_power_time_evol_mean, window_length=window_length, polyorder=polyorder)"
   ]
  },
  {
   "cell_type": "code",
   "execution_count": null,
   "metadata": {},
   "outputs": [],
   "source": [
    "from scipy.signal import savgol_filter\n",
    "from numpy import apply_along_axis\n",
    "from joblib import Parallel, delayed\n",
    "\n",
    "window_length = 5\n",
    "polyorder = 3\n",
    "axis = 1\n",
    "n_jobs = -1\n",
    "\n",
    "def smooth_data(data):\n",
    "    return savgol_filter(data, window_length=window_length, polyorder=polyorder)\n",
    "\n",
    "car_power_time_evol_mean_smooth = Parallel(n_jobs=n_jobs)(delayed(smooth_data)(data) for data in car_power_time_evol_mean)\n",
    "aceta_power_time_evol_mean_smooth = Parallel(n_jobs=n_jobs)(delayed(smooth_data)(data) for data in aceta_power_time_evol_mean)\n",
    "aceph_power_time_evol_mean_smooth = Parallel(n_jobs=n_jobs)(delayed(smooth_data)(data) for data in aceph_power_time_evol_mean)\n",
    "car_aceta_power_time_evol_mean_smooth = Parallel(n_jobs=n_jobs)(delayed(smooth_data)(data) for data in car_aceta_power_time_evol_mean)\n",
    "car_aceph_power_time_evol_mean_smooth = Parallel(n_jobs=n_jobs)(delayed(smooth_data)(data) for data in car_aceph_power_time_evol_mean)\n",
    "aceta_aceph_power_time_evol_mean_smooth = Parallel(n_jobs=n_jobs)(delayed(smooth_data)(data) for data in aceta_aceph_power_time_evol_mean)\n",
    "car_aceta_aceph_power_time_evol_mean_smooth = Parallel(n_jobs=n_jobs)(delayed(smooth_data)(data) for data in car_aceta_aceph_power_time_evol_mean)"
   ]
  },
  {
   "attachments": {},
   "cell_type": "markdown",
   "metadata": {},
   "source": [
    "car_power_time_evol_noise = car_power_time_evol_mean_smooth - car_power_time_evol_mean\n",
    "aceta_power_time_evol_noise = aceta_power_time_evol_mean_smooth - aceta_power_time_evol_mean\n",
    "aceph_power_time_evol_noise = aceph_power_time_evol_mean_smooth - aceph_power_time_evol_mean\n",
    "car_aceta_power_time_evol_noise = car_aceta_power_time_evol_mean_smooth - car_aceta_power_time_evol_mean\n",
    "car_aceph_power_time_evol_noise = car_aceph_power_time_evol_smooth - car_aceph_power_time_evol_mean\n",
    "aceta_aceph_power_time_evol_noise = aceta_aceph_power_time_evol_smooth - aceta_power_time_evol_mean\n",
    "car_aceta_aceph_power_time_evol_noise = car_aceta_aceph_power_time_evol_smooth - car_aceta_aceph_power_time_evol_mean"
   ]
  },
  {
   "cell_type": "code",
   "execution_count": null,
   "metadata": {},
   "outputs": [],
   "source": [
    "car_power_time_evol_mean_smooth = np.array(car_power_time_evol_mean_smooth)\n",
    "aceta_power_time_evol_mean_smooth = np.array(aceta_power_time_evol_mean_smooth)\n",
    "aceph_power_time_evol_mean_smooth = np.array(aceph_power_time_evol_mean_smooth)\n",
    "car_aceta_power_time_evol_mean_smooth = np.array(car_aceta_power_time_evol_mean_smooth)\n",
    "car_aceph_power_time_evol_mean_smooth = np.array(car_aceph_power_time_evol_mean_smooth)\n",
    "aceta_aceph_power_time_evol_mean_smooth = np.array(aceta_aceph_power_time_evol_mean_smooth)\n",
    "car_aceta_aceph_power_time_evol_mean_smooth = np.array(car_aceta_aceph_power_time_evol_mean_smooth)"
   ]
  },
  {
   "cell_type": "code",
   "execution_count": null,
   "metadata": {},
   "outputs": [],
   "source": [
    "car_intensity = np.sum(car_power_time_evol_mean, axis=-1)\n",
    "aceta_intensity = np.sum(aceta_power_time_evol_mean, axis=-1)\n",
    "aceph_intensity = np.sum(aceph_power_time_evol_mean, axis=-1)\n",
    "car_aceta_intensity = np.sum(car_aceta_power_time_evol_mean, axis=-1)\n",
    "car_aceph_intensity = np.sum(car_aceph_power_time_evol_mean, axis=-1)\n",
    "aceta_aceph_intensity = np.sum(aceta_power_time_evol_mean, axis=-1)\n",
    "car_aceta_aceph_intensity = np.sum(car_aceta_aceph_power_time_evol_mean, axis=-1)"
   ]
  },
  {
   "cell_type": "code",
   "execution_count": null,
   "metadata": {},
   "outputs": [],
   "source": [
    "colloidal_power_mean = np.zeros((5, 1600))\n",
    "_, colloidal_power = RD.read_dir_tiff_files(\"data/20210810 SERS timed immersion experiment/colloidal solution\")"
   ]
  },
  {
   "cell_type": "code",
   "execution_count": null,
   "metadata": {},
   "outputs": [],
   "source": [
    "car_power_snr = np.sum(np.abs(car_power_time_evol_mean) ** 2, axis=-1) / np.sum(np.abs(car_power_time_evol_noise) ** 2, axis=-1)\n",
    "aceta_power_snr = np.sum(np.abs(aceta_power_time_evol_mean) ** 2, axis=-1) / np.sum(np.abs(aceta_power_time_evol_noise) ** 2, axis=-1)\n",
    "aceph_power_snr = np.sum(np.abs(aceph_power_time_evol_mean) ** 2, axis=-1) / np.sum(np.abs(aceph_power_time_evol_noise) ** 2, axis=-1)\n",
    "car_aceta_power_snr = np.sum(np.abs(car_aceta_power_time_evol_mean) ** 2, axis=-1) / np.sum(np.abs(car_aceta_power_time_evol_noise) ** 2, axis=-1)\n",
    "car_aceph_power_snr = np.sum(np.abs(car_aceph_power_time_evol_mean) ** 2, axis=-1) / np.sum(np.abs(car_aceph_power_time_evol_noise) ** 2, axis=-1)\n",
    "aceta_aceph_power_snr = np.sum(np.abs(aceta_power_time_evol_mean) ** 2, axis=-1) / np.sum(np.abs(aceta_aceph_power_time_evol_noise) ** 2, axis=-1)\n",
    "car_aceta_aceph_power_snr = np.sum(np.abs(car_aceta_aceph_power_time_evol_mean) ** 2, axis=-1) / np.sum(np.abs(car_aceta_aceph_power_time_evol_noise) ** 2, axis=-1)"
   ]
  },
  {
   "cell_type": "code",
   "execution_count": null,
   "metadata": {},
   "outputs": [],
   "source": [
    "car_power_snr_log = 10 * np.log10(car_power_snr)\n",
    "aceta_power_snr_log = 10 * np.log10(aceta_power_snr)\n",
    "aceph_power_snr_log = 10 * np.log10(aceph_power_snr)\n",
    "car_aceta_power_snr_log = 10 * np.log10(car_aceta_power_snr)\n",
    "car_aceph_power_snr_log = 10 * np.log10(car_aceph_power_snr)\n",
    "aceta_aceph_power_snr_log = 10 * np.log10(aceta_aceph_power_snr)\n",
    "car_aceta_aceph_power_snr_log = 10 * np.log10(car_aceta_aceph_power_snr)"
   ]
  },
  {
   "cell_type": "code",
   "execution_count": null,
   "metadata": {},
   "outputs": [],
   "source": [
    "noise = mean - best\n",
    "snr = np.sum(np.abs(signal[:i])**2) / np.sum(np.abs(noise[i]) ** 2)\n",
    "snr = 10 * math.log10(snr[i])"
   ]
  },
  {
   "attachments": {},
   "cell_type": "markdown",
   "metadata": {},
   "source": [
    "### Locating peaks"
   ]
  },
  {
   "cell_type": "code",
   "execution_count": null,
   "metadata": {},
   "outputs": [],
   "source": [
    "# car_peaks_pos = [308, 669, 890, 1104, 1147, 1247, 1345, 1400, 1467]\n",
    "# car_peaks = np.array([212, 444, 586, 723, 751, 815, 878, 913, 956])\n",
    "\n",
    "carbendazim_peaks = [625, 727, 1009, 1270, 1468]\n",
    "acetamiprid_peaks = [630, 827, 1111, 2177]\n",
    "acephate_peaks = [273, 377, 466, 1102]\n",
    "car_aceta_peaks = carbendazim_peaks + acetamiprid_peaks\n",
    "car_aceph_peaks = carbendazim_peaks + acephate_peaks\n",
    "aceta_aceph_peaks = acetamiprid_peaks + acephate_peaks\n",
    "car_aceta_aceph_peaks = carbendazim_peaks + acetamiprid_peaks + acephate_peaks"
   ]
  },
  {
   "cell_type": "code",
   "execution_count": null,
   "metadata": {},
   "outputs": [],
   "source": [
    "# Find the index of each peak in carbendazim_peaks in f_sup array.\n",
    "carbendazim_peaks_index = np.zeros(len(carbendazim_peaks), dtype=int)\n",
    "for i in range(len(carbendazim_peaks)):\n",
    "    carbendazim_peaks_index[i] = np.argmin(np.abs(f_sup_0810 - carbendazim_peaks[i]))"
   ]
  },
  {
   "cell_type": "code",
   "execution_count": null,
   "metadata": {},
   "outputs": [],
   "source": [
    "# Find the index of each peak in acetamiprid_peaks in f_sup_0810 array\n",
    "acetamiprid_peaks_index = np.zeros(len(acetamiprid_peaks), dtype=int)\n",
    "for i in range(len(acetamiprid_peaks)):\n",
    "    acetamiprid_peaks_index[i] = np.argmin(np.abs(f_sup_0810 - acetamiprid_peaks[i]))"
   ]
  },
  {
   "cell_type": "code",
   "execution_count": null,
   "metadata": {},
   "outputs": [],
   "source": [
    "# Find the index of each peak in acephate_peaks in f_sup_0810 array\n",
    "acephate_peaks_index = np.zeros(len(acephate_peaks), dtype=int)\n",
    "for i in range(len(acephate_peaks)):\n",
    "    acephate_peaks_index[i] = np.argmin(np.abs(f_sup_0810 - acephate_peaks[i]))"
   ]
  },
  {
   "cell_type": "code",
   "execution_count": null,
   "metadata": {},
   "outputs": [],
   "source": [
    "carbendazim_peaks_index"
   ]
  },
  {
   "attachments": {},
   "cell_type": "markdown",
   "metadata": {},
   "source": [
    "### Plotting peaks and spectra together."
   ]
  },
  {
   "cell_type": "code",
   "execution_count": null,
   "metadata": {},
   "outputs": [],
   "source": [
    "# Find polynomial interpolation for 10 points to the left and right around each peak in carbendazim_peaks_index \n",
    "# in f_sup_0810 and car_power_time_evol_mean_smooth[4, 0, :] arrayy and plot it.\n",
    "deg = 2\n",
    "carbendazim_peaks_interpol = np.zeros((len(carbendazim_peaks), deg + 1))\n",
    "for i in range(len(carbendazim_peaks)):\n",
    "    x = f_sup_0810[carbendazim_peaks_index[i] - 10: carbendazim_peaks_index[i] + 11]\n",
    "    y = car_power_time_evol_mean_smooth[4, 0, carbendazim_peaks_index[i] - 10: carbendazim_peaks_index[i] + 11]\n",
    "    print(\"x shape:\", x.shape)\n",
    "    print(\"y shape:\", y.shape)\n",
    "    carbendazim_peaks_interpol[i, :] = np.polyfit(x, y, deg)\n",
    "    # cauchy \n",
    "    # change of the peak in terms of full width half max\n",
    "    plt.plot(\n",
    "        x,\n",
    "        np.polyval(carbendazim_peaks_interpol[i, :], x),\n",
    "        label=f\"peak {str(i)}\",\n",
    "    )"
   ]
  },
  {
   "cell_type": "code",
   "execution_count": null,
   "metadata": {},
   "outputs": [],
   "source": [
    "# Find polynomial interpolation for a larger range of points around each peak in carbendazim_peaks_index \n",
    "# in f_sup_0810 and car_power_time_evol_mean_smooth[4, 0, :] array and plot it.\n",
    "deg = 1\n",
    "carbendazim_peaks_interpol = np.zeros((len(carbendazim_peaks), deg + 1))\n",
    "for i in range(len(carbendazim_peaks)):\n",
    "    x = f_sup_0810[carbendazim_peaks_index[i] - 20: carbendazim_peaks_index[i] + 21]\n",
    "    y = car_power_time_evol_mean_smooth[4, 0, carbendazim_peaks_index[i] - 20: carbendazim_peaks_index[i] + 21]\n",
    "    print(\"x shape:\", x.shape)\n",
    "    print(\"y shape:\", y.shape)\n",
    "    carbendazim_peaks_interpol[i, :] = np.polyfit(x, y, deg)\n",
    "    # cauchy \n",
    "    # change of the peak in terms of full width half max\n",
    "    plt.plot(\n",
    "        x,\n",
    "        np.polyval(carbendazim_peaks_interpol[i, :], x),\n",
    "        label=f\"peak {str(i)}\",\n",
    "    )"
   ]
  },
  {
   "cell_type": "code",
   "execution_count": null,
   "metadata": {},
   "outputs": [],
   "source": [
    "deg = 1\n",
    "plt.figure(figsize=(15, 10))\n",
    "plt.plot(f_sup_0810, car_power_time_evol_mean_smooth[4, 0, :], label=\"carbendazim\")\n",
    "for peak in carbendazim_peaks_index:\n",
    "    plt.axvline(x=f_sup_0810[peak], color=\"red\", linestyle=\"--\")\n",
    "    # # Plot points 10 cm-1 to the left and right of the peak\n",
    "    # plt.scatter(f_sup_0810[peak - 10:peak + 10], car_power_time_evol_mean_smooth[4, 0, peak - 10:peak + 10], color=\"red\", s=10)\n",
    "\n",
    "    # # Polynomial interpolation of the baseline of the peak\n",
    "    # x = f_sup_0810[peak - 20: peak + 21]\n",
    "    # y = car_power_time_evol_mean_smooth[4, 0, peak - 20: peak + 21]\n",
    "    # # print(\"x shape:\", x.shape)\n",
    "    # # print(\"y shape:\", y.shape)\n",
    "    # carbendazim_peaks_interpol[i, :] = np.polyfit(x, y, deg)\n",
    "    # plt.plot(x, np.polyval(carbendazim_peaks_interpol[i, :], x), label=\"peak \" + str(i))\n",
    "\n",
    "    # Interpolation of the peak baseline using linear interpolation\n",
    "    x_interp = np.linspace(f_sup_0810[peak - 20], f_sup_0810[peak + 20], 41)\n",
    "    y_interp = np.linspace(car_power_time_evol_mean_smooth[4, 0, peak - 20], car_power_time_evol_mean_smooth[4, 0, peak + 20], 41)\n",
    "\n",
    "    plt.plot(x_interp, y_interp, label=f\"peak {str(i)}\")\n",
    "# Plot points 10 cm-1 to the left and 15 cm-1 to the right of the 2nd to last peak of carbendazim_peaks_index\n",
    "# plt.scatter(f_sup_0810[carbendazim_peaks_index[-2] - 20:carbendazim_peaks_index[-2] + 15], car_power_time_evol_mean_smooth[4, 0, carbendazim_peaks_index[-2] - 15:carbendazim_peaks_index[-2] + 20], color=\"red\", s=10)\n",
    "\n",
    "plt.xlabel(\"Frequency (cm$^{-1}$)\")\n",
    "plt.ylabel(\"Intensity (a.u.)\")\n",
    "plt.legend()\n",
    "plt.show()"
   ]
  },
  {
   "cell_type": "code",
   "execution_count": null,
   "metadata": {},
   "outputs": [],
   "source": [
    "from scipy.optimize import curve_fit\n",
    "\n",
    "# Define the Cauchy distribution function\n",
    "def cauchy(x, a, x0, gamma):\n",
    "    return a / (1 + ((x - x0) / gamma) ** 2)\n",
    "\n",
    "plt.figure(figsize=(15, 10))\n",
    "plt.plot(f_sup_0810, car_power_time_evol_mean_smooth[4, 0, :], label=\"carbendazim\")\n",
    "\n",
    "# Fit the Cauchy distribution to the 20 points around each peak in carbendazim_peak_index\n",
    "for peak in carbendazim_peaks_index[:-1]:\n",
    "    x = f_sup_0810[peak - 20: peak + 21]\n",
    "    y = car_power_time_evol_mean_smooth[4, 0, peak - 20: peak + 21]\n",
    "    popt, pcov = curve_fit(cauchy, x, y)\n",
    "    plt.plot(x, cauchy(x, *popt), label=f\"peak {str(i)}\")"
   ]
  },
  {
   "cell_type": "code",
   "execution_count": null,
   "metadata": {},
   "outputs": [],
   "source": [
    "from scipy.stats import cauchy\n",
    "\n",
    "plt.figure(figsize=(15, 10))\n",
    "plt.plot(f_sup_0810, car_power_time_evol_mean_smooth[4, 0, :], label=\"carbendazim\")\n",
    "\n",
    "# Fit the Cauchy distribution to the 20 points around each peak in carbendazim_peak_index\n",
    "for peak in carbendazim_peaks_index[:-1]:\n",
    "    x = f_sup_0810[peak - 20: peak + 21]\n",
    "    y = car_power_time_evol_mean_smooth[4, 0, peak - 20: peak + 21]\n",
    "    dist = cauchy(loc=x.mean(), scale=x.std())\n",
    "    plt.plot(x, dist.pdf(x) * y.max(), label=f\"peak {str(i)}\")"
   ]
  },
  {
   "cell_type": "code",
   "execution_count": null,
   "metadata": {},
   "outputs": [],
   "source": [
    "from scipy.stats import cauchy\n",
    "\n",
    "plt.figure(figsize=(15, 10))\n",
    "plt.plot(f_sup_0810, car_power_time_evol_mean_smooth[4, 0, :], label=\"carbendazim\")\n",
    "\n",
    "# Fit the Cauchy distribution to the 20 points around each peak in carbendazim_peak_index\n",
    "for i, peak in enumerate(carbendazim_peaks_index[:-1]):\n",
    "    x = f_sup_0810[peak - 20: peak + 21]\n",
    "    y = car_power_time_evol_mean_smooth[4, 0, peak - 20: peak + 21]\n",
    "    dist = cauchy(loc=x.mean(), scale=x.std())\n",
    "    pdf = dist.pdf(x)\n",
    "    pdf_scaled = pdf / pdf.max() * y.max()\n",
    "    plt.plot(x, pdf_scaled, label=f\"peak {str(i)}\")"
   ]
  },
  {
   "cell_type": "code",
   "execution_count": null,
   "metadata": {},
   "outputs": [],
   "source": [
    "import numpy as np\n",
    "import matplotlib.pyplot as plt\n",
    "\n",
    "# Define the Cauchy distribution function\n",
    "def cauchy(x, a, x0, gamma):\n",
    "    return a / (1 + ((x - x0) / gamma) ** 2)\n",
    "\n",
    "# Generate x values\n",
    "x = np.linspace(-10, 10, 1000)\n",
    "\n",
    "# Plot the Cauchy distribution with different values of gamma\n",
    "plt.plot(x, cauchy(x, 1, 0, 1), label=\"gamma=1\")\n",
    "plt.plot(x, cauchy(x, 1, 0, 2), label=\"gamma=2\")\n",
    "plt.plot(x, cauchy(x, 1, 0, 5), label=\"gamma=5\")\n",
    "plt.xlabel(\"x\")\n",
    "plt.ylabel(\"y\")\n",
    "plt.title(\"Cauchy distribution\")\n",
    "plt.legend()\n",
    "plt.show()"
   ]
  },
  {
   "cell_type": "code",
   "execution_count": null,
   "metadata": {},
   "outputs": [],
   "source": [
    "plt.figure(figsize=(15, 10))\n",
    "plt.plot(f_sup_0810, aceta_power_time_evol_mean_smooth[4, 7, :], label=\"acetamiprid\")\n",
    "for peak in acetamiprid_peaks_index:\n",
    "    plt.axvline(x=f_sup_0810[peak], color=\"red\", linestyle=\"--\")\n",
    "plt.xlabel(\"Wavenumber (cm$^{-1}$)\")\n",
    "plt.ylabel(\"Intensity (a.u.)\")\n",
    "plt.title(\"Acetamiprid\")\n",
    "plt.legend()\n",
    "plt.show()"
   ]
  },
  {
   "cell_type": "code",
   "execution_count": null,
   "metadata": {},
   "outputs": [],
   "source": [
    "plt.figure(figsize=(15, 10))\n",
    "plt.plot(f_sup_0810, aceph_power_time_evol_mean_smooth[4, 7, :], label=\"acephate\")\n",
    "for peak in acephate_peaks_index:\n",
    "    plt.axvline(x=f_sup_0810[peak], color=\"red\", linestyle=\"--\")\n",
    "plt.xlabel(\"Frequency (cm$^{-1}$)\")\n",
    "plt.ylabel(\"Intensity (a.u.)\")\n",
    "plt.legend()\n",
    "plt.show()"
   ]
  },
  {
   "cell_type": "code",
   "execution_count": null,
   "metadata": {},
   "outputs": [],
   "source": [
    "plt.figure(figsize=(15, 10))\n",
    "plt.plot(f_sup_0810, car_aceta_power_time_evol_mean_smooth[4, 7, :], label=\"Carbendazim + Acetamiprid\")\n",
    "for peak_car, peak_aceta in zip(carbendazim_peaks_index[-2:], acetamiprid_peaks_index[-2:]):\n",
    "    plt.axvline(x=f_sup_0810[peak_car], color=\"red\", linestyle=\"--\")\n",
    "    plt.axvline(x=f_sup_0810[peak_aceta], color=\"black\", linestyle=\"--\")\n",
    "plt.xlabel(\"Frequency (cm$^{-1}$)\")\n",
    "plt.ylabel(\"Intensity (a.u.)\")\n",
    "plt.legend()\n",
    "plt.show()"
   ]
  },
  {
   "cell_type": "code",
   "execution_count": null,
   "metadata": {},
   "outputs": [],
   "source": [
    "plt.figure(figsize=(15, 10))\n",
    "plt.plot(f_sup_0810, car_aceph_power_time_evol_mean_smooth[0, 7, :], label=\"Carbendazim + Acephate\")\n",
    "for peak_car, peak_aceph in zip(carbendazim_peaks_index[-2:], acephate_peaks_index[-2:]):\n",
    "    plt.axvline(x=f_sup_0810[peak_car], color=\"red\", linestyle=\"--\")\n",
    "    plt.axvline(x=f_sup_0810[peak_aceph], color=\"green\", linestyle=\"--\")\n",
    "plt.xlabel(\"Frequency (cm$^{-1}$)\")\n",
    "plt.ylabel(\"Intensity (a.u.)\")\n",
    "plt.title(\"Carbendazim + Acephate\")\n",
    "plt.legend()\n",
    "plt.show()"
   ]
  },
  {
   "cell_type": "code",
   "execution_count": null,
   "metadata": {},
   "outputs": [],
   "source": [
    "plt.figure(figsize=(15, 10))\n",
    "plt.plot(f_sup_0810, aceta_aceph_power_time_evol_mean_smooth[4, 2, :], label=\"Acetamiprid + Acephate\")\n",
    "for peak_aceta, peak_aceph in zip(acetamiprid_peaks_index, acephate_peaks_index):\n",
    "    plt.axvline(x=f_sup_0810[peak_aceta], color=\"black\", linestyle=\"--\")\n",
    "    plt.axvline(x=f_sup_0810[peak_aceph], color=\"green\", linestyle=\"--\")\n",
    "plt.xlabel(\"Frequency (cm$^{-1}$)\")\n",
    "plt.ylabel(\"Intensity (a.u.)\")\n",
    "plt.legend()\n",
    "plt.show()"
   ]
  },
  {
   "cell_type": "code",
   "execution_count": null,
   "metadata": {},
   "outputs": [],
   "source": [
    "plt.figure(figsize=(15, 10))\n",
    "plt.plot(f_sup_0810, car_aceta_aceph_power_time_evol_mean_smooth[4, 7, :], label=\"Carbendazim + Acetamiprid + Acephate\")\n",
    "for peak_car, peak_aceta, peak_aceph in zip(carbendazim_peaks_index, acetamiprid_peaks_index, acephate_peaks_index):\n",
    "    plt.axvline(x=f_sup_0810[peak_car], color=\"red\", linestyle=\"--\")\n",
    "    plt.axvline(x=f_sup_0810[peak_aceta], color=\"black\", linestyle=\"--\")\n",
    "    plt.axvline(x=f_sup_0810[peak_aceph], color=\"green\", linestyle=\"--\")\n",
    "plt.xlabel(\"Frequency (cm$^{-1}$)\")\n",
    "plt.ylabel(\"Intensity (a.u.)\")\n",
    "plt.legend()\n",
    "plt.show()"
   ]
  },
  {
   "attachments": {},
   "cell_type": "markdown",
   "metadata": {},
   "source": [
    "### Time evolution of the analyte inside colloidal solution"
   ]
  },
  {
   "cell_type": "code",
   "execution_count": null,
   "metadata": {},
   "outputs": [],
   "source": [
    "plt.figure(figsize=(20, 10)) \n",
    "# plt.plot(f_sup_0810, car_power_time_evol_mean[4, 0, :], label=\"Carbendazim\")\n",
    "plt.plot(f_sup_0810, aceta_power_time_evol_mean[4, 6, :], label=\"Acetamiprid\")\n",
    "plt.plot(f_sup_0810, aceph_power_time_evol_mean[4, 6, :], label=\"Acephate\")\n",
    "# plt.plot(f_sup_0810, car_aceta_power_time_evol_mean[4, 0, :], label=\"Carbendazim + Acetamiprid\")\n",
    "# plt.plot(f_sup_0810, car_aceph_power_time_evol_mean[4, 7, :], label=\"Carbendazim + Acephate\")\n",
    "plt.plot(f_sup_0810, aceta_aceph_power_time_evol_mean[4, 2, :], label=\"Acetamiprid + Acephate\")\n",
    "# plt.plot(f_sup_0810, car_aceta_aceph_power_time_evol_mean[0, 0, :], label=\"Carbendazim + Acetamiprid + Acephate\")\n",
    "plt.legend()\n",
    "plt.xlabel(\"Wavenumber (cm$^{-1}$)\")\n",
    "plt.ylabel(\"Intensity (a.u.)\")\n",
    "plt.show()"
   ]
  },
  {
   "cell_type": "code",
   "execution_count": null,
   "metadata": {},
   "outputs": [],
   "source": [
    "plt.figure(figsize=(20, 10))\n",
    "for spectra in aceph_power_time_evol_mean[4, :, :]:\n",
    "    plt.plot(f_sup_0810, spectra)\n",
    "plt.xlabel(\"Wavenumber (cm$^{-1}$)\")\n",
    "plt.ylabel(\"Intensity (a.u.)\")\n",
    "plt.title(\"Acephate\")\n",
    "plt.show()"
   ]
  },
  {
   "cell_type": "code",
   "execution_count": null,
   "metadata": {},
   "outputs": [],
   "source": [
    "# Define a list with distinct colors for each plot\n",
    "colors = ['tab:blue', 'tab:orange', 'tab:green', 'tab:red', 'tab:purple', 'tab:brown']"
   ]
  },
  {
   "cell_type": "code",
   "execution_count": null,
   "metadata": {},
   "outputs": [],
   "source": [
    "fig, ax = plt.subplots()\n",
    "fig.set_size_inches(17, 10)\n",
    "for peak_idx, peak, color in zip(carbendazim_peaks_index, carbendazim_peaks, colors):\n",
    "    ax.plot(\n",
    "        peak_amplitude_time_log,\n",
    "        car_power_time_evol_mean_smooth[0, :, peak_idx],\n",
    "        color=color,\n",
    "        label=f'Peak at {peak}',\n",
    "    )\n",
    "    ax.plot(peak_amplitude_time_log, car_power_time_evol_mean_smooth[0, :, peak_idx], color=color, marker='o', markersize=5)\n",
    "    i+=1\n",
    "ax.legend(fontsize=15)\n",
    "ax.set_xlabel('Measuring time (mins)', fontsize=20)\n",
    "ax.set_ylabel('Intensity', fontsize=20)\n",
    "ax.set_xscale(\"log\")\n",
    "ax.tick_params(axis='both', which='major', labelsize=15)\n",
    "ax.set_xticks(peak_amplitude_time_log)\n",
    "ax.set_xticklabels(time_labels)\n",
    "plt.title('Carbendazim peaks time evolution at 2.91 mW', fontsize=17)\n",
    "# plt.show()\n",
    "plt.savefig('carbendazim_peaks_time_evol_2.91mW.png', dpi=500)"
   ]
  },
  {
   "cell_type": "code",
   "execution_count": null,
   "metadata": {},
   "outputs": [],
   "source": [
    "fig, ax = plt.subplots()\n",
    "fig.set_size_inches(17, 10)\n",
    "for peak_idx, peak, color in zip(acetamiprid_peaks_index, acetamiprid_peaks, colors):\n",
    "    ax.plot(\n",
    "        peak_amplitude_time_log,\n",
    "        aceta_power_time_evol_mean_smooth[0, :, peak_idx],\n",
    "        color=color,\n",
    "        label=f'Peak at {peak}',\n",
    "    )\n",
    "    ax.plot(peak_amplitude_time_log, aceta_power_time_evol_mean_smooth[0, :, peak_idx], color=color, marker='o', markersize=5)\n",
    "ax.legend(fontsize=15)\n",
    "ax.set_xlabel('Measuring time (mins)', fontsize=20)\n",
    "ax.set_ylabel('Intensity', fontsize=20)\n",
    "ax.set_xscale(\"log\")\n",
    "ax.tick_params(axis='both', which='major', labelsize=15)\n",
    "ax.set_xticks(peak_amplitude_time_log)\n",
    "ax.set_xticklabels(time_labels)\n",
    "plt.title('Acetamiprid peaks time evolution at 2.91 mW', fontsize=17)\n",
    "# plt.show()\n",
    "plt.savefig('acetamiprid_peaks_time_evol_2.91mW.png', dpi=500)"
   ]
  },
  {
   "cell_type": "code",
   "execution_count": null,
   "metadata": {},
   "outputs": [],
   "source": [
    "fig, ax = plt.subplots()\n",
    "fig.set_size_inches(17, 10)\n",
    "for peak_idx, peak, color in zip(acephate_peaks_index, acephate_peaks, colors):\n",
    "    ax.plot(\n",
    "        peak_amplitude_time_log,\n",
    "        aceph_power_time_evol_mean_smooth[0, :, peak_idx],\n",
    "        color=color,\n",
    "        label=f'Peak at {peak}',\n",
    "    )\n",
    "    ax.plot(peak_amplitude_time_log, aceph_power_time_evol_mean_smooth[0, :, peak_idx], color=color, marker='o', markersize=5)\n",
    "ax.legend(fontsize=15)\n",
    "ax.set_xlabel('Measuring time (mins)', fontsize=20)\n",
    "ax.set_ylabel('Intensity', fontsize=20)\n",
    "ax.set_xscale(\"log\")\n",
    "ax.tick_params(axis='both', which='major', labelsize=15)\n",
    "ax.set_xticks(peak_amplitude_time_log)\n",
    "ax.set_xticklabels(time_labels)\n",
    "plt.title('Acephate peaks time evolution at 2.91 mW', fontsize=17)\n",
    "# plt.show()\n",
    "plt.savefig('acephate_peaks_time_evol_2.91mW.png', dpi=500)"
   ]
  },
  {
   "cell_type": "code",
   "execution_count": null,
   "metadata": {},
   "outputs": [],
   "source": [
    "fig, ax = plt.subplots()\n",
    "fig.set_size_inches(17, 10)\n",
    "for car_peak_idx, car_peak, aceta_peak_idx, aceta_peak, color in zip(carbendazim_peaks_index, carbendazim_peaks, acetamiprid_peaks_index, acetamiprid_peaks, colors):\n",
    "    ax.plot(\n",
    "        peak_amplitude_time_log,\n",
    "        car_aceta_power_time_evol_mean_smooth[0, :, car_peak_idx],\n",
    "        color='blue',\n",
    "        label=f'Carbendazim Peak at {car_peak}',\n",
    "    )\n",
    "    ax.plot(peak_amplitude_time_log, car_aceta_power_time_evol_mean_smooth[0, :, car_peak_idx], color='blue', marker='o', markersize=5)\n",
    "    ax.plot(\n",
    "        peak_amplitude_time_log,\n",
    "        car_aceta_power_time_evol_mean_smooth[0, :, aceta_peak_idx],\n",
    "        color='red',\n",
    "        label=f'Acetamiprid Peak at {aceta_peak}',\n",
    "    )\n",
    "    ax.plot(peak_amplitude_time_log, car_aceta_power_time_evol_mean_smooth[0, :, aceta_peak_idx], color='red', marker='o', markersize=5)\n",
    "ax.legend(fontsize=15)\n",
    "ax.set_xlabel('Measuring time (mins)', fontsize=20)\n",
    "ax.set_ylabel('Intensity', fontsize=20)\n",
    "ax.set_xscale(\"log\")\n",
    "ax.tick_params(axis='both', which='major', labelsize=15)\n",
    "ax.set_xticks(peak_amplitude_time_log)\n",
    "ax.set_xticklabels(time_labels)\n",
    "plt.title('Carbendazim + Acetamiprid peaks time evolution at 2.91 mW', fontsize=17)\n",
    "# plt.show()\n",
    "plt.savefig('carbendazim_acetamiprid_peaks_time_evol_2.91mW.png', dpi=500)"
   ]
  },
  {
   "cell_type": "code",
   "execution_count": null,
   "metadata": {},
   "outputs": [],
   "source": [
    "# define a list of colors with 8 distinct colors\n",
    "colors_eight = ['blue', 'red', 'green', 'orange', 'cyan', 'brown', 'pink', 'gray']"
   ]
  },
  {
   "cell_type": "code",
   "execution_count": null,
   "metadata": {},
   "outputs": [],
   "source": [
    "# import matplotlib.colors as mcolors\n",
    "\n",
    "# # Get a list of all available colors\n",
    "# all_colors = mcolors.CSS4_COLORS\n",
    "\n",
    "# # Print the color names\n",
    "# for name, color in all_colors.items():\n",
    "#     print(name)"
   ]
  },
  {
   "cell_type": "code",
   "execution_count": null,
   "metadata": {},
   "outputs": [],
   "source": [
    "plt.figure(figsize=(17, 10))\n",
    "for time, spectra in enumerate(car_aceta_power_time_evol_mean_smooth[0, :, :]):\n",
    "    plt.plot(f_sup_0810, spectra, label=f'{time} mins', color=colors_eight[time])\n",
    "# plt.plot(f_sup_0810, car_aceta_power_time_evol_mean_smooth[0, 1, :], label='Carbendazim Peak at 2.91mW')\n",
    "plt.xlabel('Wave number (cm$^{-1}$)', fontsize=20)\n",
    "plt.ylabel('Intensity', fontsize=20)\n",
    "plt.legend(fontsize=15)\n",
    "plt.title('Carbendazim + Acetamiprid peaks time evolution at 2.91 mW', fontsize=17)\n",
    "plt.show()"
   ]
  },
  {
   "cell_type": "code",
   "execution_count": null,
   "metadata": {},
   "outputs": [],
   "source": [
    "fig, ax = plt.subplots()\n",
    "fig.set_size_inches(17, 10)\n",
    "for car_peak_idx, car_peak, aceph_peak_idx, aceph_peak, color in zip(carbendazim_peaks_index, carbendazim_peaks, acephate_peaks_index, acephate_peaks, colors):\n",
    "    ax.plot(peak_amplitude_time_log, car_aceph_power_time_evol_mean_smooth[0, :, car_peak_idx], color='blue', marker='o', markersize=5)\n",
    "    ax.plot(\n",
    "        peak_amplitude_time_log,\n",
    "        car_aceph_power_time_evol_mean_smooth[0, :, car_peak_idx],\n",
    "        color='blue',\n",
    "        label=f'Carbendazim Peak at {car_peak}',\n",
    "    )\n",
    "    ax.plot(\n",
    "        peak_amplitude_time_log,\n",
    "        car_aceph_power_time_evol_mean_smooth[0, :, aceph_peak_idx],\n",
    "        color='red',\n",
    "        label=f'Acephate Peak at {aceph_peak}',\n",
    "    )\n",
    "    ax.plot(peak_amplitude_time_log, car_aceph_power_time_evol_mean_smooth[0, :, aceph_peak_idx], color='red', marker='o', markersize=5)\n",
    "ax.legend(fontsize=15)\n",
    "ax.set_xlabel('Measuring time (mins)', fontsize=20)\n",
    "ax.set_ylabel('Intensity', fontsize=20)\n",
    "ax.set_xscale(\"log\")\n",
    "ax.tick_params(axis='both', which='major', labelsize=15)\n",
    "ax.set_xticks(peak_amplitude_time_log)\n",
    "ax.set_xticklabels(time_labels)\n",
    "plt.title('Carbendazim + Acephate peaks time evolution at 2.91 mW', fontsize=17)\n",
    "# plt.show()\n",
    "plt.savefig('carbendazim_acephate_peaks_time_evol_2.91mW.png', dpi=500)"
   ]
  },
  {
   "cell_type": "code",
   "execution_count": null,
   "metadata": {},
   "outputs": [],
   "source": [
    "plt.figure(figsize=(17, 10))\n",
    "for time, spectra in enumerate(car_aceph_power_time_evol_mean_smooth[0, :, :]):\n",
    "    plt.plot(f_sup_0810, spectra, label=f'{time} mins', color=colors_eight[time])\n",
    "# plt.plot(f_sup_0810, car_aceta_power_time_evol_mean_smooth[0, 1, :], label='Carbendazim Peak at 2.91mW')\n",
    "plt.xlabel('Wave number (cm$^{-1}$)', fontsize=20)\n",
    "plt.ylabel('Intensity', fontsize=20)\n",
    "plt.legend(fontsize=15)\n",
    "plt.title('Carbendazim + Acephate peaks time evolution at 2.91 mW', fontsize=17)\n",
    "plt.show()"
   ]
  },
  {
   "cell_type": "code",
   "execution_count": null,
   "metadata": {},
   "outputs": [],
   "source": [
    "fig, ax = plt.subplots()\n",
    "fig.set_size_inches(17, 10)\n",
    "for aceta_peak_idx, aceta_peak, aceph_peak_idx, aceph_peak, color in zip(acetamiprid_peaks_index, acetamiprid_peaks, acephate_peaks_index, acephate_peaks, colors):\n",
    "    ax.plot(peak_amplitude_time_log, aceta_aceph_power_time_evol_mean_smooth[0, :, aceta_peak_idx], color='red', marker='o', markersize=5)\n",
    "    ax.plot(\n",
    "        peak_amplitude_time_log,\n",
    "        aceta_aceph_power_time_evol_mean_smooth[0, :, aceta_peak_idx],\n",
    "        color='red',\n",
    "        label=f'Acetamiprid Peak at {aceta_peak}',\n",
    "    )\n",
    "    ax.plot(\n",
    "        peak_amplitude_time_log,\n",
    "        aceta_aceph_power_time_evol_mean_smooth[0, :, aceph_peak_idx],\n",
    "        color='green',\n",
    "        label=f'Acephate Peak at {aceph_peak}',\n",
    "    )\n",
    "    ax.plot(peak_amplitude_time_log, aceta_aceph_power_time_evol_mean_smooth[0, :, aceph_peak_idx], color='green', marker='o', markersize=5)\n",
    "ax.legend(fontsize=15)\n",
    "ax.set_xlabel('Measuring time (mins)', fontsize=20)\n",
    "ax.set_ylabel('Intensity', fontsize=20)\n",
    "ax.set_xscale(\"log\")\n",
    "ax.tick_params(axis='both', which='major', labelsize=15)\n",
    "ax.set_xticks(peak_amplitude_time_log)\n",
    "ax.set_xticklabels(time_labels)\n",
    "plt.title('Acetamiprid + Acephate peaks time evolution at 2.91 mW', fontsize=17)\n",
    "# plt.show()\n",
    "plt.savefig('acetamiprid_acephate_peaks_time_evol_2.91mW.png', dpi=500)"
   ]
  },
  {
   "cell_type": "code",
   "execution_count": null,
   "metadata": {},
   "outputs": [],
   "source": [
    "fig, ax = plt.subplots()\n",
    "fig.set_size_inches(17, 10)\n",
    "for car_peak_idx, car_peak, aceta_peak_idx, aceta_peak, aceph_peak_idx, aceph_peak, color in zip(carbendazim_peaks_index, carbendazim_peaks, acetamiprid_peaks_index, acetamiprid_peaks, acephate_peaks_index, acephate_peaks, colors_eight):\n",
    "    ax.plot(\n",
    "        peak_amplitude_time_log,\n",
    "        car_aceta_aceph_power_time_evol_mean_smooth[0, :, car_peak_idx],\n",
    "        color='blue',\n",
    "        label=f'Carbendazim Peak at {car_peak}',\n",
    "    )\n",
    "    ax.plot(peak_amplitude_time_log, car_aceta_aceph_power_time_evol_mean_smooth[0, :, car_peak_idx], color='blue', marker='o', markersize=5)\n",
    "    ax.plot(\n",
    "        peak_amplitude_time_log,\n",
    "        car_aceta_aceph_power_time_evol_mean_smooth[0, :, aceta_peak_idx],\n",
    "        color='red',\n",
    "        label=f'Acetamiprid Peak at {aceta_peak}',\n",
    "    )\n",
    "    ax.plot(peak_amplitude_time_log, car_aceta_aceph_power_time_evol_mean_smooth[0, :, aceta_peak_idx], color='red', marker='o', markersize=5)\n",
    "    ax.plot(\n",
    "        peak_amplitude_time_log,\n",
    "        car_aceta_aceph_power_time_evol_mean_smooth[0, :, aceph_peak_idx],\n",
    "        color='green',\n",
    "        label=f'Acephate Peak at {aceph_peak}',\n",
    "    )\n",
    "    ax.plot(peak_amplitude_time_log, car_aceta_aceph_power_time_evol_mean_smooth[0, :, aceph_peak_idx], color='green', marker='o', markersize=5)\n",
    "ax.legend(fontsize=15)\n",
    "ax.set_xlabel('Measuring time (mins)', fontsize=20)\n",
    "ax.set_ylabel('Intensity', fontsize=20)\n",
    "ax.set_xscale(\"log\")\n",
    "ax.tick_params(axis='both', which='major', labelsize=15)\n",
    "ax.set_xticks(peak_amplitude_time_log)\n",
    "ax.set_xticklabels(time_labels)\n",
    "plt.title('Carbendazim + Acetamiprid + Acephate peaks time evolution at 2.91 mW', fontsize=17)\n",
    "# plt.show()\n",
    "plt.savefig('carbendazim_acetamiprid_acephate_peaks_time_evol_2.91mW.png', dpi=500)"
   ]
  },
  {
   "cell_type": "code",
   "execution_count": null,
   "metadata": {},
   "outputs": [],
   "source": [
    "plt.figure(figsize=(17, 10))\n",
    "for time, spectra in zip(time_labels, car_aceta_aceph_power_time_evol_mean_smooth[0, :, :]):\n",
    "    plt.plot(f_sup_0810, spectra, label=f'{time} mins', color=colors_eight[time])\n",
    "# plt.plot(f_sup_0810, car_aceta_power_time_evol_mean_smooth[0, 1, :], label='Carbendazim Peak at 2.91mW')\n",
    "plt.xlabel('Wave number (cm$^{-1}$)', fontsize=20)\n",
    "plt.ylabel('Intensity', fontsize=20)\n",
    "plt.legend(fontsize=15)\n",
    "plt.title('Carbendazim + Acetamiprid + Acephate peaks time evolution at 2.91 mW', fontsize=17)\n",
    "plt.show()"
   ]
  },
  {
   "cell_type": "code",
   "execution_count": null,
   "metadata": {},
   "outputs": [],
   "source": [
    "import numpy as np\n",
    "import matplotlib.pyplot as plt\n",
    "\n",
    "# Select the two most prominent peaks from each analyte\n",
    "carbendazim_peaks_index = np.array([0, 1])\n",
    "acetamiprid_peaks_index = np.array([2, 3])\n",
    "acephate_peaks_index = np.array([4, 5])\n",
    "\n",
    "# Define the data for the bar chart\n",
    "data = np.random.rand(6, 6)\n",
    "\n",
    "# Plot the bar chart\n",
    "fig, ax = plt.subplots()\n",
    "fig.set_size_inches(17, 10)\n",
    "for i, (car_peak_idx, aceta_peak_idx, aceph_peak_idx) in enumerate(zip(carbendazim_peaks_index, acetamiprid_peaks_index, acephate_peaks_index)):\n",
    "    ax.bar(i*6, data[i, 0], color='blue')\n",
    "    ax.bar(i*6+1, data[i, 1], color='blue')\n",
    "    ax.bar(i*6+2, data[i, 2], color='red')\n",
    "    ax.bar(i*6+3, data[i, 3], color='red')\n",
    "    ax.bar(i*6+4, data[i, 4], color='green')\n",
    "    ax.bar(i*6+5, data[i, 5], color='green')\n",
    "ax.set_xlabel('Colloidal Solution', fontsize=20)\n",
    "ax.set_ylabel('Amplitude', fontsize=20)\n",
    "ax.tick_params(axis='both', which='major', labelsize=15)\n",
    "plt.title('Two most prominent peaks from each analyte', fontsize=17)\n",
    "plt.show()"
   ]
  }
 ],
 "metadata": {
  "kernelspec": {
   "display_name": "Raman",
   "language": "python",
   "name": "python3"
  },
  "language_info": {
   "codemirror_mode": {
    "name": "ipython",
    "version": 3
   },
   "file_extension": ".py",
   "mimetype": "text/x-python",
   "name": "python",
   "nbconvert_exporter": "python",
   "pygments_lexer": "ipython3",
   "version": "3.11.4"
  },
  "orig_nbformat": 4
 },
 "nbformat": 4,
 "nbformat_minor": 2
}
