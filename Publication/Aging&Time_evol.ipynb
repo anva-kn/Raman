{
 "cells": [
  {
   "cell_type": "markdown",
   "source": [
    "# Jupyter notebook magic setup"
   ],
   "metadata": {
    "collapsed": false
   }
  },
  {
   "cell_type": "code",
   "execution_count": 1,
   "metadata": {
    "ExecuteTime": {
     "end_time": "2023-11-29T05:50:23.325770905Z",
     "start_time": "2023-11-29T05:50:23.306801174Z"
    }
   },
   "outputs": [],
   "source": [
    "%load_ext autoreload\n",
    "%autoreload 2"
   ]
  },
  {
   "cell_type": "markdown",
   "source": [
    "# Importing the libraries"
   ],
   "metadata": {
    "collapsed": false
   }
  },
  {
   "cell_type": "code",
   "execution_count": 2,
   "metadata": {
    "ExecuteTime": {
     "end_time": "2023-11-29T05:50:25.593676905Z",
     "start_time": "2023-11-29T05:50:25.574996270Z"
    }
   },
   "outputs": [],
   "source": [
    "import sys\n",
    "sys.path.insert(0, '../')"
   ]
  },
  {
   "cell_type": "code",
   "execution_count": 3,
   "metadata": {
    "ExecuteTime": {
     "end_time": "2023-11-29T05:50:26.178592081Z",
     "start_time": "2023-11-29T05:50:25.817884961Z"
    }
   },
   "outputs": [],
   "source": [
    "from tools.ramanflow.read_data import ReadData as RD\n",
    "# from tools.ramanflow.prep_data import PrepData as rpd"
   ]
  },
  {
   "cell_type": "code",
   "execution_count": 4,
   "metadata": {
    "ExecuteTime": {
     "end_time": "2023-11-29T05:50:26.464594584Z",
     "start_time": "2023-11-29T05:50:26.178788121Z"
    }
   },
   "outputs": [],
   "source": [
    "import matplotlib.pyplot as plt\n",
    "import numpy as np\n",
    "# import os\n",
    "import pandas as pd"
   ]
  },
  {
   "cell_type": "code",
   "execution_count": 5,
   "metadata": {
    "collapsed": false,
    "ExecuteTime": {
     "end_time": "2023-11-29T05:50:26.971814927Z",
     "start_time": "2023-11-29T05:50:26.755330496Z"
    }
   },
   "outputs": [],
   "source": [
    "from scipy.signal import savgol_filter\n",
    "from joblib import Parallel, delayed"
   ]
  },
  {
   "cell_type": "markdown",
   "source": [
    "# Read the data"
   ],
   "metadata": {
    "collapsed": false
   }
  },
  {
   "cell_type": "code",
   "execution_count": 6,
   "metadata": {
    "ExecuteTime": {
     "end_time": "2023-11-29T05:50:32.586680945Z",
     "start_time": "2023-11-29T05:50:31.260366178Z"
    }
   },
   "outputs": [],
   "source": [
    "f_sup_0810, car_0810 = RD.read_dir_tiff_files('../data/20210810 SERS timed immersion experiment/1')\n",
    "_, aceta_0810 = RD.read_dir_tiff_files('../data/20210810 SERS timed immersion experiment/4')\n",
    "_, aceph_0810 = RD.read_dir_tiff_files('../data/20210810 SERS timed immersion experiment/5')\n",
    "_, car_aceta_0810 = RD.read_dir_tiff_files('../data/20210810 SERS timed immersion experiment/1+4')\n",
    "_, car_aceph_0810 = RD.read_dir_tiff_files('../data/20210810 SERS timed immersion experiment/1+5')\n",
    "_, aceta_aceph_0810 = RD.read_dir_tiff_files('../data/20210810 SERS timed immersion experiment/4+5')\n",
    "_, car_aceta_aceph_0810 = RD.read_dir_tiff_files('../data/20210810 SERS timed immersion experiment/1+4+5')"
   ]
  },
  {
   "cell_type": "code",
   "execution_count": 7,
   "metadata": {
    "ExecuteTime": {
     "end_time": "2023-11-29T05:50:32.905959486Z",
     "start_time": "2023-11-29T05:50:32.588377618Z"
    }
   },
   "outputs": [],
   "source": [
    "f_sup_0811, car_0811 = RD.read_dir_tiff_files('../data/20210811 SERS timed immersion experiment/1')\n",
    "_, aceta_0811 = RD.read_dir_tiff_files('../data/20210811 SERS timed immersion experiment/4')\n",
    "_, aceph_0811 = RD.read_dir_tiff_files('../data/20210811 SERS timed immersion experiment/5')\n",
    "_, car_aceta_0811 = RD.read_dir_tiff_files('../data/20210811 SERS timed immersion experiment/1+4')\n",
    "_, car_aceph_0811 = RD.read_dir_tiff_files('../data/20210811 SERS timed immersion experiment/1+5')\n",
    "_, aceta_aceph_0811 = RD.read_dir_tiff_files('../data/20210811 SERS timed immersion experiment/4+5')\n",
    "_, car_aceta_aceph_0811 = RD.read_dir_tiff_files('../data/20210811 SERS timed immersion experiment/1+4+5')"
   ]
  },
  {
   "cell_type": "code",
   "execution_count": 8,
   "metadata": {
    "ExecuteTime": {
     "end_time": "2023-11-29T05:50:33.309227434Z",
     "start_time": "2023-11-29T05:50:32.907036801Z"
    }
   },
   "outputs": [],
   "source": [
    "f_sup_0813, car_0813 = RD.read_dir_tiff_files('../data/20210813 SERS timed immersion experiment/1')\n",
    "_, aceta_0813 = RD.read_dir_tiff_files('../data/20210813 SERS timed immersion experiment/4')\n",
    "_, aceph_0813 = RD.read_dir_tiff_files('../data/20210813 SERS timed immersion experiment/5')\n",
    "_, car_aceta_0813 = RD.read_dir_tiff_files('../data/20210813 SERS timed immersion experiment/1+4')\n",
    "_, car_aceph_0813 = RD.read_dir_tiff_files('../data/20210813 SERS timed immersion experiment/1+5')\n",
    "_, aceta_aceph_0813 = RD.read_dir_tiff_files('../data/20210813 SERS timed immersion experiment/4+5')\n",
    "_, car_aceta_aceph_0813 = RD.read_dir_tiff_files('../data/20210813 SERS timed immersion experiment/1+4+5')"
   ]
  },
  {
   "cell_type": "code",
   "execution_count": 9,
   "metadata": {
    "ExecuteTime": {
     "end_time": "2023-11-29T05:50:33.558284547Z",
     "start_time": "2023-11-29T05:50:33.311449721Z"
    }
   },
   "outputs": [],
   "source": [
    "f_sup_0818, car_0818 = RD.read_dir_tiff_files('../data/20210818 SERS timed immersion experiment/1')\n",
    "_, aceta_0818 = RD.read_dir_tiff_files('../data/20210818 SERS timed immersion experiment/4')\n",
    "_, aceph_0818 = RD.read_dir_tiff_files('../data/20210818 SERS timed immersion experiment/5')\n",
    "_, car_aceta_0818 = RD.read_dir_tiff_files('../data/20210818 SERS timed immersion experiment/1+4')\n",
    "_, car_aceph_0818 = RD.read_dir_tiff_files('../data/20210818 SERS timed immersion experiment/1+5')\n",
    "_, aceta_aceph_0818 = RD.read_dir_tiff_files('../data/20210818 SERS timed immersion experiment/4+5')\n",
    "_, car_aceta_aceph_0818 = RD.read_dir_tiff_files('../data/20210818 SERS timed immersion experiment/1+4+5')"
   ]
  },
  {
   "cell_type": "markdown",
   "source": [
    "# Preprocessing the data"
   ],
   "metadata": {
    "collapsed": false
   }
  },
  {
   "cell_type": "markdown",
   "source": [
    "### Create the numpy arrays to hold the data"
   ],
   "metadata": {
    "collapsed": false
   }
  },
  {
   "cell_type": "code",
   "execution_count": 10,
   "metadata": {
    "ExecuteTime": {
     "end_time": "2023-11-29T05:50:38.390362287Z",
     "start_time": "2023-11-29T05:50:38.356353008Z"
    }
   },
   "outputs": [],
   "source": [
    "peak_amplitude_time_log = [5, 30, 60, 180, 300, 1440, 4320, 11520]\n",
    "\n",
    "car_power_time_evol_mean = np.zeros((5, 8, 1600))\n",
    "aceta_power_time_evol_mean = np.zeros((5, 8, 1600))\n",
    "aceph_power_time_evol_mean = np.zeros((5, 8, 1600))\n",
    "car_aceta_power_time_evol_mean = np.zeros((5, 8, 1600))\n",
    "car_aceph_power_time_evol_mean = np.zeros((5, 8, 1600))\n",
    "aceta_aceph_power_time_evol_mean = np.zeros((5, 8, 1600))\n",
    "car_aceta_aceph_power_time_evol_mean = np.zeros((5, 8, 1600))"
   ]
  },
  {
   "cell_type": "markdown",
   "source": [
    "### Set up the time labels"
   ],
   "metadata": {
    "collapsed": false
   }
  },
  {
   "cell_type": "code",
   "execution_count": 11,
   "metadata": {
    "ExecuteTime": {
     "end_time": "2023-11-29T05:50:41.722633421Z",
     "start_time": "2023-11-29T05:50:41.688400731Z"
    }
   },
   "outputs": [],
   "source": [
    "# time_labels = ['5 min', '30 min', '1 hour', '3 hours', '5 hours', '24 hours', '3 days (4320 mins)', '8 days (11520 mins)']\n",
    "time_labels = ['5 m.', '30 m.', '1 h.', '3 h.', '5 h.', '24 h.', '3 d.', '8 d.']\n",
    "powers = [str(power) for power in range(1, 6)]"
   ]
  },
  {
   "cell_type": "markdown",
   "source": [
    "### Unpack the data"
   ],
   "metadata": {
    "collapsed": false
   }
  },
  {
   "cell_type": "code",
   "execution_count": 12,
   "metadata": {
    "ExecuteTime": {
     "end_time": "2023-11-29T05:50:45.290344686Z",
     "start_time": "2023-11-29T05:50:45.248398611Z"
    }
   },
   "outputs": [],
   "source": [
    "power_table = pd.read_csv(\"../data/power_table.csv\")\n",
    "power_hwp = power_table[\"HWP Angle\"].tolist()\n",
    "power_watts = power_table[\"no ND\"].tolist()\n",
    "\n",
    "power_hwp_labels = power_table[\"HWP Angle\"].apply(str).tolist()\n",
    "power_watts_labels = power_table[\"no ND\"].apply(str).tolist()\n",
    "\n",
    "carbendanzim_data = {**car_0810, **car_0811, **car_0813, **car_0818}\n",
    "acetamiprid_data = {**aceta_0810, **aceta_0811, **aceta_0813, **aceta_0818}\n",
    "acephate_data = {**aceph_0810, **aceph_0811, **aceph_0813, **aceph_0818}\n",
    "car_aceta_data = {**car_aceta_0810, **car_aceta_0811, **car_aceta_0813, **car_aceta_0818}\n",
    "car_aceph_data = {**car_aceph_0810, **car_aceph_0811, **car_aceph_0813, **car_aceph_0818}\n",
    "aceta_aceph_data = {**aceta_aceph_0810, **aceta_aceph_0811, **aceta_aceph_0813, **aceta_aceph_0818}\n",
    "car_aceta_aceph_data = {**car_aceta_aceph_0810, **car_aceta_aceph_0811, **car_aceta_aceph_0813, **car_aceta_aceph_0818}"
   ]
  },
  {
   "cell_type": "markdown",
   "source": [
    "### Process the data and get the mean for each time step and store it in a row of a numpy array"
   ],
   "metadata": {
    "collapsed": false
   }
  },
  {
   "cell_type": "code",
   "execution_count": 13,
   "outputs": [],
   "source": [
    "times = ['5min', '30min', '1hour', '3hours', '5hours', '24hours', '1458hours', '1530']\n",
    "powers = range(1, 6)\n",
    "for i, power in enumerate(powers):\n",
    "    for j, time in enumerate(times):\n",
    "        key = f'1_{time}_{power}'\n",
    "        car_power_time_evol_mean[i - 1, j] = np.mean(carbendanzim_data[key], axis=0)"
   ],
   "metadata": {
    "collapsed": false,
    "ExecuteTime": {
     "end_time": "2023-11-29T05:53:26.882524370Z",
     "start_time": "2023-11-29T05:53:26.827175575Z"
    }
   }
  },
  {
   "cell_type": "code",
   "execution_count": 15,
   "outputs": [],
   "source": [
    "times = ['5min', '30min', '1hour', '3hours', '5hours', '24hours', '1513hours', '1540']\n",
    "powers = range(1, 6)\n",
    "for i, power in enumerate(powers):\n",
    "    for j, time in enumerate(times):\n",
    "        key = f'4_{time}_{power}'\n",
    "        aceta_power_time_evol_mean[i - 1, j] = np.mean(acetamiprid_data[key], axis=0)"
   ],
   "metadata": {
    "collapsed": false,
    "ExecuteTime": {
     "end_time": "2023-11-29T05:55:24.134295331Z",
     "start_time": "2023-11-29T05:55:24.089619114Z"
    }
   }
  },
  {
   "cell_type": "code",
   "execution_count": 16,
   "outputs": [],
   "source": [
    "times = ['5min', '30min', '1hour', '3hours', '5hours', '24hours', '1538hours', '1545(inside)']\n",
    "powers = range(1, 6)\n",
    "for i, power in enumerate(powers):\n",
    "    for j, time in enumerate(times):\n",
    "        key = f'5_{time}_{power}'\n",
    "        aceph_power_time_evol_mean[i - 1, j] = np.mean(acephate_data[key], axis=0)"
   ],
   "metadata": {
    "collapsed": false,
    "ExecuteTime": {
     "end_time": "2023-11-29T05:55:24.791524520Z",
     "start_time": "2023-11-29T05:55:24.747091582Z"
    }
   }
  },
  {
   "cell_type": "code",
   "execution_count": 17,
   "outputs": [],
   "source": [
    "times = ['5min', '30min', '1hour', '3hours', '5hours', '24hours', '1550hour', '1605']\n",
    "powers = range(1, 6)\n",
    "for i, power in enumerate(powers):\n",
    "    for j, time in enumerate(times):\n",
    "        key = f'1+4_{time}_{power}'\n",
    "        car_aceta_power_time_evol_mean[i - 1, j] = np.mean(car_aceta_data[key], axis=0)"
   ],
   "metadata": {
    "collapsed": false,
    "ExecuteTime": {
     "end_time": "2023-11-29T05:55:25.393906894Z",
     "start_time": "2023-11-29T05:55:25.350632904Z"
    }
   }
  },
  {
   "cell_type": "code",
   "execution_count": 18,
   "outputs": [],
   "source": [
    "times = ['5min', '30min', '1hour', '3hours', '5hours', '24hours', '1632hour', '1635']\n",
    "powers = range(1, 6)\n",
    "for i, power in enumerate(powers):\n",
    "    for j, time in enumerate(times):\n",
    "        key = f'1+5_{time}_{power}'\n",
    "        car_aceph_power_time_evol_mean[i - 1, j] = np.mean(car_aceph_data[key], axis=0)"
   ],
   "metadata": {
    "collapsed": false,
    "ExecuteTime": {
     "end_time": "2023-11-29T05:55:25.873111919Z",
     "start_time": "2023-11-29T05:55:25.835650120Z"
    }
   }
  },
  {
   "cell_type": "code",
   "execution_count": 19,
   "outputs": [],
   "source": [
    "times = ['5min', '30min', '1hour', '3hours', '5hours', '24hours', '1642hour', '1645']\n",
    "powers = range(1, 6)\n",
    "for i, power in enumerate(powers):\n",
    "    for j, time in enumerate(times):\n",
    "        key = f'4+5_{time}_{power}'\n",
    "        aceta_aceph_power_time_evol_mean[i - 1, j] = np.mean(aceta_aceph_data[key], axis=0)"
   ],
   "metadata": {
    "collapsed": false,
    "ExecuteTime": {
     "end_time": "2023-11-29T05:55:26.519749825Z",
     "start_time": "2023-11-29T05:55:26.478936560Z"
    }
   }
  },
  {
   "cell_type": "code",
   "execution_count": 20,
   "outputs": [],
   "source": [
    "times = ['5min', '30min', '1hour', '3hours', '5hours', '24hours', '1650hour', '1650']\n",
    "powers = range(1, 6)\n",
    "for i, power in enumerate(powers):\n",
    "    for j, time in enumerate(times):\n",
    "        key = f'1+4+5_{time}_{power}'\n",
    "        car_aceta_aceph_power_time_evol_mean[i - 1, j] = np.mean(car_aceta_aceph_data[key], axis=0)"
   ],
   "metadata": {
    "collapsed": false,
    "ExecuteTime": {
     "end_time": "2023-11-29T05:55:27.000780726Z",
     "start_time": "2023-11-29T05:55:26.964164262Z"
    }
   }
  },
  {
   "cell_type": "markdown",
   "source": [
    "### Create the numpy arrays to hold the smoothed data"
   ],
   "metadata": {
    "collapsed": false
   }
  },
  {
   "cell_type": "code",
   "execution_count": 22,
   "metadata": {
    "ExecuteTime": {
     "end_time": "2023-11-29T05:55:37.950255179Z",
     "start_time": "2023-11-29T05:55:37.917186222Z"
    }
   },
   "outputs": [],
   "source": [
    "car_power_time_evol_mean_smooth = np.zeros_like(car_power_time_evol_mean)\n",
    "aceta_power_time_evol_mean_smooth = np.zeros_like(aceta_power_time_evol_mean)\n",
    "aceph_power_time_evol_mean_smooth = np.zeros_like(aceph_power_time_evol_mean)\n",
    "car_aceta_power_time_evol_mean_smooth = np.zeros_like(car_aceta_power_time_evol_mean)\n",
    "car_aceph_power_time_evol_mean_smooth = np.zeros_like(car_aceph_power_time_evol_mean)\n",
    "aceta_aceph_power_time_evol_mean_smooth = np.zeros_like(aceta_aceph_power_time_evol_mean)\n",
    "car_aceta_aceph_power_time_evol_mean_smooth = np.zeros_like(car_aceta_aceph_power_time_evol_mean)"
   ]
  },
  {
   "cell_type": "markdown",
   "source": [
    "### Use joblib to smooth the data in parallel and save time"
   ],
   "metadata": {
    "collapsed": false
   }
  },
  {
   "cell_type": "code",
   "execution_count": 23,
   "outputs": [],
   "source": [
    "def smooth_data(data):\n",
    "    return savgol_filter(data, window_length=window_length, polyorder=polyorder)"
   ],
   "metadata": {
    "collapsed": false,
    "ExecuteTime": {
     "end_time": "2023-11-29T05:55:40.163964683Z",
     "start_time": "2023-11-29T05:55:40.127543289Z"
    }
   }
  },
  {
   "cell_type": "code",
   "execution_count": 24,
   "outputs": [],
   "source": [
    "window_length = 5\n",
    "polyorder = 3\n",
    "axis = 1\n",
    "n_jobs = -1"
   ],
   "metadata": {
    "collapsed": false,
    "ExecuteTime": {
     "end_time": "2023-11-29T05:55:40.839623958Z",
     "start_time": "2023-11-29T05:55:40.815960454Z"
    }
   }
  },
  {
   "cell_type": "code",
   "execution_count": 25,
   "metadata": {
    "ExecuteTime": {
     "end_time": "2023-11-29T05:55:43.744293622Z",
     "start_time": "2023-11-29T05:55:41.719549020Z"
    }
   },
   "outputs": [],
   "source": [
    "car_power_time_evol_mean_smooth = Parallel(n_jobs=n_jobs)(delayed(smooth_data)(data) for data in car_power_time_evol_mean)\n",
    "aceta_power_time_evol_mean_smooth = Parallel(n_jobs=n_jobs)(delayed(smooth_data)(data) for data in aceta_power_time_evol_mean)\n",
    "aceph_power_time_evol_mean_smooth = Parallel(n_jobs=n_jobs)(delayed(smooth_data)(data) for data in aceph_power_time_evol_mean)\n",
    "car_aceta_power_time_evol_mean_smooth = Parallel(n_jobs=n_jobs)(delayed(smooth_data)(data) for data in car_aceta_power_time_evol_mean)\n",
    "car_aceph_power_time_evol_mean_smooth = Parallel(n_jobs=n_jobs)(delayed(smooth_data)(data) for data in car_aceph_power_time_evol_mean)\n",
    "aceta_aceph_power_time_evol_mean_smooth = Parallel(n_jobs=n_jobs)(delayed(smooth_data)(data) for data in aceta_aceph_power_time_evol_mean)\n",
    "car_aceta_aceph_power_time_evol_mean_smooth = Parallel(n_jobs=n_jobs)(delayed(smooth_data)(data) for data in car_aceta_aceph_power_time_evol_mean)"
   ]
  },
  {
   "cell_type": "markdown",
   "source": [
    "### Get the noise of the data"
   ],
   "metadata": {
    "collapsed": false
   }
  },
  {
   "cell_type": "code",
   "execution_count": 26,
   "metadata": {
    "collapsed": false,
    "ExecuteTime": {
     "end_time": "2023-11-29T05:55:46.537154404Z",
     "start_time": "2023-11-29T05:55:46.502176995Z"
    }
   },
   "outputs": [],
   "source": [
    "car_power_time_evol_noise = car_power_time_evol_mean_smooth - car_power_time_evol_mean\n",
    "aceta_power_time_evol_noise = aceta_power_time_evol_mean_smooth - aceta_power_time_evol_mean\n",
    "aceph_power_time_evol_noise = aceph_power_time_evol_mean_smooth - aceph_power_time_evol_mean\n",
    "car_aceta_power_time_evol_noise = car_aceta_power_time_evol_mean_smooth - car_aceta_power_time_evol_mean\n",
    "car_aceph_power_time_evol_noise = car_aceph_power_time_evol_mean_smooth - car_aceph_power_time_evol_mean\n",
    "aceta_aceph_power_time_evol_noise = aceta_aceph_power_time_evol_mean_smooth - aceta_power_time_evol_mean\n",
    "car_aceta_aceph_power_time_evol_noise = car_aceta_aceph_power_time_evol_mean_smooth - car_aceta_aceph_power_time_evol_mean"
   ]
  },
  {
   "cell_type": "code",
   "execution_count": 27,
   "metadata": {
    "ExecuteTime": {
     "end_time": "2023-11-29T05:55:47.432252074Z",
     "start_time": "2023-11-29T05:55:47.378688745Z"
    }
   },
   "outputs": [],
   "source": [
    "car_power_time_evol_mean_smooth = np.array(car_power_time_evol_mean_smooth)\n",
    "aceta_power_time_evol_mean_smooth = np.array(aceta_power_time_evol_mean_smooth)\n",
    "aceph_power_time_evol_mean_smooth = np.array(aceph_power_time_evol_mean_smooth)\n",
    "car_aceta_power_time_evol_mean_smooth = np.array(car_aceta_power_time_evol_mean_smooth)\n",
    "car_aceph_power_time_evol_mean_smooth = np.array(car_aceph_power_time_evol_mean_smooth)\n",
    "aceta_aceph_power_time_evol_mean_smooth = np.array(aceta_aceph_power_time_evol_mean_smooth)\n",
    "car_aceta_aceph_power_time_evol_mean_smooth = np.array(car_aceta_aceph_power_time_evol_mean_smooth)"
   ]
  },
  {
   "cell_type": "code",
   "execution_count": 28,
   "metadata": {
    "ExecuteTime": {
     "end_time": "2023-11-29T05:55:48.753866348Z",
     "start_time": "2023-11-29T05:55:48.726436966Z"
    }
   },
   "outputs": [],
   "source": [
    "car_intensity = np.sum(car_power_time_evol_mean, axis=-1)\n",
    "aceta_intensity = np.sum(aceta_power_time_evol_mean, axis=-1)\n",
    "aceph_intensity = np.sum(aceph_power_time_evol_mean, axis=-1)\n",
    "car_aceta_intensity = np.sum(car_aceta_power_time_evol_mean, axis=-1)\n",
    "car_aceph_intensity = np.sum(car_aceph_power_time_evol_mean, axis=-1)\n",
    "aceta_aceph_intensity = np.sum(aceta_power_time_evol_mean, axis=-1)\n",
    "car_aceta_aceph_intensity = np.sum(car_aceta_aceph_power_time_evol_mean, axis=-1)"
   ]
  },
  {
   "cell_type": "markdown",
   "source": [
    "### Get the colloidal data"
   ],
   "metadata": {
    "collapsed": false
   }
  },
  {
   "cell_type": "code",
   "execution_count": 29,
   "metadata": {
    "ExecuteTime": {
     "end_time": "2023-11-29T05:55:51.515042069Z",
     "start_time": "2023-11-29T05:55:51.445104955Z"
    }
   },
   "outputs": [],
   "source": [
    "colloidal_power_mean = np.zeros((5, 1600))\n",
    "_, colloidal_power = RD.read_dir_tiff_files(\"../data/20210810 SERS timed immersion experiment/colloidal solution\")"
   ]
  },
  {
   "cell_type": "markdown",
   "source": [
    "### Caclulate the SNR"
   ],
   "metadata": {
    "collapsed": false
   }
  },
  {
   "cell_type": "code",
   "execution_count": 30,
   "metadata": {
    "ExecuteTime": {
     "end_time": "2023-11-29T05:55:54.254355130Z",
     "start_time": "2023-11-29T05:55:54.219799347Z"
    }
   },
   "outputs": [],
   "source": [
    "car_power_snr = np.sum(np.abs(car_power_time_evol_mean) ** 2, axis=-1) / np.sum(np.abs(car_power_time_evol_noise) ** 2, axis=-1)\n",
    "aceta_power_snr = np.sum(np.abs(aceta_power_time_evol_mean) ** 2, axis=-1) / np.sum(np.abs(aceta_power_time_evol_noise) ** 2, axis=-1)\n",
    "aceph_power_snr = np.sum(np.abs(aceph_power_time_evol_mean) ** 2, axis=-1) / np.sum(np.abs(aceph_power_time_evol_noise) ** 2, axis=-1)\n",
    "car_aceta_power_snr = np.sum(np.abs(car_aceta_power_time_evol_mean) ** 2, axis=-1) / np.sum(np.abs(car_aceta_power_time_evol_noise) ** 2, axis=-1)\n",
    "car_aceph_power_snr = np.sum(np.abs(car_aceph_power_time_evol_mean) ** 2, axis=-1) / np.sum(np.abs(car_aceph_power_time_evol_noise) ** 2, axis=-1)\n",
    "aceta_aceph_power_snr = np.sum(np.abs(aceta_power_time_evol_mean) ** 2, axis=-1) / np.sum(np.abs(aceta_aceph_power_time_evol_noise) ** 2, axis=-1)\n",
    "car_aceta_aceph_power_snr = np.sum(np.abs(car_aceta_aceph_power_time_evol_mean) ** 2, axis=-1) / np.sum(np.abs(car_aceta_aceph_power_time_evol_noise) ** 2, axis=-1)"
   ]
  },
  {
   "cell_type": "code",
   "execution_count": 31,
   "metadata": {
    "ExecuteTime": {
     "end_time": "2023-11-29T05:55:56.212162523Z",
     "start_time": "2023-11-29T05:55:56.175985541Z"
    }
   },
   "outputs": [],
   "source": [
    "car_power_snr_log = 10 * np.log10(car_power_snr)\n",
    "aceta_power_snr_log = 10 * np.log10(aceta_power_snr)\n",
    "aceph_power_snr_log = 10 * np.log10(aceph_power_snr)\n",
    "car_aceta_power_snr_log = 10 * np.log10(car_aceta_power_snr)\n",
    "car_aceph_power_snr_log = 10 * np.log10(car_aceph_power_snr)\n",
    "aceta_aceph_power_snr_log = 10 * np.log10(aceta_aceph_power_snr)\n",
    "car_aceta_aceph_power_snr_log = 10 * np.log10(car_aceta_aceph_power_snr)"
   ]
  },
  {
   "cell_type": "markdown",
   "source": [
    "# Data visualization\""
   ],
   "metadata": {
    "collapsed": false
   }
  },
  {
   "cell_type": "markdown",
   "metadata": {
    "collapsed": false
   },
   "source": [
    "### Visualizing the time evolution."
   ]
  },
  {
   "cell_type": "markdown",
   "source": [
    "Plot the time evolution of Carbendazim."
   ],
   "metadata": {
    "collapsed": false
   }
  },
  {
   "cell_type": "code",
   "execution_count": 32,
   "outputs": [
    {
     "data": {
      "text/plain": "<Figure size 1500x1000 with 1 Axes>",
      "image/png": "[encoded data removed]"
     },
     "metadata": {},
     "output_type": "display_data"
    }
   ],
   "source": [
    "colors = {\n",
    "    'blue': '#1f77b4',\n",
    "    'orange': '#ff7f0e',\n",
    "    'green': '#2ca02c',\n",
    "    'red': '#d62728',\n",
    "    'purple': '#9467bd',\n",
    "    'brown': '#8c564b',\n",
    "    'pink': '#e377c2',\n",
    "    'grey': '#7f7f7f',\n",
    "}\n",
    "\n",
    "plt.figure(figsize=(15, 10))\n",
    "for i in range(len(time_labels)):\n",
    "    color_key = list(colors.keys())[i]  # get color by index\n",
    "    plt.plot(f_sup_0810, car_power_time_evol_mean[0, i], label=time_labels[i], color=colors[color_key])\n",
    "plt.legend()\n",
    "plt.title(\"Time evolution of Carbendazim\")\n",
    "plt.xlabel(\"Raman Shist $cm^{-1}$\")\n",
    "plt.ylabel(\"Intensity\")\n",
    "plt.show()"
   ],
   "metadata": {
    "collapsed": false,
    "ExecuteTime": {
     "end_time": "2023-11-29T05:55:59.377265617Z",
     "start_time": "2023-11-29T05:55:58.964821080Z"
    }
   }
  },
  {
   "cell_type": "markdown",
   "source": [
    "Plot the time evolution of Acetamiprid."
   ],
   "metadata": {
    "collapsed": false
   }
  },
  {
   "cell_type": "code",
   "execution_count": null,
   "outputs": [],
   "source": [
    "colors = {\n",
    "    'blue': '#1f77b4',\n",
    "    'orange': '#ff7f0e',\n",
    "    'green': '#2ca02c',\n",
    "    'red': '#d62728',\n",
    "    'purple': '#9467bd',\n",
    "    'brown': '#8c564b',\n",
    "    'pink': '#e377c2',\n",
    "    'grey': '#7f7f7f',\n",
    "}\n",
    "\n",
    "plt.figure(figsize=(15, 10))\n",
    "for i in range(len(time_labels)):\n",
    "    color_key = list(colors.keys())[i]  # get color by index\n",
    "    plt.plot(f_sup_0810, aceta_power_time_evol_mean[4, i], label=time_labels[i], color=colors[color_key])\n",
    "plt.legend()\n",
    "plt.xlabel(\"Raman Shist $cm^{-1}$\")\n",
    "plt.ylabel(\"Intensity\")\n",
    "plt.title(\"Time evolution of Acetamiprid\")\n",
    "plt.show()"
   ],
   "metadata": {
    "collapsed": false,
    "ExecuteTime": {
     "end_time": "2023-11-29T04:12:54.059633100Z",
     "start_time": "2023-11-29T04:12:53.984215973Z"
    }
   }
  },
  {
   "cell_type": "markdown",
   "source": [
    "Plot the time evolution of the mixture of Carbendazim and Acetamiprid."
   ],
   "metadata": {
    "collapsed": false
   }
  },
  {
   "cell_type": "code",
   "execution_count": null,
   "outputs": [],
   "source": [
    "colors = {\n",
    "    'blue': '#1f77b4',\n",
    "    'orange': '#ff7f0e',\n",
    "    'green': '#2ca02c',\n",
    "    'red': '#d62728',\n",
    "    'purple': '#9467bd',\n",
    "    'brown': '#8c564b',\n",
    "    'pink': '#e377c2',\n",
    "    'grey': '#7f7f7f',\n",
    "}\n",
    "\n",
    "plt.figure(figsize=(15, 10))\n",
    "for i in range(len(time_labels)):\n",
    "    color_key = list(colors.keys())[i]  # get color by index\n",
    "    plt.plot(f_sup_0810, car_aceta_power_time_evol_mean[0, i], label=time_labels[i], color=colors[color_key])\n",
    "plt.legend()\n",
    "plt.title(\"Time evolution of Carbendazim and Acetamiprid\")\n",
    "plt.xlabel(\"Raman Shist $cm^{-1}$\")\n",
    "plt.ylabel(\"Intensity\")\n",
    "plt.show()"
   ],
   "metadata": {
    "collapsed": false,
    "ExecuteTime": {
     "start_time": "2023-11-29T04:12:53.985625333Z"
    }
   }
  },
  {
   "cell_type": "markdown",
   "source": [
    "### Visuzlalizing the time evolution of SNR of Carbendazim and Acetamiprid.\n",
    "Note: Check the SNR of Carbendazim and Acetamiprid prior to this experiment.\n"
   ],
   "metadata": {
    "collapsed": false
   }
  },
  {
   "cell_type": "code",
   "execution_count": null,
   "outputs": [],
   "source": [
    "plt.figure(figsize=(15, 10))\n",
    "plt.plot(time_labels, car_power_snr_log[0], label='Carbendazim')\n",
    "plt.plot(time_labels, aceta_power_snr_log[4], label='Acetamiprid')\n",
    "plt.plot(time_labels, car_aceta_power_snr_log[4], label='Carbendazim and Acetamiprid')\n",
    "plt.title('SNR of Carbendazim, Acetamiprid and the mixture.')\n",
    "plt.xlabel('Time')\n",
    "plt.ylabel('SNR db.')\n",
    "plt.legend()\n",
    "plt.show()"
   ],
   "metadata": {
    "collapsed": false,
    "ExecuteTime": {
     "start_time": "2023-11-29T04:12:53.987258943Z"
    }
   }
  },
  {
   "cell_type": "markdown",
   "source": [
    "## Export the data to a.csv file for Latex visualization."
   ],
   "metadata": {
    "collapsed": false
   }
  },
  {
   "cell_type": "markdown",
   "source": [
    "Time evolution of Carbendazim"
   ],
   "metadata": {
    "collapsed": false
   }
  },
  {
   "cell_type": "code",
   "execution_count": null,
   "metadata": {
    "ExecuteTime": {
     "start_time": "2023-11-29T04:12:53.988874880Z"
    }
   },
   "outputs": [],
   "source": [
    "columns = [f_sup_0810] + [car_power_time_evol_mean[0, j] for j in range(car_power_time_evol_mean.shape[1])]\n",
    "\n",
    "np.savetxt('Carbendazim_time_evol.csv', np.column_stack(columns), delimiter=',')"
   ]
  },
  {
   "cell_type": "markdown",
   "source": [
    "Time evolution of Acetamiprid"
   ],
   "metadata": {
    "collapsed": false
   }
  },
  {
   "cell_type": "code",
   "execution_count": null,
   "metadata": {
    "ExecuteTime": {
     "start_time": "2023-11-29T04:12:53.990528868Z"
    }
   },
   "outputs": [],
   "source": [
    "columns = [f_sup_0810] + [aceta_power_time_evol_mean[4, j] for j in range(aceta_power_time_evol_mean.shape[1])]\n",
    "\n",
    "np.savetxt('Acetamiprid_time_evol.csv', np.column_stack(columns), delimiter=',')"
   ]
  },
  {
   "cell_type": "markdown",
   "source": [
    "Time evolution of Acephate"
   ],
   "metadata": {
    "collapsed": false
   }
  },
  {
   "cell_type": "code",
   "execution_count": null,
   "metadata": {
    "ExecuteTime": {
     "start_time": "2023-11-29T04:12:53.992086025Z"
    }
   },
   "outputs": [],
   "source": [
    "columns = [f_sup_0810] + [aceph_power_time_evol_mean[4, j] for j in range(aceph_power_time_evol_mean.shape[1])]\n",
    "\n",
    "np.savetxt('Acephate_time_evol.csv', np.column_stack(columns), delimiter=',')"
   ]
  },
  {
   "cell_type": "markdown",
   "source": [
    "Time evolution of the mixture of Carbendazim and Acetamiprid"
   ],
   "metadata": {
    "collapsed": false
   }
  },
  {
   "cell_type": "code",
   "execution_count": null,
   "metadata": {
    "ExecuteTime": {
     "start_time": "2023-11-29T04:12:53.993673960Z"
    }
   },
   "outputs": [],
   "source": [
    "columns = [f_sup_0810] + [car_aceta_power_time_evol_mean[0, j] for j in range(car_aceta_power_time_evol_mean.shape[1])]\n",
    "\n",
    "np.savetxt('Car_Aceta_time_evol.csv', np.column_stack(columns), delimiter=',')"
   ]
  },
  {
   "cell_type": "markdown",
   "source": [
    "SNR of Carbendazim, Acetamiprid and the mixture throughout the experiment."
   ],
   "metadata": {
    "collapsed": false
   }
  },
  {
   "cell_type": "code",
   "execution_count": null,
   "outputs": [],
   "source": [
    "columns = []\n",
    "\n",
    "for j in range(car_power_snr.shape[1]):\n",
    "    columns.append(car_power_snr[0, j])\n",
    "    \n",
    "np.savetxt('Carbendazim_snr.csv', columns, delimiter=',')"
   ],
   "metadata": {
    "collapsed": false,
    "ExecuteTime": {
     "start_time": "2023-11-29T04:12:53.995250573Z"
    }
   }
  },
  {
   "cell_type": "markdown",
   "source": [
    "# Data Analysis"
   ],
   "metadata": {
    "collapsed": false
   }
  },
  {
   "attachments": {},
   "cell_type": "markdown",
   "metadata": {},
   "source": [
    "### Locating peaks"
   ]
  },
  {
   "cell_type": "code",
   "execution_count": null,
   "metadata": {
    "ExecuteTime": {
     "start_time": "2023-11-29T04:12:53.996833088Z"
    }
   },
   "outputs": [],
   "source": [
    "# car_peaks_pos = [308, 669, 890, 1104, 1147, 1247, 1345, 1400, 1467]\n",
    "# car_peaks = np.array([212, 444, 586, 723, 751, 815, 878, 913, 956])\n",
    "\n",
    "carbendazim_peaks = [625, 727, 1009, 1270, 1468]\n",
    "acetamiprid_peaks = [630, 827, 1111, 2177]\n",
    "acephate_peaks = [273, 377, 466, 1102]\n",
    "car_aceta_peaks = carbendazim_peaks + acetamiprid_peaks\n",
    "car_aceph_peaks = carbendazim_peaks + acephate_peaks\n",
    "aceta_aceph_peaks = acetamiprid_peaks + acephate_peaks\n",
    "car_aceta_aceph_peaks = carbendazim_peaks + acetamiprid_peaks + acephate_peaks"
   ]
  },
  {
   "cell_type": "code",
   "execution_count": null,
   "metadata": {
    "ExecuteTime": {
     "start_time": "2023-11-29T04:12:53.998391847Z"
    }
   },
   "outputs": [],
   "source": [
    "# Find the index of each peak in carbendazim_peaks in f_sup array.\n",
    "carbendazim_peaks_index = np.zeros(len(carbendazim_peaks), dtype=int)\n",
    "for i in range(len(carbendazim_peaks)):\n",
    "    carbendazim_peaks_index[i] = np.argmin(np.abs(f_sup_0810 - carbendazim_peaks[i]))"
   ]
  },
  {
   "cell_type": "code",
   "execution_count": null,
   "metadata": {
    "ExecuteTime": {
     "start_time": "2023-11-29T04:12:53.999946670Z"
    }
   },
   "outputs": [],
   "source": [
    "# Find the index of each peak in acetamiprid_peaks in f_sup_0810 array\n",
    "acetamiprid_peaks_index = np.zeros(len(acetamiprid_peaks), dtype=int)\n",
    "for i in range(len(acetamiprid_peaks)):\n",
    "    acetamiprid_peaks_index[i] = np.argmin(np.abs(f_sup_0810 - acetamiprid_peaks[i]))"
   ]
  },
  {
   "cell_type": "code",
   "execution_count": null,
   "metadata": {
    "ExecuteTime": {
     "start_time": "2023-11-29T04:12:54.001571924Z"
    }
   },
   "outputs": [],
   "source": [
    "# Find the index of each peak in acephate_peaks in f_sup_0810 array\n",
    "acephate_peaks_index = np.zeros(len(acephate_peaks), dtype=int)\n",
    "for i in range(len(acephate_peaks)):\n",
    "    acephate_peaks_index[i] = np.argmin(np.abs(f_sup_0810 - acephate_peaks[i]))"
   ]
  },
  {
   "cell_type": "code",
   "execution_count": null,
   "metadata": {
    "ExecuteTime": {
     "start_time": "2023-11-29T04:12:54.003134661Z"
    }
   },
   "outputs": [],
   "source": [
    "carbendazim_peaks_index"
   ]
  },
  {
   "attachments": {},
   "cell_type": "markdown",
   "metadata": {},
   "source": [
    "### Plotting peaks and spectra together."
   ]
  },
  {
   "cell_type": "code",
   "execution_count": null,
   "metadata": {
    "ExecuteTime": {
     "start_time": "2023-11-29T04:12:54.004688452Z"
    }
   },
   "outputs": [],
   "source": [
    "# Find polynomial interpolation for 10 points to the left and right around each peak in carbendazim_peaks_index \n",
    "# in f_sup_0810 and car_power_time_evol_mean_smooth[4, 0, :] arrayy and plot it.\n",
    "deg = 2\n",
    "carbendazim_peaks_interpol = np.zeros((len(carbendazim_peaks), deg + 1))\n",
    "for i in range(len(carbendazim_peaks)):\n",
    "    x = f_sup_0810[carbendazim_peaks_index[i] - 10: carbendazim_peaks_index[i] + 11]\n",
    "    y = car_power_time_evol_mean_smooth[4, 0, carbendazim_peaks_index[i] - 10: carbendazim_peaks_index[i] + 11]\n",
    "    print(\"x shape:\", x.shape)\n",
    "    print(\"y shape:\", y.shape)\n",
    "    carbendazim_peaks_interpol[i, :] = np.polyfit(x, y, deg)\n",
    "    # cauchy \n",
    "    # change of the peak in terms of full width half max\n",
    "    plt.plot(\n",
    "        x,\n",
    "        np.polyval(carbendazim_peaks_interpol[i, :], x),\n",
    "        label=f\"peak {str(i)}\",\n",
    "    )"
   ]
  },
  {
   "cell_type": "code",
   "execution_count": null,
   "metadata": {
    "ExecuteTime": {
     "start_time": "2023-11-29T04:12:54.006214330Z"
    }
   },
   "outputs": [],
   "source": [
    "# Find polynomial interpolation for a larger range of points around each peak in carbendazim_peaks_index \n",
    "# in f_sup_0810 and car_power_time_evol_mean_smooth[4, 0, :] array and plot it.\n",
    "deg = 1\n",
    "carbendazim_peaks_interpol = np.zeros((len(carbendazim_peaks), deg + 1))\n",
    "for i in range(len(carbendazim_peaks)):\n",
    "    x = f_sup_0810[carbendazim_peaks_index[i] - 20: carbendazim_peaks_index[i] + 21]\n",
    "    y = car_power_time_evol_mean_smooth[4, 0, carbendazim_peaks_index[i] - 20: carbendazim_peaks_index[i] + 21]\n",
    "    print(\"x shape:\", x.shape)\n",
    "    print(\"y shape:\", y.shape)\n",
    "    carbendazim_peaks_interpol[i, :] = np.polyfit(x, y, deg)\n",
    "    # cauchy \n",
    "    # change of the peak in terms of full width half max\n",
    "    plt.plot(\n",
    "        x,\n",
    "        np.polyval(carbendazim_peaks_interpol[i, :], x),\n",
    "        label=f\"peak {str(i)}\",\n",
    "    )"
   ]
  },
  {
   "cell_type": "code",
   "execution_count": null,
   "metadata": {
    "ExecuteTime": {
     "start_time": "2023-11-29T04:12:54.007820218Z"
    }
   },
   "outputs": [],
   "source": [
    "deg = 1\n",
    "plt.figure(figsize=(15, 10))\n",
    "plt.plot(f_sup_0810, car_power_time_evol_mean_smooth[4, 0, :], label=\"carbendazim\")\n",
    "for peak in carbendazim_peaks_index:\n",
    "    plt.axvline(x=f_sup_0810[peak], color=\"red\", linestyle=\"--\")\n",
    "    # # Plot points 10 cm-1 to the left and right of the peak\n",
    "    # plt.scatter(f_sup_0810[peak - 10:peak + 10], car_power_time_evol_mean_smooth[4, 0, peak - 10:peak + 10], color=\"red\", s=10)\n",
    "\n",
    "    # # Polynomial interpolation of the baseline of the peak\n",
    "    # x = f_sup_0810[peak - 20: peak + 21]\n",
    "    # y = car_power_time_evol_mean_smooth[4, 0, peak - 20: peak + 21]\n",
    "    # # print(\"x shape:\", x.shape)\n",
    "    # # print(\"y shape:\", y.shape)\n",
    "    # carbendazim_peaks_interpol[i, :] = np.polyfit(x, y, deg)\n",
    "    # plt.plot(x, np.polyval(carbendazim_peaks_interpol[i, :], x), label=\"peak \" + str(i))\n",
    "\n",
    "    # Interpolation of the peak baseline using linear interpolation\n",
    "    x_interp = np.linspace(f_sup_0810[peak - 20], f_sup_0810[peak + 20], 41)\n",
    "    y_interp = np.linspace(car_power_time_evol_mean_smooth[4, 0, peak - 20], car_power_time_evol_mean_smooth[4, 0, peak + 20], 41)\n",
    "\n",
    "    plt.plot(x_interp, y_interp, label=f\"peak {str(i)}\")\n",
    "# Plot points 10 cm-1 to the left and 15 cm-1 to the right of the 2nd to last peak of carbendazim_peaks_index\n",
    "# plt.scatter(f_sup_0810[carbendazim_peaks_index[-2] - 20:carbendazim_peaks_index[-2] + 15], car_power_time_evol_mean_smooth[4, 0, carbendazim_peaks_index[-2] - 15:carbendazim_peaks_index[-2] + 20], color=\"red\", s=10)\n",
    "\n",
    "plt.xlabel(\"Frequency (cm$^{-1}$)\")\n",
    "plt.ylabel(\"Intensity (a.u.)\")\n",
    "plt.legend()\n",
    "plt.show()"
   ]
  },
  {
   "cell_type": "code",
   "execution_count": null,
   "metadata": {
    "ExecuteTime": {
     "start_time": "2023-11-29T04:12:54.034117897Z"
    }
   },
   "outputs": [],
   "source": [
    "from scipy.optimize import curve_fit\n",
    "\n",
    "# Define the Cauchy distribution function\n",
    "def cauchy(x, a, x0, gamma):\n",
    "    return a / (1 + ((x - x0) / gamma) ** 2)\n",
    "\n",
    "plt.figure(figsize=(15, 10))\n",
    "plt.plot(f_sup_0810, car_power_time_evol_mean_smooth[4, 0, :], label=\"carbendazim\")\n",
    "\n",
    "# Fit the Cauchy distribution to the 20 points around each peak in carbendazim_peak_index\n",
    "for peak in carbendazim_peaks_index[:-1]:\n",
    "    x = f_sup_0810[peak - 20: peak + 21]\n",
    "    y = car_power_time_evol_mean_smooth[4, 0, peak - 20: peak + 21]\n",
    "    popt, pcov = curve_fit(cauchy, x, y)\n",
    "    plt.plot(x, cauchy(x, *popt), label=f\"peak {str(i)}\")"
   ]
  },
  {
   "cell_type": "code",
   "execution_count": null,
   "metadata": {
    "ExecuteTime": {
     "start_time": "2023-11-29T04:12:54.034253130Z"
    }
   },
   "outputs": [],
   "source": [
    "from scipy.stats import cauchy\n",
    "\n",
    "plt.figure(figsize=(15, 10))\n",
    "plt.plot(f_sup_0810, car_power_time_evol_mean_smooth[4, 0, :], label=\"carbendazim\")\n",
    "\n",
    "# Fit the Cauchy distribution to the 20 points around each peak in carbendazim_peak_index\n",
    "for peak in carbendazim_peaks_index[:-1]:\n",
    "    x = f_sup_0810[peak - 20: peak + 21]\n",
    "    y = car_power_time_evol_mean_smooth[4, 0, peak - 20: peak + 21]\n",
    "    dist = cauchy(loc=x.mean(), scale=x.std())\n",
    "    plt.plot(x, dist.pdf(x) * y.max(), label=f\"peak {str(i)}\")"
   ]
  },
  {
   "cell_type": "code",
   "execution_count": null,
   "metadata": {
    "ExecuteTime": {
     "start_time": "2023-11-29T04:12:54.034344571Z"
    }
   },
   "outputs": [],
   "source": [
    "from scipy.stats import cauchy\n",
    "\n",
    "plt.figure(figsize=(15, 10))\n",
    "plt.plot(f_sup_0810, car_power_time_evol_mean_smooth[4, 0, :], label=\"carbendazim\")\n",
    "\n",
    "# Fit the Cauchy distribution to the 20 points around each peak in carbendazim_peak_index\n",
    "for i, peak in enumerate(carbendazim_peaks_index[:-1]):\n",
    "    x = f_sup_0810[peak - 20: peak + 21]\n",
    "    y = car_power_time_evol_mean_smooth[4, 0, peak - 20: peak + 21]\n",
    "    dist = cauchy(loc=x.mean(), scale=x.std())\n",
    "    pdf = dist.pdf(x)\n",
    "    pdf_scaled = pdf / pdf.max() * y.max()\n",
    "    plt.plot(x, pdf_scaled, label=f\"peak {str(i)}\")"
   ]
  },
  {
   "cell_type": "code",
   "execution_count": null,
   "metadata": {
    "ExecuteTime": {
     "start_time": "2023-11-29T04:12:54.034422447Z"
    }
   },
   "outputs": [],
   "source": [
    "import numpy as np\n",
    "import matplotlib.pyplot as plt\n",
    "\n",
    "# Define the Cauchy distribution function\n",
    "def cauchy(x, a, x0, gamma):\n",
    "    return a / (1 + ((x - x0) / gamma) ** 2)\n",
    "\n",
    "# Generate x values\n",
    "x = np.linspace(-10, 10, 1000)\n",
    "\n",
    "# Plot the Cauchy distribution with different values of gamma\n",
    "plt.plot(x, cauchy(x, 1, 0, 1), label=\"gamma=1\")\n",
    "plt.plot(x, cauchy(x, 1, 0, 2), label=\"gamma=2\")\n",
    "plt.plot(x, cauchy(x, 1, 0, 5), label=\"gamma=5\")\n",
    "plt.xlabel(\"x\")\n",
    "plt.ylabel(\"y\")\n",
    "plt.title(\"Cauchy distribution\")\n",
    "plt.legend()\n",
    "plt.show()"
   ]
  },
  {
   "cell_type": "code",
   "execution_count": null,
   "metadata": {
    "ExecuteTime": {
     "start_time": "2023-11-29T04:12:54.034499762Z"
    }
   },
   "outputs": [],
   "source": [
    "plt.figure(figsize=(15, 10))\n",
    "plt.plot(f_sup_0810, aceta_power_time_evol_mean_smooth[4, 7, :], label=\"acetamiprid\")\n",
    "for peak in acetamiprid_peaks_index:\n",
    "    plt.axvline(x=f_sup_0810[peak], color=\"red\", linestyle=\"--\")\n",
    "plt.xlabel(\"Wavenumber (cm$^{-1}$)\")\n",
    "plt.ylabel(\"Intensity (a.u.)\")\n",
    "plt.title(\"Acetamiprid\")\n",
    "plt.legend()\n",
    "plt.show()"
   ]
  },
  {
   "cell_type": "code",
   "execution_count": null,
   "metadata": {
    "ExecuteTime": {
     "start_time": "2023-11-29T04:12:54.034584040Z"
    }
   },
   "outputs": [],
   "source": [
    "plt.figure(figsize=(15, 10))\n",
    "plt.plot(f_sup_0810, aceph_power_time_evol_mean_smooth[4, 7, :], label=\"acephate\")\n",
    "for peak in acephate_peaks_index:\n",
    "    plt.axvline(x=f_sup_0810[peak], color=\"red\", linestyle=\"--\")\n",
    "plt.xlabel(\"Frequency (cm$^{-1}$)\")\n",
    "plt.ylabel(\"Intensity (a.u.)\")\n",
    "plt.legend()\n",
    "plt.show()"
   ]
  },
  {
   "cell_type": "code",
   "execution_count": null,
   "metadata": {
    "ExecuteTime": {
     "start_time": "2023-11-29T04:12:54.034662597Z"
    }
   },
   "outputs": [],
   "source": [
    "plt.figure(figsize=(15, 10))\n",
    "plt.plot(f_sup_0810, car_aceta_power_time_evol_mean_smooth[4, 7, :], label=\"Carbendazim + Acetamiprid\")\n",
    "for peak_car, peak_aceta in zip(carbendazim_peaks_index[-2:], acetamiprid_peaks_index[-2:]):\n",
    "    plt.axvline(x=f_sup_0810[peak_car], color=\"red\", linestyle=\"--\")\n",
    "    plt.axvline(x=f_sup_0810[peak_aceta], color=\"black\", linestyle=\"--\")\n",
    "plt.xlabel(\"Frequency (cm$^{-1}$)\")\n",
    "plt.ylabel(\"Intensity (a.u.)\")\n",
    "plt.legend()\n",
    "plt.show()"
   ]
  },
  {
   "cell_type": "code",
   "execution_count": null,
   "metadata": {
    "ExecuteTime": {
     "start_time": "2023-11-29T04:12:54.034736255Z"
    }
   },
   "outputs": [],
   "source": [
    "plt.figure(figsize=(15, 10))\n",
    "plt.plot(f_sup_0810, car_aceph_power_time_evol_mean_smooth[0, 7, :], label=\"Carbendazim + Acephate\")\n",
    "for peak_car, peak_aceph in zip(carbendazim_peaks_index[-2:], acephate_peaks_index[-2:]):\n",
    "    plt.axvline(x=f_sup_0810[peak_car], color=\"red\", linestyle=\"--\")\n",
    "    plt.axvline(x=f_sup_0810[peak_aceph], color=\"green\", linestyle=\"--\")\n",
    "plt.xlabel(\"Frequency (cm$^{-1}$)\")\n",
    "plt.ylabel(\"Intensity (a.u.)\")\n",
    "plt.title(\"Carbendazim + Acephate\")\n",
    "plt.legend()\n",
    "plt.show()"
   ]
  },
  {
   "cell_type": "code",
   "execution_count": null,
   "metadata": {
    "ExecuteTime": {
     "start_time": "2023-11-29T04:12:54.034814502Z"
    }
   },
   "outputs": [],
   "source": [
    "plt.figure(figsize=(15, 10))\n",
    "plt.plot(f_sup_0810, aceta_aceph_power_time_evol_mean_smooth[4, 2, :], label=\"Acetamiprid + Acephate\")\n",
    "for peak_aceta, peak_aceph in zip(acetamiprid_peaks_index, acephate_peaks_index):\n",
    "    plt.axvline(x=f_sup_0810[peak_aceta], color=\"black\", linestyle=\"--\")\n",
    "    plt.axvline(x=f_sup_0810[peak_aceph], color=\"green\", linestyle=\"--\")\n",
    "plt.xlabel(\"Frequency (cm$^{-1}$)\")\n",
    "plt.ylabel(\"Intensity (a.u.)\")\n",
    "plt.legend()\n",
    "plt.show()"
   ]
  },
  {
   "cell_type": "code",
   "execution_count": null,
   "metadata": {
    "ExecuteTime": {
     "start_time": "2023-11-29T04:12:54.034885374Z"
    }
   },
   "outputs": [],
   "source": [
    "plt.figure(figsize=(15, 10))\n",
    "plt.plot(f_sup_0810, car_aceta_aceph_power_time_evol_mean_smooth[4, 7, :], label=\"Carbendazim + Acetamiprid + Acephate\")\n",
    "for peak_car, peak_aceta, peak_aceph in zip(carbendazim_peaks_index, acetamiprid_peaks_index, acephate_peaks_index):\n",
    "    plt.axvline(x=f_sup_0810[peak_car], color=\"red\", linestyle=\"--\")\n",
    "    plt.axvline(x=f_sup_0810[peak_aceta], color=\"black\", linestyle=\"--\")\n",
    "    plt.axvline(x=f_sup_0810[peak_aceph], color=\"green\", linestyle=\"--\")\n",
    "plt.xlabel(\"Frequency (cm$^{-1}$)\")\n",
    "plt.ylabel(\"Intensity (a.u.)\")\n",
    "plt.legend()\n",
    "plt.show()"
   ]
  },
  {
   "attachments": {},
   "cell_type": "markdown",
   "metadata": {},
   "source": [
    "### Time evolution of the analyte inside colloidal solution"
   ]
  },
  {
   "cell_type": "code",
   "execution_count": null,
   "metadata": {
    "ExecuteTime": {
     "start_time": "2023-11-29T04:12:54.034957930Z"
    }
   },
   "outputs": [],
   "source": [
    "plt.figure(figsize=(20, 10)) \n",
    "plt.plot(f_sup_0810, car_power_time_evol_mean[4, 0, :], label=\"Carbendazim\")\n",
    "plt.plot(f_sup_0810, aceta_power_time_evol_mean[4, 6, :], label=\"Acetamiprid\")\n",
    "plt.plot(f_sup_0810, aceph_power_time_evol_mean[4, 6, :], label=\"Acephate\")\n",
    "plt.plot(f_sup_0810, car_aceta_power_time_evol_mean[4, 0, :], label=\"Carbendazim + Acetamiprid\")\n",
    "plt.plot(f_sup_0810, car_aceph_power_time_evol_mean[4, 7, :], label=\"Carbendazim + Acephate\")\n",
    "plt.plot(f_sup_0810, aceta_aceph_power_time_evol_mean[4, 2, :], label=\"Acetamiprid + Acephate\")\n",
    "plt.plot(f_sup_0810, car_aceta_aceph_power_time_evol_mean[0, 0, :], label=\"Carbendazim + Acetamiprid + Acephate\")\n",
    "plt.legend()\n",
    "plt.xlabel(\"Wavenumber (cm$^{-1}$)\")\n",
    "plt.ylabel(\"Intensity (a.u.)\")\n",
    "plt.show()"
   ]
  },
  {
   "cell_type": "code",
   "execution_count": null,
   "metadata": {
    "ExecuteTime": {
     "start_time": "2023-11-29T04:12:54.035031147Z"
    }
   },
   "outputs": [],
   "source": [
    "plt.figure(figsize=(20, 10))\n",
    "for spectra in aceph_power_time_evol_mean[4, :, :]:\n",
    "    plt.plot(f_sup_0810, spectra)\n",
    "plt.xlabel(\"Wavenumber (cm$^{-1}$)\")\n",
    "plt.ylabel(\"Intensity (a.u.)\")\n",
    "plt.title(\"Acephate\")\n",
    "plt.show()"
   ]
  },
  {
   "cell_type": "code",
   "execution_count": null,
   "metadata": {
    "ExecuteTime": {
     "start_time": "2023-11-29T04:12:54.035104264Z"
    }
   },
   "outputs": [],
   "source": [
    "# Define a list with distinct colors for each plot\n",
    "colors = ['tab:blue', 'tab:orange', 'tab:green', 'tab:red', 'tab:purple', 'tab:brown']"
   ]
  },
  {
   "cell_type": "code",
   "execution_count": null,
   "metadata": {
    "ExecuteTime": {
     "start_time": "2023-11-29T04:12:54.035198260Z"
    }
   },
   "outputs": [],
   "source": [
    "fig, ax = plt.subplots()\n",
    "fig.set_size_inches(17, 10)\n",
    "for peak_idx, peak, color in zip(carbendazim_peaks_index, carbendazim_peaks, colors):\n",
    "    ax.plot(\n",
    "        peak_amplitude_time_log,\n",
    "        car_power_time_evol_mean_smooth[0, :, peak_idx],\n",
    "        color=color,\n",
    "        label=f'Peak at {peak}',\n",
    "    )\n",
    "    ax.plot(peak_amplitude_time_log, car_power_time_evol_mean_smooth[0, :, peak_idx], color=color, marker='o', markersize=5)\n",
    "    i+=1\n",
    "ax.legend(fontsize=15)\n",
    "ax.set_xlabel('Measuring time (mins)', fontsize=20)\n",
    "ax.set_ylabel('Intensity', fontsize=20)\n",
    "ax.set_xscale(\"log\")\n",
    "ax.tick_params(axis='both', which='major', labelsize=15)\n",
    "ax.set_xticks(peak_amplitude_time_log)\n",
    "ax.set_xticklabels(time_labels)\n",
    "plt.title('Carbendazim peaks time evolution at 2.91 mW', fontsize=17)\n",
    "# plt.show()\n",
    "plt.savefig('carbendazim_peaks_time_evol_2.91mW.png', dpi=500)"
   ]
  },
  {
   "cell_type": "code",
   "execution_count": null,
   "metadata": {
    "ExecuteTime": {
     "start_time": "2023-11-29T04:12:54.035358951Z"
    }
   },
   "outputs": [],
   "source": [
    "fig, ax = plt.subplots()\n",
    "fig.set_size_inches(17, 10)\n",
    "for peak_idx, peak, color in zip(acetamiprid_peaks_index, acetamiprid_peaks, colors):\n",
    "    ax.plot(\n",
    "        peak_amplitude_time_log,\n",
    "        aceta_power_time_evol_mean_smooth[0, :, peak_idx],\n",
    "        color=color,\n",
    "        label=f'Peak at {peak}',\n",
    "    )\n",
    "    ax.plot(peak_amplitude_time_log, aceta_power_time_evol_mean_smooth[0, :, peak_idx], color=color, marker='o', markersize=5)\n",
    "ax.legend(fontsize=15)\n",
    "ax.set_xlabel('Measuring time (mins)', fontsize=20)\n",
    "ax.set_ylabel('Intensity', fontsize=20)\n",
    "ax.set_xscale(\"log\")\n",
    "ax.tick_params(axis='both', which='major', labelsize=15)\n",
    "ax.set_xticks(peak_amplitude_time_log)\n",
    "ax.set_xticklabels(time_labels)\n",
    "plt.title('Acetamiprid peaks time evolution at 2.91 mW', fontsize=17)\n",
    "# plt.show()\n",
    "plt.savefig('acetamiprid_peaks_time_evol_2.91mW.png', dpi=500)"
   ]
  },
  {
   "cell_type": "code",
   "execution_count": null,
   "metadata": {
    "ExecuteTime": {
     "start_time": "2023-11-29T04:12:54.035401060Z"
    }
   },
   "outputs": [],
   "source": [
    "fig, ax = plt.subplots()\n",
    "fig.set_size_inches(17, 10)\n",
    "for peak_idx, peak, color in zip(acephate_peaks_index, acephate_peaks, colors):\n",
    "    ax.plot(\n",
    "        peak_amplitude_time_log,\n",
    "        aceph_power_time_evol_mean_smooth[0, :, peak_idx],\n",
    "        color=color,\n",
    "        label=f'Peak at {peak}',\n",
    "    )\n",
    "    ax.plot(peak_amplitude_time_log, aceph_power_time_evol_mean_smooth[0, :, peak_idx], color=color, marker='o', markersize=5)\n",
    "ax.legend(fontsize=15)\n",
    "ax.set_xlabel('Measuring time (mins)', fontsize=20)\n",
    "ax.set_ylabel('Intensity', fontsize=20)\n",
    "ax.set_xscale(\"log\")\n",
    "ax.tick_params(axis='both', which='major', labelsize=15)\n",
    "ax.set_xticks(peak_amplitude_time_log)\n",
    "ax.set_xticklabels(time_labels)\n",
    "plt.title('Acephate peaks time evolution at 2.91 mW', fontsize=17)\n",
    "# plt.show()\n",
    "plt.savefig('acephate_peaks_time_evol_2.91mW.png', dpi=500)"
   ]
  },
  {
   "cell_type": "code",
   "execution_count": null,
   "metadata": {
    "ExecuteTime": {
     "start_time": "2023-11-29T04:12:54.035434072Z"
    }
   },
   "outputs": [],
   "source": [
    "fig, ax = plt.subplots()\n",
    "fig.set_size_inches(17, 10)\n",
    "for car_peak_idx, car_peak, aceta_peak_idx, aceta_peak, color in zip(carbendazim_peaks_index, carbendazim_peaks, acetamiprid_peaks_index, acetamiprid_peaks, colors):\n",
    "    ax.plot(\n",
    "        peak_amplitude_time_log,\n",
    "        car_aceta_power_time_evol_mean_smooth[0, :, car_peak_idx],\n",
    "        color='blue',\n",
    "        label=f'Carbendazim Peak at {car_peak}',\n",
    "    )\n",
    "    ax.plot(peak_amplitude_time_log, car_aceta_power_time_evol_mean_smooth[0, :, car_peak_idx], color='blue', marker='o', markersize=5)\n",
    "    ax.plot(\n",
    "        peak_amplitude_time_log,\n",
    "        car_aceta_power_time_evol_mean_smooth[0, :, aceta_peak_idx],\n",
    "        color='red',\n",
    "        label=f'Acetamiprid Peak at {aceta_peak}',\n",
    "    )\n",
    "    ax.plot(peak_amplitude_time_log, car_aceta_power_time_evol_mean_smooth[0, :, aceta_peak_idx], color='red', marker='o', markersize=5)\n",
    "ax.legend(fontsize=15)\n",
    "ax.set_xlabel('Measuring time (mins)', fontsize=20)\n",
    "ax.set_ylabel('Intensity', fontsize=20)\n",
    "ax.set_xscale(\"log\")\n",
    "ax.tick_params(axis='both', which='major', labelsize=15)\n",
    "ax.set_xticks(peak_amplitude_time_log)\n",
    "ax.set_xticklabels(time_labels)\n",
    "plt.title('Carbendazim + Acetamiprid peaks time evolution at 2.91 mW', fontsize=17)\n",
    "# plt.show()\n",
    "plt.savefig('carbendazim_acetamiprid_peaks_time_evol_2.91mW.png', dpi=500)"
   ]
  },
  {
   "cell_type": "code",
   "execution_count": null,
   "metadata": {
    "ExecuteTime": {
     "start_time": "2023-11-29T04:12:54.035490909Z"
    }
   },
   "outputs": [],
   "source": [
    "# define a list of colors with 8 distinct colors\n",
    "colors_eight = ['blue', 'red', 'green', 'orange', 'cyan', 'brown', 'pink', 'gray']"
   ]
  },
  {
   "cell_type": "code",
   "execution_count": null,
   "metadata": {
    "ExecuteTime": {
     "start_time": "2023-11-29T04:12:54.035523209Z"
    }
   },
   "outputs": [],
   "source": [
    "# import matplotlib.colors as mcolors\n",
    "\n",
    "# # Get a list of all available colors\n",
    "# all_colors = mcolors.CSS4_COLORS\n",
    "\n",
    "# # Print the color names\n",
    "# for name, color in all_colors.items():\n",
    "#     print(name)"
   ]
  },
  {
   "cell_type": "code",
   "execution_count": null,
   "metadata": {
    "ExecuteTime": {
     "start_time": "2023-11-29T04:12:54.035554097Z"
    }
   },
   "outputs": [],
   "source": [
    "plt.figure(figsize=(17, 10))\n",
    "for time, spectra in enumerate(car_aceta_power_time_evol_mean_smooth[0, :, :]):\n",
    "    plt.plot(f_sup_0810, spectra, label=f'{time} mins', color=colors_eight[time])\n",
    "# plt.plot(f_sup_0810, car_aceta_power_time_evol_mean_smooth[0, 1, :], label='Carbendazim Peak at 2.91mW')\n",
    "plt.xlabel('Wave number (cm$^{-1}$)', fontsize=20)\n",
    "plt.ylabel('Intensity', fontsize=20)\n",
    "plt.legend(fontsize=15)\n",
    "plt.title('Carbendazim + Acetamiprid peaks time evolution at 2.91 mW', fontsize=17)\n",
    "plt.show()"
   ]
  },
  {
   "cell_type": "code",
   "execution_count": null,
   "metadata": {
    "ExecuteTime": {
     "start_time": "2023-11-29T04:12:54.035583091Z"
    }
   },
   "outputs": [],
   "source": [
    "fig, ax = plt.subplots()\n",
    "fig.set_size_inches(17, 10)\n",
    "for car_peak_idx, car_peak, aceph_peak_idx, aceph_peak, color in zip(carbendazim_peaks_index, carbendazim_peaks, acephate_peaks_index, acephate_peaks, colors):\n",
    "    ax.plot(peak_amplitude_time_log, car_aceph_power_time_evol_mean_smooth[0, :, car_peak_idx], color='blue', marker='o', markersize=5)\n",
    "    ax.plot(\n",
    "        peak_amplitude_time_log,\n",
    "        car_aceph_power_time_evol_mean_smooth[0, :, car_peak_idx],\n",
    "        color='blue',\n",
    "        label=f'Carbendazim Peak at {car_peak}',\n",
    "    )\n",
    "    ax.plot(\n",
    "        peak_amplitude_time_log,\n",
    "        car_aceph_power_time_evol_mean_smooth[0, :, aceph_peak_idx],\n",
    "        color='red',\n",
    "        label=f'Acephate Peak at {aceph_peak}',\n",
    "    )\n",
    "    ax.plot(peak_amplitude_time_log, car_aceph_power_time_evol_mean_smooth[0, :, aceph_peak_idx], color='red', marker='o', markersize=5)\n",
    "ax.legend(fontsize=15)\n",
    "ax.set_xlabel('Measuring time (mins)', fontsize=20)\n",
    "ax.set_ylabel('Intensity', fontsize=20)\n",
    "ax.set_xscale(\"log\")\n",
    "ax.tick_params(axis='both', which='major', labelsize=15)\n",
    "ax.set_xticks(peak_amplitude_time_log)\n",
    "ax.set_xticklabels(time_labels)\n",
    "plt.title('Carbendazim + Acephate peaks time evolution at 2.91 mW', fontsize=17)\n",
    "# plt.show()\n",
    "plt.savefig('carbendazim_acephate_peaks_time_evol_2.91mW.png', dpi=500)"
   ]
  },
  {
   "cell_type": "code",
   "execution_count": null,
   "metadata": {
    "ExecuteTime": {
     "start_time": "2023-11-29T04:12:54.035613819Z"
    }
   },
   "outputs": [],
   "source": [
    "plt.figure(figsize=(17, 10))\n",
    "for time, spectra in enumerate(car_aceph_power_time_evol_mean_smooth[0, :, :]):\n",
    "    plt.plot(f_sup_0810, spectra, label=f'{time} mins', color=colors_eight[time])\n",
    "# plt.plot(f_sup_0810, car_aceta_power_time_evol_mean_smooth[0, 1, :], label='Carbendazim Peak at 2.91mW')\n",
    "plt.xlabel('Wave number (cm$^{-1}$)', fontsize=20)\n",
    "plt.ylabel('Intensity', fontsize=20)\n",
    "plt.legend(fontsize=15)\n",
    "plt.title('Carbendazim + Acephate peaks time evolution at 2.91 mW', fontsize=17)\n",
    "plt.show()"
   ]
  },
  {
   "cell_type": "code",
   "execution_count": null,
   "metadata": {
    "ExecuteTime": {
     "start_time": "2023-11-29T04:12:54.035644456Z"
    }
   },
   "outputs": [],
   "source": [
    "fig, ax = plt.subplots()\n",
    "fig.set_size_inches(17, 10)\n",
    "for aceta_peak_idx, aceta_peak, aceph_peak_idx, aceph_peak, color in zip(acetamiprid_peaks_index, acetamiprid_peaks, acephate_peaks_index, acephate_peaks, colors):\n",
    "    ax.plot(peak_amplitude_time_log, aceta_aceph_power_time_evol_mean_smooth[0, :, aceta_peak_idx], color='red', marker='o', markersize=5)\n",
    "    ax.plot(\n",
    "        peak_amplitude_time_log,\n",
    "        aceta_aceph_power_time_evol_mean_smooth[0, :, aceta_peak_idx],\n",
    "        color='red',\n",
    "        label=f'Acetamiprid Peak at {aceta_peak}',\n",
    "    )\n",
    "    ax.plot(\n",
    "        peak_amplitude_time_log,\n",
    "        aceta_aceph_power_time_evol_mean_smooth[0, :, aceph_peak_idx],\n",
    "        color='green',\n",
    "        label=f'Acephate Peak at {aceph_peak}',\n",
    "    )\n",
    "    ax.plot(peak_amplitude_time_log, aceta_aceph_power_time_evol_mean_smooth[0, :, aceph_peak_idx], color='green', marker='o', markersize=5)\n",
    "ax.legend(fontsize=15)\n",
    "ax.set_xlabel('Measuring time (mins)', fontsize=20)\n",
    "ax.set_ylabel('Intensity', fontsize=20)\n",
    "ax.set_xscale(\"log\")\n",
    "ax.tick_params(axis='both', which='major', labelsize=15)\n",
    "ax.set_xticks(peak_amplitude_time_log)\n",
    "ax.set_xticklabels(time_labels)\n",
    "plt.title('Acetamiprid + Acephate peaks time evolution at 2.91 mW', fontsize=17)\n",
    "# plt.show()\n",
    "plt.savefig('acetamiprid_acephate_peaks_time_evol_2.91mW.png', dpi=500)"
   ]
  },
  {
   "cell_type": "code",
   "execution_count": null,
   "metadata": {
    "ExecuteTime": {
     "start_time": "2023-11-29T04:12:54.035676015Z"
    }
   },
   "outputs": [],
   "source": [
    "fig, ax = plt.subplots()\n",
    "fig.set_size_inches(17, 10)\n",
    "for car_peak_idx, car_peak, aceta_peak_idx, aceta_peak, aceph_peak_idx, aceph_peak, color in zip(carbendazim_peaks_index, carbendazim_peaks, acetamiprid_peaks_index, acetamiprid_peaks, acephate_peaks_index, acephate_peaks, colors_eight):\n",
    "    ax.plot(\n",
    "        peak_amplitude_time_log,\n",
    "        car_aceta_aceph_power_time_evol_mean_smooth[0, :, car_peak_idx],\n",
    "        color='blue',\n",
    "        label=f'Carbendazim Peak at {car_peak}',\n",
    "    )\n",
    "    ax.plot(peak_amplitude_time_log, car_aceta_aceph_power_time_evol_mean_smooth[0, :, car_peak_idx], color='blue', marker='o', markersize=5)\n",
    "    ax.plot(\n",
    "        peak_amplitude_time_log,\n",
    "        car_aceta_aceph_power_time_evol_mean_smooth[0, :, aceta_peak_idx],\n",
    "        color='red',\n",
    "        label=f'Acetamiprid Peak at {aceta_peak}',\n",
    "    )\n",
    "    ax.plot(peak_amplitude_time_log, car_aceta_aceph_power_time_evol_mean_smooth[0, :, aceta_peak_idx], color='red', marker='o', markersize=5)\n",
    "    ax.plot(\n",
    "        peak_amplitude_time_log,\n",
    "        car_aceta_aceph_power_time_evol_mean_smooth[0, :, aceph_peak_idx],\n",
    "        color='green',\n",
    "        label=f'Acephate Peak at {aceph_peak}',\n",
    "    )\n",
    "    ax.plot(peak_amplitude_time_log, car_aceta_aceph_power_time_evol_mean_smooth[0, :, aceph_peak_idx], color='green', marker='o', markersize=5)\n",
    "ax.legend(fontsize=15)\n",
    "ax.set_xlabel('Measuring time (mins)', fontsize=20)\n",
    "ax.set_ylabel('Intensity', fontsize=20)\n",
    "ax.set_xscale(\"log\")\n",
    "ax.tick_params(axis='both', which='major', labelsize=15)\n",
    "ax.set_xticks(peak_amplitude_time_log)\n",
    "ax.set_xticklabels(time_labels)\n",
    "plt.title('Carbendazim + Acetamiprid + Acephate peaks time evolution at 2.91 mW', fontsize=17)\n",
    "# plt.show()\n",
    "plt.savefig('carbendazim_acetamiprid_acephate_peaks_time_evol_2.91mW.png', dpi=500)"
   ]
  },
  {
   "cell_type": "code",
   "execution_count": null,
   "metadata": {
    "ExecuteTime": {
     "start_time": "2023-11-29T04:12:54.035722633Z"
    }
   },
   "outputs": [],
   "source": [
    "plt.figure(figsize=(17, 10))\n",
    "for time, spectra in zip(time_labels, car_aceta_aceph_power_time_evol_mean_smooth[0, :, :]):\n",
    "    plt.plot(f_sup_0810, spectra, label=f'{time} mins', color=colors_eight[time])\n",
    "# plt.plot(f_sup_0810, car_aceta_power_time_evol_mean_smooth[0, 1, :], label='Carbendazim Peak at 2.91mW')\n",
    "plt.xlabel('Wave number (cm$^{-1}$)', fontsize=20)\n",
    "plt.ylabel('Intensity', fontsize=20)\n",
    "plt.legend(fontsize=15)\n",
    "plt.title('Carbendazim + Acetamiprid + Acephate peaks time evolution at 2.91 mW', fontsize=17)\n",
    "plt.show()"
   ]
  },
  {
   "cell_type": "code",
   "execution_count": null,
   "metadata": {
    "ExecuteTime": {
     "start_time": "2023-11-29T04:12:54.035751246Z"
    }
   },
   "outputs": [],
   "source": [
    "import numpy as np\n",
    "import matplotlib.pyplot as plt\n",
    "\n",
    "# Select the two most prominent peaks from each analyte\n",
    "carbendazim_peaks_index = np.array([0, 1])\n",
    "acetamiprid_peaks_index = np.array([2, 3])\n",
    "acephate_peaks_index = np.array([4, 5])\n",
    "\n",
    "# Define the data for the bar chart\n",
    "data = np.random.rand(6, 6)\n",
    "\n",
    "# Plot the bar chart\n",
    "fig, ax = plt.subplots()\n",
    "fig.set_size_inches(17, 10)\n",
    "for i, (car_peak_idx, aceta_peak_idx, aceph_peak_idx) in enumerate(zip(carbendazim_peaks_index, acetamiprid_peaks_index, acephate_peaks_index)):\n",
    "    ax.bar(i*6, data[i, 0], color='blue')\n",
    "    ax.bar(i*6+1, data[i, 1], color='blue')\n",
    "    ax.bar(i*6+2, data[i, 2], color='red')\n",
    "    ax.bar(i*6+3, data[i, 3], color='red')\n",
    "    ax.bar(i*6+4, data[i, 4], color='green')\n",
    "    ax.bar(i*6+5, data[i, 5], color='green')\n",
    "ax.set_xlabel('Colloidal Solution', fontsize=20)\n",
    "ax.set_ylabel('Amplitude', fontsize=20)\n",
    "ax.tick_params(axis='both', which='major', labelsize=15)\n",
    "plt.title('Two most prominent peaks from each analyte', fontsize=17)\n",
    "plt.show()"
   ]
  }
 ],
 "metadata": {
  "kernelspec": {
   "display_name": "Raman",
   "language": "python",
   "name": "python3"
  },
  "language_info": {
   "codemirror_mode": {
    "name": "ipython",
    "version": 3
   },
   "file_extension": ".py",
   "mimetype": "text/x-python",
   "name": "python",
   "nbconvert_exporter": "python",
   "pygments_lexer": "ipython3",
   "version": "3.11.4"
  },
  "orig_nbformat": 4
 },
 "nbformat": 4,
 "nbformat_minor": 2
}
