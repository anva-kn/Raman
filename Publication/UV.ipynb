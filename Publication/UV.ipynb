{
 "cells": [
  {
   "cell_type": "code",
   "execution_count": 1,
   "id": "5a972a1c",
   "metadata": {},
   "outputs": [],
   "source": [
    "%load_ext autoreload\n",
    "%autoreload 2"
   ]
  },
  {
   "cell_type": "code",
   "execution_count": 2,
   "id": "bc01d16a",
   "metadata": {},
   "outputs": [],
   "source": [
    "from tools.ramanflow.read_data import ReadData as rd\n",
    "from tools.ramanflow.prep_data import PrepData as pd\n",
    "import matplotlib.pyplot as plt"
   ]
  },
  {
   "cell_type": "code",
   "execution_count": 3,
   "id": "4f828042",
   "metadata": {},
   "outputs": [
    {
     "ename": "ValueError",
     "evalue": "could not convert string to float: 'TITLE'",
     "output_type": "error",
     "traceback": [
      "\u001b[0;31m---------------------------------------------------------------------------\u001b[0m",
      "\u001b[0;31mValueError\u001b[0m                                Traceback (most recent call last)",
      "\u001b[1;32m/home/anvar/Dev/Raman/UV.ipynb Cell 3\u001b[0m line \u001b[0;36m1\n\u001b[0;32m----> <a href='vscode-notebook-cell:/home/anvar/Dev/Raman/UV.ipynb#W5sZmlsZQ%3D%3D?line=0'>1</a>\u001b[0m wavelength, batch1_1_30sec_1min \u001b[39m=\u001b[39m rd\u001b[39m.\u001b[39;49mread_uv_data(\u001b[39m'\u001b[39;49m\u001b[39mdata/UV/20220303/batch1+1_30sec_1.txt\u001b[39;49m\u001b[39m'\u001b[39;49m)\n",
      "File \u001b[0;32m~/Dev/Raman/tools/ramanflow/read_data.py:147\u001b[0m, in \u001b[0;36mReadData.read_uv_data\u001b[0;34m(filename)\u001b[0m\n\u001b[1;32m    144\u001b[0m \u001b[39m@staticmethod\u001b[39m\n\u001b[1;32m    145\u001b[0m \u001b[39mdef\u001b[39;00m \u001b[39mread_uv_data\u001b[39m(filename):\n\u001b[1;32m    146\u001b[0m     uv_df \u001b[39m=\u001b[39m pd\u001b[39m.\u001b[39mread_csv(filename, delimiter\u001b[39m=\u001b[39m\u001b[39m'\u001b[39m\u001b[39m\\t\u001b[39;00m\u001b[39m'\u001b[39m, comment\u001b[39m=\u001b[39m\u001b[39m'\u001b[39m\u001b[39m#\u001b[39m\u001b[39m'\u001b[39m, header\u001b[39m=\u001b[39m\u001b[39mNone\u001b[39;00m) \u001b[39m# read data from file\u001b[39;00m\n\u001b[0;32m--> 147\u001b[0m     wavelength \u001b[39m=\u001b[39m np\u001b[39m.\u001b[39mflip(uv_df[\u001b[39m0\u001b[39;49m]\u001b[39m.\u001b[39;49mto_numpy(dtype\u001b[39m=\u001b[39;49mnp\u001b[39m.\u001b[39;49mfloat64)) \u001b[39m# get first column as numpy array\u001b[39;00m\n\u001b[1;32m    148\u001b[0m     absorbance \u001b[39m=\u001b[39m np\u001b[39m.\u001b[39mflip(uv_df[\u001b[39m1\u001b[39m]\u001b[39m.\u001b[39mto_numpy(dtype\u001b[39m=\u001b[39mnp\u001b[39m.\u001b[39mfloat64)) \u001b[39m# get second column as numpy array\u001b[39;00m\n\u001b[1;32m    149\u001b[0m     \u001b[39mreturn\u001b[39;00m wavelength, absorbance\n",
      "File \u001b[0;32m~/.pyenv/versions/3.11.4/envs/JupyterLab/lib/python3.11/site-packages/pandas/core/base.py:548\u001b[0m, in \u001b[0;36mIndexOpsMixin.to_numpy\u001b[0;34m(self, dtype, copy, na_value, **kwargs)\u001b[0m\n\u001b[1;32m    545\u001b[0m \u001b[39melse\u001b[39;00m:\n\u001b[1;32m    546\u001b[0m     values \u001b[39m=\u001b[39m \u001b[39mself\u001b[39m\u001b[39m.\u001b[39m_values\n\u001b[0;32m--> 548\u001b[0m result \u001b[39m=\u001b[39m np\u001b[39m.\u001b[39;49masarray(values, dtype\u001b[39m=\u001b[39;49mdtype)\n\u001b[1;32m    550\u001b[0m \u001b[39mif\u001b[39;00m (copy \u001b[39mand\u001b[39;00m na_value \u001b[39mis\u001b[39;00m lib\u001b[39m.\u001b[39mno_default) \u001b[39mor\u001b[39;00m (\n\u001b[1;32m    551\u001b[0m     \u001b[39mnot\u001b[39;00m copy \u001b[39mand\u001b[39;00m using_copy_on_write()\n\u001b[1;32m    552\u001b[0m ):\n\u001b[1;32m    553\u001b[0m     \u001b[39mif\u001b[39;00m np\u001b[39m.\u001b[39mshares_memory(\u001b[39mself\u001b[39m\u001b[39m.\u001b[39m_values[:\u001b[39m2\u001b[39m], result[:\u001b[39m2\u001b[39m]):\n\u001b[1;32m    554\u001b[0m         \u001b[39m# Take slices to improve performance of check\u001b[39;00m\n",
      "\u001b[0;31mValueError\u001b[0m: could not convert string to float: 'TITLE'"
     ]
    }
   ],
   "source": [
    "wavelength, batch1_1_30sec_1min = rd.read_uv_data('data/UV/20220303/batch1+1_30sec_1.txt')"
   ]
  },
  {
   "cell_type": "code",
   "execution_count": 15,
   "id": "c705114f",
   "metadata": {},
   "outputs": [],
   "source": [
    "wavelength, batch1_1_30sec_30min = rd.read_uv_data('data/UV/20220303/batch1+1_30sec_2.txt')"
   ]
  },
  {
   "cell_type": "code",
   "execution_count": 16,
   "id": "af239af7",
   "metadata": {},
   "outputs": [],
   "source": [
    "wavelength, batch1_1_30sec_1h = rd.read_uv_data('data/UV/20220303/batch1+1_30sec_3.txt')"
   ]
  },
  {
   "cell_type": "code",
   "execution_count": 17,
   "id": "35e198f1",
   "metadata": {},
   "outputs": [],
   "source": [
    "wavelength, batch1_1_30sec_3h = rd.read_uv_data('data/UV/20220303/batch1+1_30sec_4.txt')"
   ]
  },
  {
   "cell_type": "code",
   "execution_count": 18,
   "id": "8575c394",
   "metadata": {},
   "outputs": [],
   "source": [
    "wavelength, batch1_1_3min_1min = rd.read_uv_data('data/UV/20220303/batch1+1_3min_1.txt')"
   ]
  },
  {
   "cell_type": "code",
   "execution_count": 19,
   "id": "27ff1716",
   "metadata": {},
   "outputs": [],
   "source": [
    "wavelength, batch1_1_3min_30min = rd.read_uv_data('data/UV/20220303/batch1+1_3min_2.txt')"
   ]
  },
  {
   "cell_type": "code",
   "execution_count": 20,
   "id": "a0add932",
   "metadata": {},
   "outputs": [],
   "source": [
    "wavelength, batch1_1_3min_1h = rd.read_uv_data('data/UV/20220303/batch1+1_3min_3.txt')"
   ]
  },
  {
   "cell_type": "code",
   "execution_count": 21,
   "id": "bf6c4e80",
   "metadata": {},
   "outputs": [],
   "source": [
    "wavelength, batch1_1_3min_3h = rd.read_uv_data('data/UV/20220303/batch1+1_3min_4.txt')"
   ]
  },
  {
   "cell_type": "code",
   "execution_count": 22,
   "id": "17c82aa2",
   "metadata": {},
   "outputs": [],
   "source": [
    "wavelength, batch2_1_30sec_1min = rd.read_uv_data('data/UV/20220303/batch2+1_30sec_1.txt')"
   ]
  },
  {
   "cell_type": "code",
   "execution_count": 23,
   "id": "fc190e95",
   "metadata": {},
   "outputs": [],
   "source": [
    "wavelength, batch2_1_30sec_30min = rd.read_uv_data('data/UV/20220303/batch2+1_30sec_2.txt')"
   ]
  },
  {
   "cell_type": "code",
   "execution_count": 24,
   "id": "61105be0",
   "metadata": {},
   "outputs": [],
   "source": [
    "wavelength, batch2_1_30sec_1h = rd.read_uv_data('data/UV/20220303/batch2+1_30sec_3.txt')"
   ]
  },
  {
   "cell_type": "code",
   "execution_count": 25,
   "id": "634a54bb",
   "metadata": {},
   "outputs": [],
   "source": [
    "wavelength, batch2_1_30sec_3h = rd.read_uv_data('data/UV/20220303/batch2+1_30sec_4.txt')"
   ]
  },
  {
   "cell_type": "code",
   "execution_count": 26,
   "id": "1f29c28b",
   "metadata": {},
   "outputs": [],
   "source": [
    "wavelength, batch2_1_3min_1min = rd.read_uv_data('data/UV/20220303/batch2+1_3min_1.txt')"
   ]
  },
  {
   "cell_type": "code",
   "execution_count": 27,
   "id": "04aaae35",
   "metadata": {},
   "outputs": [],
   "source": [
    "wavelength, batch2_1_3min_30min = rd.read_uv_data('data/UV/20220303/batch2+1_3min_2.txt')"
   ]
  },
  {
   "cell_type": "code",
   "execution_count": 28,
   "id": "2f7809fa",
   "metadata": {},
   "outputs": [],
   "source": [
    "wavelength, batch2_1_3min_1h = rd.read_uv_data('data/UV/20220303/batch2+1_3min_3.txt')"
   ]
  },
  {
   "cell_type": "code",
   "execution_count": 29,
   "id": "66f19ef6",
   "metadata": {},
   "outputs": [],
   "source": [
    "wavelength, batch2_1_3min_3h = rd.read_uv_data('data/UV/20220303/batch2+1_3min_4.txt')"
   ]
  },
  {
   "cell_type": "code",
   "execution_count": 30,
   "id": "6ce261b8",
   "metadata": {},
   "outputs": [],
   "source": [
    "wavelength, batch3_1_30sec_1min = rd.read_uv_data('data/UV/20220303/batch3+1_30sec_1.txt')"
   ]
  },
  {
   "cell_type": "code",
   "execution_count": 31,
   "id": "37e73a95",
   "metadata": {},
   "outputs": [],
   "source": [
    "wavelength, batch3_1_30sec_30min = rd.read_uv_data('data/UV/20220303/batch3+1_30sec_2.txt')"
   ]
  },
  {
   "cell_type": "code",
   "execution_count": 32,
   "id": "cc09b6b3",
   "metadata": {},
   "outputs": [],
   "source": [
    "wavelength, batch3_1_30sec_1h = rd.read_uv_data('data/UV/20220303/batch3+1_30sec_3.txt')"
   ]
  },
  {
   "cell_type": "code",
   "execution_count": 33,
   "id": "b7796394",
   "metadata": {},
   "outputs": [],
   "source": [
    "wavelength, batch3_1_30sec_3h = rd.read_uv_data('data/UV/20220303/batch3+1_30sec_4.txt')"
   ]
  },
  {
   "cell_type": "code",
   "execution_count": 34,
   "id": "13c4a029",
   "metadata": {},
   "outputs": [],
   "source": [
    "wavelength, batch3_1_3min_1min = rd.read_uv_data('data/UV/20220303/batch3+1_3min_1.txt')"
   ]
  },
  {
   "cell_type": "code",
   "execution_count": 35,
   "id": "c349e589",
   "metadata": {},
   "outputs": [],
   "source": [
    "wavelength, batch3_1_3min_30min = rd.read_uv_data('data/UV/20220303/batch3+1_3min_2.txt')"
   ]
  },
  {
   "cell_type": "code",
   "execution_count": 36,
   "id": "92f5f9f8",
   "metadata": {},
   "outputs": [],
   "source": [
    "wavelength, batch3_1_3min_1h = rd.read_uv_data('data/UV/20220303/batch3+1_3min_3.txt')"
   ]
  },
  {
   "cell_type": "code",
   "execution_count": 37,
   "id": "4479cf62",
   "metadata": {},
   "outputs": [],
   "source": [
    "wavelength, batch3_1_3min_3h = rd.read_uv_data('data/UV/20220303/batch3+1_3min_4.txt')"
   ]
  },
  {
   "cell_type": "code",
   "execution_count": 38,
   "id": "47dc93b6",
   "metadata": {},
   "outputs": [],
   "source": [
    "wavelength, batch1_1_30sec_12h = rd.read_uv_data('data/UV/20220303/batch1+4_30sec.txt')"
   ]
  },
  {
   "cell_type": "code",
   "execution_count": 39,
   "id": "a2459333",
   "metadata": {},
   "outputs": [],
   "source": [
    "wavelength, batch1_1_30sec_12h = rd.read_uv_data('data/UV/20220303/batch1+4_30sec_1.txt')"
   ]
  },
  {
   "cell_type": "code",
   "execution_count": 40,
   "id": "2f0f820f",
   "metadata": {},
   "outputs": [],
   "source": [
    "wavelength, batch1_4_3min_12h = rd.read_uv_data('data/UV/20220303/batch1+4_3min_1.txt')"
   ]
  },
  {
   "cell_type": "code",
   "execution_count": 41,
   "id": "d056eb38",
   "metadata": {},
   "outputs": [],
   "source": [
    "wavelength, batch1_4_30sec_12h = rd.read_uv_data('data/UV/20220303/batch1+4_30sec_1.txt')"
   ]
  },
  {
   "cell_type": "code",
   "execution_count": 42,
   "id": "cd4947e2",
   "metadata": {},
   "outputs": [],
   "source": [
    "wavelength, batch2_4_30sec_12h = rd.read_uv_data('data/UV/20220303/batch2+4_30sec_1.txt')"
   ]
  },
  {
   "cell_type": "code",
   "execution_count": 43,
   "id": "eb3b9d0a",
   "metadata": {},
   "outputs": [],
   "source": [
    "wavelength, batch2_4_3min_12h = rd.read_uv_data('data/UV/20220303/batch2+4_3min_1.txt')"
   ]
  },
  {
   "cell_type": "code",
   "execution_count": 44,
   "id": "ac214794",
   "metadata": {},
   "outputs": [],
   "source": [
    "wavelength, batch3_4_30sec_12h = rd.read_uv_data('data/UV/20220303/batch3+4_30sec_1.txt')"
   ]
  },
  {
   "cell_type": "code",
   "execution_count": 45,
   "id": "742103ac",
   "metadata": {},
   "outputs": [],
   "source": [
    "wavelength, batch3_4_3min_12h = rd.read_uv_data('data/UV/20220303/batch3+4_3min_1.txt')"
   ]
  },
  {
   "cell_type": "code",
   "execution_count": 51,
   "id": "85ae6c2f",
   "metadata": {},
   "outputs": [],
   "source": [
    "del batch1_1_30sec_12h"
   ]
  },
  {
   "cell_type": "code",
   "execution_count": 52,
   "id": "2af64d25",
   "metadata": {},
   "outputs": [],
   "source": [
    "whos"
   ]
  },
  {
   "cell_type": "code",
   "execution_count": 53,
   "id": "a1dbcbae",
   "metadata": {},
   "outputs": [],
   "source": [
    "wavelength, batch1_30sec_12h = rd.read_uv_data('data/UV/20220303/batch1_30sec_1.txt')"
   ]
  },
  {
   "cell_type": "code",
   "execution_count": 54,
   "id": "be5cf03f",
   "metadata": {},
   "outputs": [],
   "source": [
    "wavelength, batch1_3min_12h = rd.read_uv_data('data/UV/20220303/batch1_3min_1.txt')"
   ]
  },
  {
   "cell_type": "code",
   "execution_count": 55,
   "id": "fd48da1d",
   "metadata": {},
   "outputs": [],
   "source": [
    "wavelength, batch2_30sec_12h = rd.read_uv_data('data/UV/20220303/batch2_30sec_1.txt')"
   ]
  },
  {
   "cell_type": "code",
   "execution_count": 56,
   "id": "c5468fee",
   "metadata": {},
   "outputs": [],
   "source": [
    "wavelength, batch2_3min_12h = rd.read_uv_data('data/UV/20220303/batch2_3min_1.txt')"
   ]
  },
  {
   "cell_type": "code",
   "execution_count": 57,
   "id": "08693d0d",
   "metadata": {},
   "outputs": [],
   "source": [
    "wavelength, batch3_30sec_12h = rd.read_uv_data('data/UV/20220303/batch3_30sec_1.txt')"
   ]
  },
  {
   "cell_type": "code",
   "execution_count": 58,
   "id": "39217cc3",
   "metadata": {},
   "outputs": [],
   "source": [
    "wavelength, batch3_3min_12h = rd.read_uv_data('data/UV/20220303/batch3_3min_1.txt')"
   ]
  },
  {
   "cell_type": "code",
   "execution_count": 59,
   "id": "0d6fa05a",
   "metadata": {},
   "outputs": [],
   "source": [
    "whos"
   ]
  },
  {
   "cell_type": "code",
   "execution_count": 60,
   "id": "95e9ba7a",
   "metadata": {},
   "outputs": [],
   "source": [
    "wavelength, batch1_30sec_1min = rd.read_uv_data('data/UV/20220302/batch1_30sec.txt')"
   ]
  },
  {
   "cell_type": "code",
   "execution_count": 61,
   "id": "23677a0c",
   "metadata": {},
   "outputs": [],
   "source": [
    "wavelength, batch1_3min_1min = rd.read_uv_data('data/UV/20220302/batch1_3min_.txt')"
   ]
  },
  {
   "cell_type": "code",
   "execution_count": 62,
   "id": "edebe651",
   "metadata": {},
   "outputs": [],
   "source": [
    "wavelength, batch2_30sec_1min = rd.read_uv_data('data/UV/20220302/batch2_30sec_.txt')"
   ]
  },
  {
   "cell_type": "code",
   "execution_count": 63,
   "id": "e92bfed7",
   "metadata": {},
   "outputs": [],
   "source": [
    "wavelength, batch2_3min_1min = rd.read_uv_data('data/UV/20220302/batch2_3min_.txt')"
   ]
  },
  {
   "cell_type": "code",
   "execution_count": 64,
   "id": "6ec0d9e9",
   "metadata": {},
   "outputs": [],
   "source": [
    "wavelength, batch3_30sec_1min = rd.read_uv_data('data/UV/20220302/batch3_30sec_.txt')"
   ]
  },
  {
   "cell_type": "code",
   "execution_count": 65,
   "id": "c684e8ab",
   "metadata": {},
   "outputs": [],
   "source": [
    "wavelength, batch3_3min_1min = rd.read_uv_data('data/UV/20220302/batch3_3min_.txt')"
   ]
  },
  {
   "cell_type": "code",
   "execution_count": 66,
   "id": "73a16cde",
   "metadata": {},
   "outputs": [],
   "source": [
    "whos"
   ]
  },
  {
   "cell_type": "code",
   "execution_count": 67,
   "id": "47369272",
   "metadata": {},
   "outputs": [],
   "source": [
    "which"
   ]
  },
  {
   "cell_type": "code",
   "execution_count": 68,
   "id": "2fb6b0d4",
   "metadata": {},
   "outputs": [],
   "source": [
    "plt.figure(figsize=(10,7))\n",
    "plt.plot(wavelength, batch1_30sec_1min, label=\"batch 1\")\n",
    "plt.plot(wavelength, batch2_30sec_1min, label=\"batch 2\")\n",
    "plt.plot(wavelength, batch3_30sec_1min, label=\"batch 3\")\n",
    "plt.ylabel(\"wavelength\", fontsize=20)\n",
    "plt.xlabel(\"Absorption\", fontsize=20)\n",
    "plt.title(\"3 batches 30sec\", fontsize=17)\n",
    "plt.show()"
   ]
  },
  {
   "cell_type": "code",
   "execution_count": 69,
   "id": "d0b76616",
   "metadata": {},
   "outputs": [],
   "source": [
    "plt.figure(figsize=(10,7))\n",
    "plt.plot(wavelength, batch1_30sec_1min, label=\"batch 1\")\n",
    "plt.plot(wavelength, batch2_30sec_1min, label=\"batch 2\")\n",
    "plt.plot(wavelength, batch3_30sec_1min, label=\"batch 3\")\n",
    "plt.ylabel(\"wavelength\", fontsize=20)\n",
    "plt.xlabel(\"Absorption\", fontsize=20)\n",
    "plt.title(\"3 batches 30sec\", fontsize=17)\n",
    "plt.legend()\n",
    "plt.show()"
   ]
  },
  {
   "cell_type": "code",
   "execution_count": 70,
   "id": "7103690e",
   "metadata": {},
   "outputs": [],
   "source": [
    "plt.figure(figsize=(10,7))\n",
    "plt.plot(wavelength, batch1_3min_1min, label=\"batch 1\")\n",
    "plt.plot(wavelength, batch2_3min_1min, label=\"batch 2\")\n",
    "plt.plot(wavelength, batch3_3min_1min, label=\"batch 3\")\n",
    "plt.ylabel(\"wavelength\", fontsize=20)\n",
    "plt.xlabel(\"Absorption\", fontsize=20)\n",
    "plt.title(\"3 batches 3min\", fontsize=17)\n",
    "plt.legend()\n",
    "plt.show()"
   ]
  },
  {
   "cell_type": "code",
   "execution_count": 71,
   "id": "93813e99",
   "metadata": {},
   "outputs": [],
   "source": [
    "plt.figure(figsize=(10,7))\n",
    "plt.plot(wavelength, batch1_3min_1min, label=\"batch 1 immediate\")\n",
    "plt.plot(wavelength, batch2_3min_1min, label=\"batch 2 immediate\")\n",
    "plt.plot(wavelength, batch3_3min_1min, label=\"batch 3 immediate\")\n",
    "plt.plot(wavelength, batch1_3min_12h, label=\"batch 1 12h\")\n",
    "plt.plot(wavelength, batch2_3min_12h, label=\"batch 2 12h\")\n",
    "plt.plot(wavelength, batch3_3min_12h, label=\"batch 3 12h\")\n",
    "plt.ylabel(\"wavelength\", fontsize=20)\n",
    "plt.xlabel(\"Absorption\", fontsize=20)\n",
    "plt.title(\"3 batches 3min\", fontsize=17)\n",
    "plt.legend()\n",
    "plt.show()"
   ]
  }
 ],
 "metadata": {
  "kernelspec": {
   "display_name": "Python 3 (ipykernel)",
   "language": "python",
   "name": "python3"
  },
  "language_info": {
   "codemirror_mode": {
    "name": "ipython",
    "version": 3
   },
   "file_extension": ".py",
   "mimetype": "text/x-python",
   "name": "python",
   "nbconvert_exporter": "python",
   "pygments_lexer": "ipython3",
   "version": "3.11.4"
  }
 },
 "nbformat": 4,
 "nbformat_minor": 5
}
