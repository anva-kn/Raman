{
 "cells": [
  {
   "cell_type": "markdown",
   "id": "75730f10-017f-4803-8ce7-10201e48cd3e",
   "metadata": {},
   "source": [
    "# Pytorch Learning Notebook  \n",
    "# PCA, Classification\n",
    "1 - Carbendazim  \n",
    "2 - Thiacloprid  \n",
    "4 - Acetamiprid   \n",
    "Mixtures of the above mentioned analytes\n",
    "\n",
    "Batch 3 of the colloids was chosen for all of the recordings due to the superior signal intensity that it showed.  \n",
    "\n",
    "Mixtures 2 + 4 and 1 + 2 + 4 are different from all of the other data. Integration time was changed from 500ms to 1500ms due to insufficient strength of the signal"
   ]
  },
  {
   "cell_type": "code",
   "execution_count": 1,
   "id": "5812527d-81c3-4ad6-9594-61533cfb6a36",
   "metadata": {},
   "outputs": [],
   "source": [
    "%load_ext autoreload\n",
    "%autoreload 2"
   ]
  },
  {
   "cell_type": "code",
   "execution_count": 13,
   "id": "fef33618-6cfb-4ea2-9918-ea6520d8c405",
   "metadata": {},
   "outputs": [],
   "source": [
    "from tools.ramanflow.read_data import ReadData as rd\n",
    "from tools.ramanflow.prep_data import PrepData as rpd"
   ]
  },
  {
   "cell_type": "code",
   "execution_count": 14,
   "id": "67fd564f-f7d0-4a8c-aaa2-cad002434303",
   "metadata": {},
   "outputs": [],
   "source": [
    "import matplotlib.pyplot as plt\n",
    "import numpy as np\n",
    "import os\n",
    "import pandas as pd"
   ]
  },
  {
   "cell_type": "markdown",
   "id": "270b0cea-79aa-4bbd-84a0-285b238f5f75",
   "metadata": {},
   "source": [
    "## Read the data\n",
    "\n",
    "The naming convention here as follows: NameOfAnalyte_BatchNo_ColloidsReductionSpeed_TypeOfReading  \n",
    "**NameOfAnalyte**: 1 = car, 2 = thia, 4 = aceta  \n",
    "**BatchNo**: Here it gets a bit tricky. The batch of colloids is the same in all of the measurements. However we splitted the acquisition into 3 separate recodrings to have a bit of variation within the batch. So the colloids that were used are all from the same batch.  \n",
    "**CollidsReductionSpeed**: 3min is the time of how long it took to reduce 90ml of HH+NaOH with 10ml of AgNO3. I call it reduction speed for convinience and because it represents the matter more accurately  \n",
    "**TypeOfReading**: Generally speaking there are 2 types of reading. Single spectra acquisition or spectral mapping where multiple spectra acquired. 50X50 means the mapping has 50X50 spectral images each of which corresponds to single spectra. So there are 2500 spectra in one recording.   \n",
    "\n",
    "Total amount of data for each of the analyte and the mixtures is 7500 spectra."
   ]
  },
  {
   "cell_type": "markdown",
   "id": "a882738e-a03e-479d-b312-2056531b399e",
   "metadata": {},
   "source": [
    "#### 1 - Carbendazim"
   ]
  },
  {
   "cell_type": "code",
   "execution_count": 4,
   "id": "040b4506-03d8-414c-b88a-fba924fdeab2",
   "metadata": {},
   "outputs": [
    {
     "name": "stderr",
     "output_type": "stream",
     "text": [
      "<tifffile.TiffFile '1_3min_b3_50X50_…l_mapping_1.tif'> ImageJ series contains unidentified dimension\n",
      "<tifffile.TiffFile '1_3min_b3_50X50_…l_mapping_2.tif'> ImageJ series contains unidentified dimension\n",
      "<tifffile.TiffFile '1_3min_b3_50X50_…l_mapping_3.tif'> ImageJ series contains unidentified dimension\n"
     ]
    }
   ],
   "source": [
    "f_sup, car_batch1_3min_mapping = rd.read_data(\"data/20220422 SERS data generation/analyte 1/mapping50X50/1_3min_b3_50X50_spectral_mapping_1.tif\")\n",
    "f_sup, car_batch2_3min_mapping = rd.read_data(\"data/20220422 SERS data generation/analyte 1/mapping50X50/1_3min_b3_50X50_spectral_mapping_2.tif\")\n",
    "f_sup, car_batch3_3min_mapping = rd.read_data(\"data/20220422 SERS data generation/analyte 1/mapping50X50/1_3min_b3_50X50_spectral_mapping_3.tif\")"
   ]
  },
  {
   "cell_type": "markdown",
   "id": "ea76db4e-2c0a-4551-90cf-fafeea6edd27",
   "metadata": {},
   "source": [
    "#### 2 - Thiacloprid"
   ]
  },
  {
   "cell_type": "code",
   "execution_count": 5,
   "id": "9c34b776-490e-45b4-8d3f-989ee5158543",
   "metadata": {},
   "outputs": [
    {
     "name": "stderr",
     "output_type": "stream",
     "text": [
      "<tifffile.TiffFile '2_3min_b3_50X50_…l_mapping_1.tif'> ImageJ series contains unidentified dimension\n",
      "<tifffile.TiffFile '2_3min_b3_50X50_…l_mapping_2.tif'> ImageJ series contains unidentified dimension\n",
      "<tifffile.TiffFile '2_3min_b3_50X50_…l_mapping_3.tif'> ImageJ series contains unidentified dimension\n"
     ]
    }
   ],
   "source": [
    "f_sup, thia_batch1_3min_mapping = rd.read_data(\"data/20220421 SERS data generation/analyte 2/mapping 50X50/2_3min_b3_50X50_spectral_mapping_1.tif\")\n",
    "f_sup, thia_batch2_3min_mapping = rd.read_data(\"data/20220421 SERS data generation/analyte 2/mapping 50X50/2_3min_b3_50X50_spectral_mapping_2.tif\")\n",
    "f_sup, thia_batch3_3min_mapping = rd.read_data(\"data/20220421 SERS data generation/analyte 2/mapping 50X50/2_3min_b3_50X50_spectral_mapping_3.tif\")"
   ]
  },
  {
   "cell_type": "markdown",
   "id": "9c98f39e-4adf-40ba-b19c-f403cd68f8ad",
   "metadata": {},
   "source": [
    "#### 4 - Acetamiprid"
   ]
  },
  {
   "cell_type": "code",
   "execution_count": 6,
   "id": "d2d56426-1377-456c-9a49-8e389eaec717",
   "metadata": {},
   "outputs": [
    {
     "name": "stderr",
     "output_type": "stream",
     "text": [
      "<tifffile.TiffFile '4_3min_b3_50X50_…l_mapping_1.tif'> ImageJ series contains unidentified dimension\n",
      "<tifffile.TiffFile '4_3min_b3_50X50_…l_mapping_2.tif'> ImageJ series contains unidentified dimension\n",
      "<tifffile.TiffFile '4_3min_b3_50X50_…l_mapping_3.tif'> ImageJ series contains unidentified dimension\n"
     ]
    }
   ],
   "source": [
    "f_sup, aceta_batch1_3min_mapping = rd.read_data(\"data/20220421 SERS data generation/analyte 4/mapping50X50/4_3min_b3_50X50_spectral_mapping_1.tif\")\n",
    "f_sup, aceta_batch2_3min_mapping = rd.read_data(\"data/20220421 SERS data generation/analyte 4/mapping50X50/4_3min_b3_50X50_spectral_mapping_2.tif\")\n",
    "f_sup, aceta_batch3_3min_mapping = rd.read_data(\"data/20220421 SERS data generation/analyte 4/mapping50X50/4_3min_b3_50X50_spectral_mapping_3.tif\")"
   ]
  },
  {
   "cell_type": "markdown",
   "id": "00299b50-c7aa-4f2e-95fc-326fc28ad744",
   "metadata": {},
   "source": [
    "### Mixtures"
   ]
  },
  {
   "cell_type": "markdown",
   "id": "7020b668-486c-43d7-a9b5-8294a5f7b213",
   "metadata": {},
   "source": [
    "#### 1 + 2"
   ]
  },
  {
   "cell_type": "code",
   "execution_count": 7,
   "id": "9be3cd0c-a545-4c29-90de-4350fea8d551",
   "metadata": {},
   "outputs": [
    {
     "name": "stderr",
     "output_type": "stream",
     "text": [
      "<tifffile.TiffFile '1+2_3min_b3_50X5…l_mapping_1.tif'> ImageJ series contains unidentified dimension\n",
      "<tifffile.TiffFile '1+2_3min_b3_50X5…l_mapping_2.tif'> ImageJ series contains unidentified dimension\n",
      "<tifffile.TiffFile '1+2_3min_b3_50X5…l_mapping_3.tif'> ImageJ series contains unidentified dimension\n"
     ]
    }
   ],
   "source": [
    "f_sup, car_thia_batch1_3min_mapping = rd.read_data(\"data/20220422 SERS data generation/analyte 1+2/mapping50X50/1+2_3min_b3_50X50_spectral_mapping_1.tif\")\n",
    "f_sup, car_thia_batch2_3min_mapping = rd.read_data(\"data/20220422 SERS data generation/analyte 1+2/mapping50X50/1+2_3min_b3_50X50_spectral_mapping_2.tif\")\n",
    "f_sup, cat_thia_batch3_3min_mapping = rd.read_data(\"data/20220422 SERS data generation/analyte 1+2/mapping50X50/1+2_3min_b3_50X50_spectral_mapping_3.tif\")"
   ]
  },
  {
   "cell_type": "markdown",
   "id": "4b6b2942-95ec-48dd-92f0-ad09efc82761",
   "metadata": {},
   "source": [
    "#### 1 + 4  \n",
    "\n",
    "**This set of measurements had some problems**  \n",
    "\n",
    "The premixed solution of 1 and 4 that was made on 04/20 and measured on 04/21 showed strong signal.  \n",
    "**However** the premixed solution of 1 and 4 that was made on 04/21 and measured on 04/22 showed no signal at all.  \n",
    "In order to have a data to train on we made a decision to procede with 04/20 solution even though at the time of the experiment it was already 2 days old.  \n",
    "This poses another challenge of the data reproducibility and uniformity. We normally would prefer the experimental condition to stay the same across all measurements. "
   ]
  },
  {
   "cell_type": "code",
   "execution_count": 8,
   "id": "d806cae2-673e-44d2-a8b7-794419fdd7f2",
   "metadata": {},
   "outputs": [
    {
     "name": "stderr",
     "output_type": "stream",
     "text": [
      "<tifffile.TiffFile '1+4(2days)_3min…al_mapping_1.tif'> ImageJ series contains unidentified dimension\n",
      "<tifffile.TiffFile '1+4(2days)_3min…al_mapping_2.tif'> ImageJ series contains unidentified dimension\n",
      "<tifffile.TiffFile '1+4(2days)_3min…al_mapping_3.tif'> ImageJ series contains unidentified dimension\n"
     ]
    }
   ],
   "source": [
    "f_sup, car_aceta_batch1_3min_mapping = rd.read_data(\"data/20220422 SERS data generation/analyte 1+4/mapping50X50/1+4(2days)_3min_b3_50X50_spectral_mapping_1.tif\")\n",
    "f_sup, car_aceta_batch2_3min_mapping = rd.read_data(\"data/20220422 SERS data generation/analyte 1+4/mapping50X50/1+4(2days)_3min_b3_50X50_spectral_mapping_2.tif\")\n",
    "f_sup, car_aceta_batch3_3min_mapping = rd.read_data(\"data/20220422 SERS data generation/analyte 1+4/mapping50X50/1+4(2days)_3min_b3_50X50_spectral_mapping_3.tif\")"
   ]
  },
  {
   "cell_type": "markdown",
   "id": "80bf9299-d01d-46a8-bda3-6f56b392b37c",
   "metadata": {},
   "source": [
    "#### 2 + 4  \n",
    "\n",
    "As was mentioned before, this particular mixture was having a hard time producing good signal at 500ms integration time. So 1500ms was chosen instead. However the mapping size was reduced to save the time during the acquisition.  \n",
    "\n",
    "**However, recording 6 and 7 had some issues**  "
   ]
  },
  {
   "cell_type": "code",
   "execution_count": 9,
   "id": "4fd866ad-2b5e-4434-9a85-1ac42330ce00",
   "metadata": {},
   "outputs": [
    {
     "name": "stderr",
     "output_type": "stream",
     "text": [
      "<tifffile.TiffFile '2+4_3min_b3_32X3…l_mapping_1.tif'> ImageJ series contains unidentified dimension\n",
      "<tifffile.TiffFile '2+4_3min_b3_32X3…l_mapping_2.tif'> ImageJ series contains unidentified dimension\n",
      "<tifffile.TiffFile '2+4_3min_b3_32X3…l_mapping_3.tif'> ImageJ series contains unidentified dimension\n",
      "<tifffile.TiffFile '2+4_3min_b3_32X3…l_mapping_4.tif'> ImageJ series contains unidentified dimension\n",
      "<tifffile.TiffFile '2+4_3min_b3_32X3…l_mapping_5.tif'> ImageJ series contains unidentified dimension\n",
      "<tifffile.TiffFile '2+4_3min_b3_32X3…_6(problem).tif'> ImageJ series contains unidentified dimension\n",
      "<tifffile.TiffFile '2+4_3min_b3_32X…g_7(problem).tif'> ImageJ series contains unidentified dimension\n"
     ]
    }
   ],
   "source": [
    "f_sup, thia_aceta_batch1_3min_mapping = rd.read_data(\"data/20220421 SERS data generation/analyte 2+4/mapping 32X32/2+4_3min_b3_32X32__1500ms_spectral_mapping_1.tif\")\n",
    "f_sup, thia_aceta_batch2_3min_mapping = rd.read_data(\"data/20220421 SERS data generation/analyte 2+4/mapping 32X32/2+4_3min_b3_32X32__1500ms_spectral_mapping_2.tif\")\n",
    "f_sup, thia_aceta_batch3_3min_mapping = rd.read_data(\"data/20220421 SERS data generation/analyte 2+4/mapping 32X32/2+4_3min_b3_32X32__1500ms_spectral_mapping_3.tif\")\n",
    "f_sup, thia_aceta_batch4_3min_mapping = rd.read_data(\"data/20220421 SERS data generation/analyte 2+4/mapping 32X32/2+4_3min_b3_32X32__1500ms_spectral_mapping_4.tif\")\n",
    "f_sup, thia_aceta_batch5_3min_mapping = rd.read_data(\"data/20220421 SERS data generation/analyte 2+4/mapping 32X32/2+4_3min_b3_32X32__1500ms_spectral_mapping_5.tif\")\n",
    "f_sup, thia_aceta_batch6_3min_mapping = rd.read_data(\"data/20220421 SERS data generation/analyte 2+4/mapping 32X32/2+4_3min_b3_32X32_1500ms_spectral_mapping_6(problem).tif\")\n",
    "f_sup, thia_aceta_batch7_3min_mapping = rd.read_data(\"data/20220421 SERS data generation/analyte 2+4/mapping 32X32/2+4_3min_b3_32X32__1500ms_spectral_mapping_7(problem).tif\")"
   ]
  },
  {
   "cell_type": "markdown",
   "id": "06a6481d-696b-4055-97e3-52b506f92081",
   "metadata": {},
   "source": [
    "#### 1 + 2 + 4"
   ]
  },
  {
   "cell_type": "code",
   "execution_count": 10,
   "id": "de5eea2e-3dbc-408b-be55-9fda617b69d0",
   "metadata": {},
   "outputs": [
    {
     "name": "stderr",
     "output_type": "stream",
     "text": [
      "<tifffile.TiffFile '1+2+4_3min_b3_3…ing_1500ms_1.tif'> ImageJ series contains unidentified dimension\n",
      "<tifffile.TiffFile '1+2+4_3min_b3_3…ing_1500ms_2.tif'> ImageJ series contains unidentified dimension\n",
      "<tifffile.TiffFile '1+2+4_3min_b3_3…ing_1500ms_3.tif'> ImageJ series contains unidentified dimension\n"
     ]
    }
   ],
   "source": [
    "f_sup, car_thia_aceta_batch1_3min_mapping = rd.read_data(\"data/20220422 SERS data generation/analyte 1+2+4/mapping32X32/1+2+4_3min_b3_32X32_spectral_mapping_1500ms_1.tif\")\n",
    "f_sup, car_thia_aceta_batch2_3min_mapping = rd.read_data(\"data/20220422 SERS data generation/analyte 1+2+4/mapping32X32/1+2+4_3min_b3_32X32_spectral_mapping_1500ms_2.tif\")\n",
    "f_sup, car_thia_aceta_batch3_3min_mapping = rd.read_data(\"data/20220422 SERS data generation/analyte 1+2+4/mapping32X32/1+2+4_3min_b3_32X32_spectral_mapping_1500ms_3.tif\")"
   ]
  },
  {
   "cell_type": "markdown",
   "id": "cd2ad17e-2c29-479d-8ed8-bd17598d6f59",
   "metadata": {},
   "source": [
    "## Data preprocessing"
   ]
  },
  {
   "cell_type": "markdown",
   "id": "4a03ccc0-1b8d-4fe0-aa67-917ab24d79d4",
   "metadata": {},
   "source": [
    "#### Collecting all three batches from each of the analyte into one matrix  \n",
    "\n",
    "**At the same time we remove cosmic rays that may appear in individual spectra**"
   ]
  },
  {
   "cell_type": "code",
   "execution_count": 27,
   "id": "2dad35c1-a88c-47a9-943e-bccf9810c27f",
   "metadata": {},
   "outputs": [
    {
     "name": "stdout",
     "output_type": "stream",
     "text": [
      "Variable                             Type       Data/Info\n",
      "---------------------------------------------------------\n",
      "aceta_batch1_3min_mapping            ndarray    2500x1600: 4000000 elems, type `float64`, 32000000 bytes (30.517578125 Mb)\n",
      "aceta_batch2_3min_mapping            ndarray    2500x1600: 4000000 elems, type `float64`, 32000000 bytes (30.517578125 Mb)\n",
      "aceta_batch3_3min_mapping            ndarray    2500x1600: 4000000 elems, type `float64`, 32000000 bytes (30.517578125 Mb)\n",
      "car_aceta_batch1_3min_mapping        ndarray    2500x1600: 4000000 elems, type `float64`, 32000000 bytes (30.517578125 Mb)\n",
      "car_aceta_batch2_3min_mapping        ndarray    2500x1600: 4000000 elems, type `float64`, 32000000 bytes (30.517578125 Mb)\n",
      "car_aceta_batch3_3min_mapping        ndarray    2500x1600: 4000000 elems, type `float64`, 32000000 bytes (30.517578125 Mb)\n",
      "car_batch1_3min_mapping              ndarray    2500x1600: 4000000 elems, type `float64`, 32000000 bytes (30.517578125 Mb)\n",
      "car_batch2_3min_mapping              ndarray    2500x1600: 4000000 elems, type `float64`, 32000000 bytes (30.517578125 Mb)\n",
      "car_batch3_3min_mapping              ndarray    2500x1600: 4000000 elems, type `float64`, 32000000 bytes (30.517578125 Mb)\n",
      "car_collected_preprocessed           ndarray    7168x1600: 11468800 elems, type `float64`, 91750400 bytes (87.5 Mb)\n",
      "car_thia_aceta_batch1_3min_mapping   ndarray    1024x1600: 1638400 elems, type `float64`, 13107200 bytes (12.5 Mb)\n",
      "car_thia_aceta_batch2_3min_mapping   ndarray    1024x1600: 1638400 elems, type `float64`, 13107200 bytes (12.5 Mb)\n",
      "car_thia_aceta_batch3_3min_mapping   ndarray    1024x1600: 1638400 elems, type `float64`, 13107200 bytes (12.5 Mb)\n",
      "car_thia_batch1_3min_mapping         ndarray    2500x1600: 4000000 elems, type `float64`, 32000000 bytes (30.517578125 Mb)\n",
      "car_thia_batch2_3min_mapping         ndarray    2500x1600: 4000000 elems, type `float64`, 32000000 bytes (30.517578125 Mb)\n",
      "cat_thia_batch3_3min_mapping         ndarray    2500x1600: 4000000 elems, type `float64`, 32000000 bytes (30.517578125 Mb)\n",
      "f_sup                                ndarray    1600: 1600 elems, type `float64`, 12800 bytes\n",
      "i                                    int        1023\n",
      "np                                   module     <module 'numpy' from '/ho<...>kages/numpy/__init__.py'>\n",
      "os                                   module     <module 'os' from '/usr/lib/python3.10/os.py'>\n",
      "pd                                   module     <module 'pandas' from '/h<...>ages/pandas/__init__.py'>\n",
      "plt                                  module     <module 'matplotlib.pyplo<...>es/matplotlib/pyplot.py'>\n",
      "rd                                   type       <class 'tools.ramanflow.read_data.ReadData'>\n",
      "rpd                                  type       <class 'tools.ramanflow.prep_data.PrepData'>\n",
      "thia_aceta_batch1_3min_mapping       ndarray    1024x1600: 1638400 elems, type `float64`, 13107200 bytes (12.5 Mb)\n",
      "thia_aceta_batch2_3min_mapping       ndarray    1024x1600: 1638400 elems, type `float64`, 13107200 bytes (12.5 Mb)\n",
      "thia_aceta_batch3_3min_mapping       ndarray    1024x1600: 1638400 elems, type `float64`, 13107200 bytes (12.5 Mb)\n",
      "thia_aceta_batch4_3min_mapping       ndarray    1024x1600: 1638400 elems, type `float64`, 13107200 bytes (12.5 Mb)\n",
      "thia_aceta_batch5_3min_mapping       ndarray    1024x1600: 1638400 elems, type `float64`, 13107200 bytes (12.5 Mb)\n",
      "thia_aceta_batch6_3min_mapping       ndarray    1024x1600: 1638400 elems, type `float64`, 13107200 bytes (12.5 Mb)\n",
      "thia_aceta_batch7_3min_mapping       ndarray    1024x1600: 1638400 elems, type `float64`, 13107200 bytes (12.5 Mb)\n",
      "thia_batch1_3min_mapping             ndarray    2500x1600: 4000000 elems, type `float64`, 32000000 bytes (30.517578125 Mb)\n",
      "thia_batch2_3min_mapping             ndarray    2500x1600: 4000000 elems, type `float64`, 32000000 bytes (30.517578125 Mb)\n",
      "thia_batch3_3min_mapping             ndarray    2500x1600: 4000000 elems, type `float64`, 32000000 bytes (30.517578125 Mb)\n"
     ]
    }
   ],
   "source": [
    "whos"
   ]
  },
  {
   "cell_type": "markdown",
   "id": "3cbbe786-0ed4-4d75-8df3-339f92c605b5",
   "metadata": {},
   "source": [
    "### 1"
   ]
  },
  {
   "cell_type": "code",
   "execution_count": null,
   "id": "1a8dbab5-430c-4c18-87ca-1fdcc70d031f",
   "metadata": {},
   "outputs": [],
   "source": [
    "car_collected_preprocessed = np.zeros((7500, 1600))\n",
    "car_collected_preprocessed[0:2500] = rpd.remove_cosmic_rays(car_batch1_3min_mapping, 7)\n",
    "car_collected_preprocessed[2500:5000] = rpd.remove_cosmic_rays(car_batch2_3min_mapping, 7)\n",
    "car_collected_preprocessed[5000:] = rpd.remove_cosmic_rays(car_batch3_3min_mapping, 7)"
   ]
  },
  {
   "cell_type": "markdown",
   "id": "0c3b0225-e936-46fc-8223-f135c93e9719",
   "metadata": {},
   "source": [
    "### 2"
   ]
  },
  {
   "cell_type": "code",
   "execution_count": null,
   "id": "97802aa4-5ca3-4787-a5c7-b1207c719a40",
   "metadata": {},
   "outputs": [],
   "source": [
    "thia_collected_preprocessed = np.zeros((7500, 1600))\n",
    "thia_collected_preprocessed[0:2500] = rpd.remove_cosmic_rays(thia_batch1_3min_mapping, 7)\n",
    "thia_collected_preprocessed[2500:5000] = rpd.remove_cosmic_rays(thia_batch2_3min_mapping, 7)\n",
    "thia_collected_preprocessed[5000:] = rpd.remove_cosmic_rays(thia_batch3_3min_mapping, 7)"
   ]
  },
  {
   "cell_type": "markdown",
   "id": "72ce5166-8f7f-4e94-98d1-de52ba9c68cb",
   "metadata": {},
   "source": [
    "### 4"
   ]
  },
  {
   "cell_type": "code",
   "execution_count": null,
   "id": "b7fd9114-eb33-4995-81cc-b7c62d9d9461",
   "metadata": {},
   "outputs": [],
   "source": [
    "aceta_collected_preprocessed = np.zeros((7500, 1600))\n",
    "aceta_collected_preprocessed[0:2500] = rpd.remove_cosmic_rays(aceta_batch1_3min_mapping, 7)\n",
    "aceta_collected_preprocessed[2500:5000] = rpd.remove_cosmic_rays(aceta_batch2_3min_mapping, 7)\n",
    "aceta_collected_preprocessed[5000:] = rpd.remove_cosmic_rays(aceta_batch3_3min_mapping, 7)"
   ]
  },
  {
   "cell_type": "markdown",
   "id": "554d35bc-fbd1-4467-802c-0a384685dc53",
   "metadata": {},
   "source": [
    "### 1 + 2"
   ]
  },
  {
   "cell_type": "code",
   "execution_count": null,
   "id": "8577df63-ed99-4f68-a33a-ba4ec0986dea",
   "metadata": {},
   "outputs": [],
   "source": [
    "car_thia_collected_preprocessed = np.zeros((7500, 1600))\n",
    "car_thia_collected_preprocessed[0:2500] = rpd.remove_cosmic_rays(car_thia_batch1_3min_mapping, 7)\n",
    "car_thia_collected_preprocessed[2500:5000] = rpd.remove_cosmic_rays(car_thia_batch2_3min_mapping, 7)\n",
    "car_thia_collected_preprocessed[5000:] = rpd.remove_cosmic_rays(car_thia_batch3_3min_mapping, 7)"
   ]
  },
  {
   "cell_type": "markdown",
   "id": "ab44376c-857f-45a9-9a05-d1fe176d6529",
   "metadata": {},
   "source": [
    "### 1 + 4"
   ]
  },
  {
   "cell_type": "code",
   "execution_count": null,
   "id": "b1fea125-8244-4d22-abff-7bde1fe7d93e",
   "metadata": {},
   "outputs": [],
   "source": [
    "car_aceta_collected_preprocessed = np.zeros((7500, 1600))\n",
    "car_aceta_collected_preprocessed[0:2500] = rpd.remove_cosmic_rays(car_aceta_batch1_3min_mapping, 7)\n",
    "car_aceta_collected_preprocessed[2500:5000] = rpd.remove_cosmic_rays(car_aceta_batch2_3min_mapping, 7)\n",
    "car_aceta_collected_preprocessed[5000:] = rpd.remove_cosmic_rays(car_aceta_batch3_3min_mapping, 7)"
   ]
  },
  {
   "cell_type": "markdown",
   "id": "88a4989b-4b05-49c6-879d-f0c8a69d1b92",
   "metadata": {},
   "source": [
    "### 2 + 4"
   ]
  },
  {
   "cell_type": "code",
   "execution_count": null,
   "id": "88babbae-ea87-4360-b33b-d1fee0675be7",
   "metadata": {},
   "outputs": [],
   "source": [
    "thia_aceta_collected_preprocessed = np.zeros((7168, 1600))\n",
    "thia_aceta_collected_preprocessed[0:2500] = rpd.remove_cosmic_rays(car_batch1_3min_mapping, 7)\n",
    "thia_aceta_collected_preprocessed[2500:5000] = rpd.remove_cosmic_rays(car_batch2_3min_mapping, 7)\n",
    "thia_aceta_collected_preprocessed[5000:] = rpd.remove_cosmic_rays(car_batch3_3min_mapping, 7)"
   ]
  },
  {
   "cell_type": "markdown",
   "id": "e001532f-815a-489b-85ba-ab5fac929e24",
   "metadata": {},
   "source": [
    "### 1 + 2 + 4"
   ]
  },
  {
   "cell_type": "code",
   "execution_count": null,
   "id": "6aa90de9-4a29-4869-86bc-749e034a9df8",
   "metadata": {},
   "outputs": [],
   "source": [
    "car_thia_aceta_collected_preprocessed = np.zeros((7500, 1600))\n",
    "car_thia_aceta_collected_preprocessed[0:2500] = rpd.remove_cosmic_rays(car_batch1_3min_mapping, 7)\n",
    "car_thia_aceta_collected_preprocessed[2500:5000] = rpd.remove_cosmic_rays(car_batch2_3min_mapping, 7)\n",
    "car_thia_aceta_collected_preprocessed[5000:] = rpd.remove_cosmic_rays(car_batch3_3min_mapping, 7)"
   ]
  },
  {
   "cell_type": "code",
   "execution_count": null,
   "id": "b3b8b4c9-0590-4e8f-954c-91f783c9a30b",
   "metadata": {},
   "outputs": [],
   "source": []
  },
  {
   "cell_type": "markdown",
   "id": "496fdd29-6d4f-4193-836e-df7582b701ae",
   "metadata": {},
   "source": [
    "### SVD on 1 (1 as in quantity not as 1 in Carbendazim) analyte"
   ]
  },
  {
   "cell_type": "code",
   "execution_count": 18,
   "id": "eaba6f7a-1330-4dec-b133-fe7bce876a38",
   "metadata": {},
   "outputs": [
    {
     "data": {
      "text/plain": [
       "(7168, 1600)"
      ]
     },
     "execution_count": 18,
     "metadata": {},
     "output_type": "execute_result"
    }
   ],
   "source": [
    "car_collected_preprocessed = np.zeros((7500, 1600))\n",
    "car_collected_preprocessed[0:2500] = rpd.remove_cosmic_rays(car_batch1_3min_mapping, 7)\n",
    "car_collected_preprocessed[2500:5000] = rpd.remove_cosmic_rays(car_batch2_3min_mapping, 7)\n",
    "car_collected_preprocessed[5000:] = rpd.remove_cosmic_rays(car_batch3_3min_mapping, 7)"
   ]
  },
  {
   "cell_type": "code",
   "execution_count": null,
   "id": "0ef01911-1061-4df9-a68b-b3b35074012b",
   "metadata": {},
   "outputs": [],
   "source": []
  }
 ],
 "metadata": {
  "kernelspec": {
   "display_name": "Python 3 (ipykernel)",
   "language": "python",
   "name": "python3"
  },
  "language_info": {
   "codemirror_mode": {
    "name": "ipython",
    "version": 3
   },
   "file_extension": ".py",
   "mimetype": "text/x-python",
   "name": "python",
   "nbconvert_exporter": "python",
   "pygments_lexer": "ipython3",
   "version": "3.10.4"
  }
 },
 "nbformat": 4,
 "nbformat_minor": 5
}
